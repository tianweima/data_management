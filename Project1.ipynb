{
 "cells": [
  {
   "cell_type": "markdown",
   "metadata": {},
   "source": [
    "# ISTM 6212 Group Porject 1"
   ]
  },
  {
   "cell_type": "markdown",
   "metadata": {},
   "source": [
    "## Group Member: Gaoyu Xie, Tianwei Ma, Yuxiang Fan, Matt Sipowicz"
   ]
  },
  {
   "cell_type": "markdown",
   "metadata": {},
   "source": [
    "### Q1: Download data file and header. If header data is not available construct one using the data dictionary link. Unzip the file."
   ]
  },
  {
   "cell_type": "code",
   "execution_count": 1,
   "metadata": {},
   "outputs": [
    {
     "name": "stdout",
     "output_type": "stream",
     "text": [
      "--2019-09-21 18:47:36--  https://www.fec.gov/files/bulk-downloads/2020/indiv20.zip\n",
      "Resolving www.fec.gov (www.fec.gov)... 99.84.216.8, 99.84.216.54, 99.84.216.78, ...\n",
      "Connecting to www.fec.gov (www.fec.gov)|99.84.216.8|:443... connected.\n",
      "HTTP request sent, awaiting response... 302 Moved Temporarily\n",
      "Location: https://cg-519a459a-0ea3-42c2-b7bc-fa1143481f74.s3-us-gov-west-1.amazonaws.com/bulk-downloads/2020/indiv20.zip [following]\n",
      "--2019-09-21 18:47:37--  https://cg-519a459a-0ea3-42c2-b7bc-fa1143481f74.s3-us-gov-west-1.amazonaws.com/bulk-downloads/2020/indiv20.zip\n",
      "Resolving cg-519a459a-0ea3-42c2-b7bc-fa1143481f74.s3-us-gov-west-1.amazonaws.com (cg-519a459a-0ea3-42c2-b7bc-fa1143481f74.s3-us-gov-west-1.amazonaws.com)... 52.95.143.40\n",
      "Connecting to cg-519a459a-0ea3-42c2-b7bc-fa1143481f74.s3-us-gov-west-1.amazonaws.com (cg-519a459a-0ea3-42c2-b7bc-fa1143481f74.s3-us-gov-west-1.amazonaws.com)|52.95.143.40|:443... connected.\n",
      "HTTP request sent, awaiting response... 200 OK\n",
      "Length: 306302197 (292M) [application/zip]\n",
      "Saving to: ‘indiv20.zip’\n",
      "\n",
      "indiv20.zip         100%[===================>] 292.11M  7.95MB/s    in 32s     \n",
      "\n",
      "2019-09-21 18:48:09 (9.11 MB/s) - ‘indiv20.zip’ saved [306302197/306302197]\n",
      "\n"
     ]
    }
   ],
   "source": [
    "!wget https://www.fec.gov/files/bulk-downloads/2020/indiv20.zip"
   ]
  },
  {
   "cell_type": "code",
   "execution_count": 2,
   "metadata": {},
   "outputs": [
    {
     "name": "stdout",
     "output_type": "stream",
     "text": [
      "Archive:  indiv20.zip\n",
      "  inflating: itcont.txt              \n",
      "  inflating: by_date/itcont_2020_20010425_20190425.txt  \n",
      "  inflating: by_date/itcont_2020_20190426_20190629.txt  \n",
      "  inflating: by_date/itcont_2020_20190630_20190911.txt  \n",
      "  inflating: by_date/itcont_2020_invalid_dates.txt  \n"
     ]
    }
   ],
   "source": [
    "!unzip indiv20.zip"
   ]
  },
  {
   "cell_type": "markdown",
   "metadata": {},
   "source": [
    "#### With all files downloaded, we also need the header file for the future merged csv file."
   ]
  },
  {
   "cell_type": "code",
   "execution_count": 3,
   "metadata": {},
   "outputs": [
    {
     "name": "stdout",
     "output_type": "stream",
     "text": [
      "--2019-09-21 19:00:35--  https://www.fec.gov/files/bulk-downloads/data_dictionaries/indiv_header_file.csv\n",
      "Resolving www.fec.gov (www.fec.gov)... 13.249.44.119, 13.249.44.3, 13.249.44.50, ...\n",
      "Connecting to www.fec.gov (www.fec.gov)|13.249.44.119|:443... connected.\n",
      "HTTP request sent, awaiting response... 302 Moved Temporarily\n",
      "Location: https://cg-519a459a-0ea3-42c2-b7bc-fa1143481f74.s3-us-gov-west-1.amazonaws.com/bulk-downloads/data_dictionaries/indiv_header_file.csv [following]\n",
      "--2019-09-21 19:00:35--  https://cg-519a459a-0ea3-42c2-b7bc-fa1143481f74.s3-us-gov-west-1.amazonaws.com/bulk-downloads/data_dictionaries/indiv_header_file.csv\n",
      "Resolving cg-519a459a-0ea3-42c2-b7bc-fa1143481f74.s3-us-gov-west-1.amazonaws.com (cg-519a459a-0ea3-42c2-b7bc-fa1143481f74.s3-us-gov-west-1.amazonaws.com)... 52.95.142.20\n",
      "Connecting to cg-519a459a-0ea3-42c2-b7bc-fa1143481f74.s3-us-gov-west-1.amazonaws.com (cg-519a459a-0ea3-42c2-b7bc-fa1143481f74.s3-us-gov-west-1.amazonaws.com)|52.95.142.20|:443... connected.\n",
      "HTTP request sent, awaiting response... 200 OK\n",
      "Length: 204 [binary/octet-stream]\n",
      "Saving to: ‘indiv_header_file.csv’\n",
      "\n",
      "indiv_header_file.c 100%[===================>]     204  --.-KB/s    in 0s      \n",
      "\n",
      "2019-09-21 19:00:35 (8.98 MB/s) - ‘indiv_header_file.csv’ saved [204/204]\n",
      "\n"
     ]
    }
   ],
   "source": [
    "!wget https://www.fec.gov/files/bulk-downloads/data_dictionaries/indiv_header_file.csv"
   ]
  },
  {
   "cell_type": "markdown",
   "metadata": {},
   "source": [
    "#### This file contains data from 2001 to 2019, but we only need data in 2019-2020, so we elimiate date from 2001/04/25 to 2018/12/31."
   ]
  },
  {
   "cell_type": "code",
   "execution_count": 7,
   "metadata": {},
   "outputs": [],
   "source": [
    "!csvformat -d \"|\" by_date/itcont_2020_20010425_20190425.txt > _2020_20010425_20190425.csv"
   ]
  },
  {
   "cell_type": "code",
   "execution_count": 1,
   "metadata": {},
   "outputs": [],
   "source": [
    "!csvgrep -c 14 -r \"$2019\" _2020_20010425_20190425.csv > _2020_20190101_20190425.csv"
   ]
  },
  {
   "cell_type": "markdown",
   "metadata": {},
   "source": [
    "#### Transfer .txt files into .csv files."
   ]
  },
  {
   "cell_type": "code",
   "execution_count": 5,
   "metadata": {},
   "outputs": [
    {
     "name": "stdout",
     "output_type": "stream",
     "text": [
      "CSV contains fields longer than maximum length of 131072 characters. Try raising the maximum with the field_size_limit parameter, or try setting quoting=csv.QUOTE_NONE.\n"
     ]
    }
   ],
   "source": [
    "!csvformat -d \"|\" by_date/itcont_2020_20190426_20190629.txt > _2020_20190426_20190629.csv"
   ]
  },
  {
   "cell_type": "code",
   "execution_count": 7,
   "metadata": {},
   "outputs": [],
   "source": [
    "!csvformat -d \"|\" by_date/itcont_2020_20190630_20190911.txt > _2020_20190630_20190911.csv"
   ]
  },
  {
   "cell_type": "markdown",
   "metadata": {},
   "source": [
    "### Q2: stack data files and header file into one file. Header need to be the first row. Find the number of lines in merged file."
   ]
  },
  {
   "cell_type": "code",
   "execution_count": 2,
   "metadata": {},
   "outputs": [],
   "source": [
    "!csvstack --no-header-row indiv_header_file.csv _2020_20190101_20190425.csv _2020_20190426_20190629.csv _2020_20190630_20190911.csv > total.csv "
   ]
  },
  {
   "cell_type": "markdown",
   "metadata": {},
   "source": [
    "#### Check the sum lines number of all three files, make sure the merged one is matched with this total number."
   ]
  },
  {
   "cell_type": "code",
   "execution_count": 3,
   "metadata": {},
   "outputs": [
    {
     "name": "stdout",
     "output_type": "stream",
     "text": [
      "  1960171 _2020_20190101_20190425.csv\n",
      "  1437006 _2020_20190426_20190629.csv\n",
      "   567312 _2020_20190630_20190911.csv\n",
      "  3964489 total\n"
     ]
    }
   ],
   "source": [
    "!wc -l _2020_20190101_20190425.csv _2020_20190426_20190629.csv _2020_20190630_20190911.csv "
   ]
  },
  {
   "cell_type": "code",
   "execution_count": 4,
   "metadata": {},
   "outputs": [
    {
     "name": "stdout",
     "output_type": "stream",
     "text": [
      "3964491 total.csv\n"
     ]
    }
   ],
   "source": [
    "!wc -l total.csv"
   ]
  },
  {
   "cell_type": "code",
   "execution_count": 5,
   "metadata": {},
   "outputs": [],
   "source": [
    "!touch group1.csv"
   ]
  },
  {
   "cell_type": "markdown",
   "metadata": {},
   "source": [
    "#### With no header option, the csvstack will put an additional default header in the stack file. So we delete the first rows that is unnecessary."
   ]
  },
  {
   "cell_type": "code",
   "execution_count": 6,
   "metadata": {},
   "outputs": [],
   "source": [
    "!sed '1d' total.csv >> group1.csv"
   ]
  },
  {
   "cell_type": "markdown",
   "metadata": {},
   "source": [
    "#### Count the number of lines of the stack file"
   ]
  },
  {
   "cell_type": "code",
   "execution_count": 7,
   "metadata": {},
   "outputs": [
    {
     "name": "stdout",
     "output_type": "stream",
     "text": [
      "3964490 group1.csv\n"
     ]
    }
   ],
   "source": [
    "!wc -l group1.csv"
   ]
  },
  {
   "cell_type": "markdown",
   "metadata": {},
   "source": [
    "#### The total number of lines has just one more than original three files' total, because the header is added."
   ]
  },
  {
   "cell_type": "markdown",
   "metadata": {},
   "source": [
    "### Q3: extract into a new file the fields: cmte_id, transaction_pgi, entity_tp, name, city, state, zip, employer, transaction_dt, transaction_amt. Generate column stats (csvstat)"
   ]
  },
  {
   "cell_type": "markdown",
   "metadata": {},
   "source": [
    "#### Picked out all requested columns and paste into a new file \"group2.csv\"."
   ]
  },
  {
   "cell_type": "code",
   "execution_count": 8,
   "metadata": {},
   "outputs": [],
   "source": [
    "!csvcut -c CMTE_ID,TRANSACTION_PGI,ENTITY_TP,NAME,CITY,STATE,ZIP_CODE,EMPLOYER,TRANSACTION_DT,TRANSACTION_AMT group1.csv > group2.csv"
   ]
  },
  {
   "cell_type": "markdown",
   "metadata": {},
   "source": [
    "#### Since our file is too large, we couldn't use csvstat directely, it showed nothing. Therefore, we first use the head to get the first few rows of file, and then have a generate view of the data file using csvstat "
   ]
  },
  {
   "cell_type": "code",
   "execution_count": 9,
   "metadata": {},
   "outputs": [
    {
     "name": "stdout",
     "output_type": "stream",
     "text": [
      "  1. \"CMTE_ID\"\n",
      "\n",
      "\tType of data:          Text\n",
      "\tContains null values:  False\n",
      "\tUnique values:         4\n",
      "\tLongest value:         9 characters\n",
      "\tMost common values:    C00638478 (5x)\n",
      "\t                       C00432906 (2x)\n",
      "\t                       C00640870 (1x)\n",
      "\t                       C00428110 (1x)\n",
      "\n",
      "  2. \"TRANSACTION_PGI\"\n",
      "\n",
      "\tType of data:          Text\n",
      "\tContains null values:  False\n",
      "\tUnique values:         1\n",
      "\tLongest value:         1 characters\n",
      "\tMost common values:    P (9x)\n",
      "\n",
      "  3. \"ENTITY_TP\"\n",
      "\n",
      "\tType of data:          Text\n",
      "\tContains null values:  False\n",
      "\tUnique values:         2\n",
      "\tLongest value:         3 characters\n",
      "\tMost common values:    CAN (5x)\n",
      "\t                       IND (4x)\n",
      "\n",
      "  4. \"NAME\"\n",
      "\n",
      "\tType of data:          Text\n",
      "\tContains null values:  False\n",
      "\tUnique values:         5\n",
      "\tLongest value:         19 characters\n",
      "\tMost common values:    JANOWICZ, PHILIP (4x)\n",
      "\t                       LEMUNYON, GLENN (2x)\n",
      "\t                       RICHARDSON, CHARDO (1x)\n",
      "\t                       STEVENS, RICHARD (1x)\n",
      "\t                       PILLA, JOHN ANTHONY (1x)\n",
      "\n",
      "  5. \"CITY\"\n",
      "\n",
      "\tType of data:          Text\n",
      "\tContains null values:  False\n",
      "\tUnique values:         5\n",
      "\tLongest value:         11 characters\n",
      "\tMost common values:    BUENA PARK (4x)\n",
      "\t                       WASHINGTON (2x)\n",
      "\t                       LONGWOOD (1x)\n",
      "\t                       DIAMOND BAR (1x)\n",
      "\t                       WICHITA (1x)\n",
      "\n",
      "  6. \"STATE\"\n",
      "\n",
      "\tType of data:          Text\n",
      "\tContains null values:  False\n",
      "\tUnique values:         4\n",
      "\tLongest value:         2 characters\n",
      "\tMost common values:    CA (5x)\n",
      "\t                       DC (2x)\n",
      "\t                       FL (1x)\n",
      "\t                       KS (1x)\n",
      "\n",
      "  7. \"ZIP_CODE\"\n",
      "\n",
      "\tType of data:          Number\n",
      "\tContains null values:  False\n",
      "\tUnique values:         5\n",
      "\tSmallest value:        20,002\n",
      "\tLargest value:         917,653,902\n",
      "\tSum:                   4,870,113,276\n",
      "\tMean:                  541,123,697.333\n",
      "\tMedian:                906,211,685\n",
      "\tStDev:                 447,058,896.998\n",
      "\tMost common values:    906,211,685 (4x)\n",
      "\t                       20,002 (2x)\n",
      "\t                       327,505,420 (1x)\n",
      "\t                       917,653,902 (1x)\n",
      "\t                       67,210 (1x)\n",
      "\n",
      "  8. \"EMPLOYER\"\n",
      "\n",
      "\tType of data:          Text\n",
      "\tContains null values:  True (excluded from calculations)\n",
      "\tUnique values:         5\n",
      "\tLongest value:         24 characters\n",
      "\tMost common values:    FRIENDS OF PHIL JANOWICZ (4x)\n",
      "\t                       None (2x)\n",
      "\t                       INFORMATION REQUESTED (1x)\n",
      "\t                       NOT EMPLOYED (1x)\n",
      "\t                       SPIRIT AEROSYSTEMS INC (1x)\n",
      "\n",
      "  9. \"TRANSACTION_DT\"\n",
      "\n",
      "\tType of data:          Number\n",
      "\tContains null values:  False\n",
      "\tUnique values:         5\n",
      "\tSmallest value:        1,102,019\n",
      "\tLargest value:         1,282,019\n",
      "\tSum:                   11,088,171\n",
      "\tMean:                  1,232,019\n",
      "\tMedian:                1,252,019\n",
      "\tStDev:                 63,639.61\n",
      "\tMost common values:    1,282,019 (4x)\n",
      "\t                       1,182,019 (2x)\n",
      "\t                       1,242,019 (1x)\n",
      "\t                       1,252,019 (1x)\n",
      "\t                       1,102,019 (1x)\n",
      "\n",
      " 10. \"TRANSACTION_AMT\"\n",
      "\n",
      "\tType of data:          Number\n",
      "\tContains null values:  False\n",
      "\tUnique values:         9\n",
      "\tSmallest value:        -500\n",
      "\tLargest value:         59,816\n",
      "\tSum:                   178,092\n",
      "\tMean:                  19,788\n",
      "\tMedian:                500\n",
      "\tStDev:                 24,668.908\n",
      "\tMost common values:    500 (1x)\n",
      "\t                       -500 (1x)\n",
      "\t                       35,000 (1x)\n",
      "\t                       76 (1x)\n",
      "\t                       -50 (1x)\n",
      "\n",
      "Row count: 9\n"
     ]
    }
   ],
   "source": [
    "!head group2.csv | csvcut -c 1,2,3,4,5,6,7,8,9,10 | csvstat"
   ]
  },
  {
   "cell_type": "markdown",
   "metadata": {},
   "source": [
    "### Q4: using output of from question 3, sort based on cand_id or cmte_id and show the result using csvlook. Only the first 15 rows need to be shown."
   ]
  },
  {
   "cell_type": "code",
   "execution_count": 21,
   "metadata": {},
   "outputs": [
    {
     "name": "stdout",
     "output_type": "stream",
     "text": [
      "sort: write failed: 'standard output': Broken pipe\n",
      "sort: write error\n",
      "| C00000059 | P | IND | ALDERSON, MONICA F MRS.   | PARKVILLE             | MO |   641528703 | HALLMARK CARDS, INC.              |  08312019 |  37 |\n",
      "| --------- | - | --- | ------------------------- | --------------------- | -- | ----------- | --------------------------------- | --------- | --- |\n",
      "| C00000059 | P | IND | ALLMAN, ELIZABETH A. MRS. | KANSAS CITY           | MO | 641,161,664 | HALLMARK MARKETING COMPANY, LLC   | 8,312,019 |  37 |\n",
      "| C00000059 | P | IND | ANDERSON, SALLY ANNE MRS. | VILLAGE OF LOCH LLOYD | MO | 640,124,166 | HALLMARK CARDS, INC.              | 8,312,019 |  40 |\n",
      "| C00000059 | P | IND | ANGELL, TRESSA D. MRS.    | SHAWNEE               | KS | 662,262,844 | HALLMARK MARKETING COMPANY, LLC   | 8,312,019 |  37 |\n",
      "| C00000059 | P | IND | ARN, DWIGHT CALVIN MR.    | OVERLAND PARK         | KS | 662,123,448 | HALLMARK CARDS, INC.              | 4,302,019 |  67 |\n",
      "| C00000059 | P | IND | ARN, DWIGHT CALVIN MR.    | OVERLAND PARK         | KS | 662,123,448 | HALLMARK CARDS, INC.              | 5,312,019 |  45 |\n",
      "| C00000059 | P | IND | ARN, DWIGHT CALVIN MR.    | OVERLAND PARK         | KS | 662,123,448 | HALLMARK CARDS, INC.              | 6,302,019 |  45 |\n",
      "| C00000059 | P | IND | ARN, DWIGHT CALVIN MR.    | OVERLAND PARK         | KS | 662,123,448 | HALLMARK CARDS, INC.              | 7,312,019 |  22 |\n",
      "| C00000059 | P | IND | ARN, DWIGHT CALVIN MR.    | OVERLAND PARK         | KS | 662,123,448 | HALLMARK CARDS, INC.              | 8,312,019 |  67 |\n",
      "| C00000059 | P | IND | BARNETT, JAMES ODELL MR.  | SILOAM SPRINGS        | AR | 727,615,366 | HALLMARK MANAGEMENT SERVICES, LLC | 5,312,019 |  40 |\n",
      "| C00000059 | P | IND | BARNETT, JAMES ODELL MR.  | SILOAM SPRINGS        | AR | 727,615,366 | HALLMARK MANAGEMENT SERVICES, LLC | 6,302,019 |  40 |\n",
      "| C00000059 | P | IND | BARNETT, JAMES ODELL MR.  | SILOAM SPRINGS        | AR | 727,615,366 | HALLMARK MANAGEMENT SERVICES, LLC | 7,312,019 |  20 |\n",
      "| C00000059 | P | IND | BARNETT, JAMES ODELL MR.  | SILOAM SPRINGS        | AR | 727,615,366 | HALLMARK MANAGEMENT SERVICES, LLC | 8,312,019 |  60 |\n",
      "| C00000059 | P | IND | BAXTER, JENNI LEA MRS.    | KANSAS CITY           | MO | 641,551,968 | HALLMARK MARKETING COMPANY, LLC   | 3,312,019 | 120 |\n",
      "| C00000059 | P | IND | BAXTER, JENNI LEA MRS.    | KANSAS CITY           | MO | 641,551,968 | HALLMARK MARKETING COMPANY, LLC   | 4,302,019 | 120 |\n"
     ]
    }
   ],
   "source": [
    "!sort group2.csv | head -n 15 | csvlook "
   ]
  },
  {
   "cell_type": "markdown",
   "metadata": {},
   "source": [
    "#### Note: We have tried \"csvsort\" to sort the data, but it did not give out a result of our question (we believe the reason is our file too big to generate a result). So we instead use \"sort\" in this questions (and we picked only first 50k lines to run the code for answering the question because the merged one is too big)."
   ]
  },
  {
   "cell_type": "code",
   "execution_count": 10,
   "metadata": {},
   "outputs": [],
   "source": [
    "!csvcut group2.csv | head -n 50000 > group2_50000.csv"
   ]
  },
  {
   "cell_type": "code",
   "execution_count": 11,
   "metadata": {},
   "outputs": [
    {
     "name": "stdout",
     "output_type": "stream",
     "text": [
      "cat: write error: Broken pipe\n",
      "| CMTE_ID   | TRANSACTION_PGI | ENTITY_TP | NAME                  | CITY         | STATE |    ZIP_CODE | EMPLOYER                 | TRANSACTION_DT | TRANSACTION_AMT |\n",
      "| --------- | --------------- | --------- | --------------------- | ------------ | ----- | ----------- | ------------------------ | -------------- | --------------- |\n",
      "| C00432906 | P               | IND       | LEMUNYON, GLENN       | WASHINGTON   | DC    |      20,002 |                          |      1,182,019 |             500 |\n",
      "| C00432906 | P               | IND       | LEMUNYON, GLENN       | WASHINGTON   | DC    |      20,002 |                          |      1,182,019 |            -500 |\n",
      "| C00638478 | P               | CAN       | JANOWICZ, PHILIP      | BUENA PARK   | CA    | 906,211,685 | FRIENDS OF PHIL JANOWICZ |      1,282,019 |          35,000 |\n",
      "| C00640870 | P               | CAN       | RICHARDSON, CHARDO    | LONGWOOD     | FL    | 327,505,420 | INFORMATION REQUESTED    |      1,242,019 |              76 |\n",
      "| C00638478 | P               | IND       | STEVENS, RICHARD      | DIAMOND BAR  | CA    | 917,653,902 | NOT EMPLOYED             |      1,252,019 |             -50 |\n",
      "| C00638478 | P               | CAN       | JANOWICZ, PHILIP      | BUENA PARK   | CA    | 906,211,685 | FRIENDS OF PHIL JANOWICZ |      1,282,019 |          59,816 |\n",
      "| C00638478 | P               | CAN       | JANOWICZ, PHILIP      | BUENA PARK   | CA    | 906,211,685 | FRIENDS OF PHIL JANOWICZ |      1,282,019 |          50,000 |\n",
      "| C00638478 | P               | CAN       | JANOWICZ, PHILIP      | BUENA PARK   | CA    | 906,211,685 | FRIENDS OF PHIL JANOWICZ |      1,282,019 |          33,000 |\n",
      "| C00428110 | P               | IND       | PILLA, JOHN ANTHONY   | WICHITA      | KS    |      67,210 | SPIRIT AEROSYSTEMS INC   |      1,102,019 |             250 |\n",
      "| C00428110 | P               | IND       | GENTILE, THOMAS C     | WICHITA      | KS    |      67,210 | SPIRIT AEROSYSTEMS INC   |      1,102,019 |             416 |\n",
      "| C00428110 | P               | IND       | HAWKINS, DUANE F      | WICHITA      | KS    |      67,210 | SPIRIT AEROSYSTEMS INC   |      1,102,019 |             250 |\n",
      "| C00428110 | P               | IND       | KONDROTIS, KRISSTIE A | WICHITA      | KS    |      67,210 | SPIRIT AEROSYSTEMS INC   |      1,102,019 |             250 |\n",
      "| C00428110 | P               | IND       | MATTHIES, KEVIN       | WICHITA      | KS    |      67,210 | SPIRIT AEROSYSTEMS INC   |      1,102,019 |             208 |\n",
      "| C00270934 | P               | IND       | GREGORY, THOMAS S     | NORTH CANTON | OH    |      44,720 | GREGORY INDUSTRIES       |      1,012,019 |           1,100 |\n"
     ]
    }
   ],
   "source": [
    "!cat group2_50000.csv | head -n 15 | csvlook #To take a look on what the file with 50000 lines looks like."
   ]
  },
  {
   "cell_type": "code",
   "execution_count": 12,
   "metadata": {},
   "outputs": [
    {
     "name": "stdout",
     "output_type": "stream",
     "text": [
      "| CMTE_ID   | TRANSACTION_PGI | ENTITY_TP | NAME                                | CITY                | STATE |    ZIP_CODE | EMPLOYER                               | TRANSACTION_DT | TRANSACTION_AMT |\n",
      "| --------- | --------------- | --------- | ----------------------------------- | ------------------- | ----- | ----------- | -------------------------------------- | -------------- | --------------- |\n",
      "| C00000059 | P               | IND       | HALL, DAVID HALL 208.33 5830 OVERH  | MISSION HILLS       | KS    | 662,081,146 | 66208                                  |      1,312,019 |             416 |\n",
      "| C00000059 | P               | IND       | HALL, DONALD HALL 208.33 5930 OVERH | MISSION HILLS       | KS    | 662,081,211 | 66208                                  |      1,312,019 |             416 |\n",
      "| C00000422 | P               | IND       | SCHLECHTER, BENJAMIN MD             | WYOMISSING          | PA    | 196,103,341 | SPRING RIDGE PLASTIC SURGERY           |      1,062,019 |             208 |\n",
      "| C00000422 | P               | IND       | SCHMIEDER, GEORGE JOS DO            | ORANGE PARK         | FL    | 320,734,120 | PARK AVENUE DERMATOLOGY                |      1,062,019 |             208 |\n",
      "| C00000422 | P               | IND       | SIRIO, CARL ALEXANDER MD            | PITTSBURGH          | PA    | 152,381,834 | ALLEGHENY GENERAL HOSPITAL             |      1,062,019 |             297 |\n",
      "| C00000422 | P               | IND       | SNOOK, LEE THOS JR MD               | SACRAMENTO          | CA    | 958,211,619 | METROPOLITAN PAIN MANAGEMENT CONSULTAN |      1,062,019 |             208 |\n",
      "| C00000422 | P               | IND       | STERNFELD, WILLIAM CHAS MD          | TOLEDO              | OH    | 436,234,231 | TOLEDO CLINIC                          |      1,062,019 |             208 |\n",
      "| C00000422 | P               | IND       | TENNER, SCOTT MITCHEL MD            | EAST ATLANTIC BEACH | NY    | 115,611,132 | UNIVERSITY PHYSICIANS OF BROOKLYN INC  |      1,062,019 |             208 |\n",
      "| C00000422 | P               | IND       | TOMEI, KRYSTAL LYNNE MD             | LYNDHURST           | OH    | 441,243,762 | UH CHILDREN'S HOSPITAL                 |      1,062,019 |             208 |\n",
      "| C00000422 | P               | IND       | TUTTLE, GEORGIA ANNE MD             | LEBANON             | NH    |       3,766 | ALICE PECK DAY MEMORIAL HOSPITAL       |      1,062,019 |             208 |\n",
      "| C00000422 | P               | IND       | UNDERWOOD, WILLIE III MD            | BUFFALO             | NY    | 142,221,904 | ROSWELL PARK CANCER INSTITUTE          |      1,062,019 |             208 |\n",
      "| C00000422 | P               | IND       | WALKER, KEVIN MR.                   | WASHINGTON          | DC    | 200,017,400 | AMERICAN MEDICAL ASSOCIATION           |      1,062,019 |             208 |\n",
      "| C00000422 | P               | IND       | FITZGIBBONS, STELLA JONES MD        | THE WOODLANDS       | TX    | 773,801,070 | BRAZOS EMERGENCY PHYSICIANS ASSOCIATIO |      1,072,019 |             500 |\n",
      "| C00000422 | P               | IND       | GALLAGHER, JOHN PATRICK MD          | SHARON              | PA    | 161,462,102 | THE PRIMARY HEALTH NETWORK             |      1,072,019 |           1,000 |\n"
     ]
    }
   ],
   "source": [
    "!csvsort -c CMTE_ID group2_50000.csv | head -n 15 | csvlook "
   ]
  },
  {
   "cell_type": "markdown",
   "metadata": {},
   "source": [
    "### Q5: same as question 4 but only display rows that matched a certain candidate id or cmte id. Only the first 15 rows need to be shown."
   ]
  },
  {
   "cell_type": "code",
   "execution_count": 13,
   "metadata": {},
   "outputs": [
    {
     "name": "stdout",
     "output_type": "stream",
     "text": [
      "| CMTE_ID   | TRANSACTION_PGI | ENTITY_TP | NAME                       | CITY    | STATE | ZIP_CODE | EMPLOYER               | TRANSACTION_DT | TRANSACTION_AMT |\n",
      "| --------- | --------------- | --------- | -------------------------- | ------- | ----- | -------- | ---------------------- | -------------- | --------------- |\n",
      "| C00428110 | P               | IND       | PILLA, JOHN ANTHONY        | WICHITA | KS    |   67,210 | SPIRIT AEROSYSTEMS INC |      1,102,019 |             250 |\n",
      "| C00428110 | P               | IND       | GENTILE, THOMAS C          | WICHITA | KS    |   67,210 | SPIRIT AEROSYSTEMS INC |      1,102,019 |             416 |\n",
      "| C00428110 | P               | IND       | HAWKINS, DUANE F           | WICHITA | KS    |   67,210 | SPIRIT AEROSYSTEMS INC |      1,102,019 |             250 |\n",
      "| C00428110 | P               | IND       | KONDROTIS, KRISSTIE A      | WICHITA | KS    |   67,210 | SPIRIT AEROSYSTEMS INC |      1,102,019 |             250 |\n",
      "| C00428110 | P               | IND       | MATTHIES, KEVIN            | WICHITA | KS    |   67,210 | SPIRIT AEROSYSTEMS INC |      1,102,019 |             208 |\n",
      "| C00428110 | P               | IND       | WELNER, JUSTIN TODD        | WICHITA | KS    |   67,210 | SPIRIT AEROSYSTEMS INC |      2,072,019 |             166 |\n",
      "| C00428110 | P               | IND       | HOOVER, CYNTHIA ANN        | WICHITA | KS    |   67,210 | SPIRIT AEROSYSTEMS INC |      2,072,019 |             125 |\n",
      "| C00428110 | P               | IND       | KAPOOR, SANJAY             | WICHITA | KS    |   67,210 | SPIRIT AEROSYSTEMS INC |      2,072,019 |             105 |\n",
      "| C00428110 | P               | IND       | KRISHNASWAMY, KAILASH      | WICHITA | KS    |   67,210 | SPIRIT AEROSYSTEMS INC |      2,072,019 |             130 |\n",
      "| C00428110 | P               | IND       | LOHMEIER, MICHELLE JOY     | WICHITA | KS    |   67,210 | SPIRIT AEROSYSTEMS INC |      2,072,019 |             167 |\n",
      "| C00428110 | P               | IND       | MATTHIES, KEVIN            | WICHITA | KS    |   67,210 | SPIRIT AEROSYSTEMS INC |      2,072,019 |             208 |\n",
      "| C00428110 | P               | IND       | MCMULLEN, VICTOR RODNEY JR | WICHITA | KS    |   67,210 | SPIRIT AEROSYSTEMS INC |      2,072,019 |             167 |\n",
      "| C00428110 | P               | IND       | MILL, STACY                | WICHITA | KS    |   67,210 | SPIRIT AEROSYSTEMS INC |      2,072,019 |             125 |\n",
      "| C00428110 | P               | IND       | PERDUE, ROBERT ANTHONY     | WICHITA | KS    |   67,210 | SPIRIT AEROSYSTEMS INC |      2,072,019 |             105 |\n"
     ]
    }
   ],
   "source": [
    "!csvgrep -c1 -r \"C00428110\" group2.csv | head -n 15 | csvlook"
   ]
  },
  {
   "cell_type": "markdown",
   "metadata": {},
   "source": [
    "### Q6: use csv format to create a tab delimited output file for question 4. Quote all string fields."
   ]
  },
  {
   "cell_type": "markdown",
   "metadata": {},
   "source": [
    "#### Create a tab delimited and quote all string fields"
   ]
  },
  {
   "cell_type": "code",
   "execution_count": 14,
   "metadata": {},
   "outputs": [],
   "source": [
    "!csvformat -T -U 2 group2.csv > group3.csv "
   ]
  },
  {
   "cell_type": "markdown",
   "metadata": {},
   "source": [
    "#### Check if it transfromed into correct format"
   ]
  },
  {
   "cell_type": "code",
   "execution_count": 15,
   "metadata": {},
   "outputs": [
    {
     "name": "stdout",
     "output_type": "stream",
     "text": [
      "\"CMTE_ID\"\t\"TRANSACTION_PGI\"\t\"ENTITY_TP\"\t\"NAME\"\t\"CITY\"\t\"STATE\"\t\"ZIP_CODE\"\t\"EMPLOYER\"\t\"TRANSACTION_DT\"\t\"TRANSACTION_AMT\"\n",
      "\"C00432906\"\t\"P\"\t\"IND\"\t\"LEMUNYON, GLENN\"\t\"WASHINGTON\"\t\"DC\"\t\"20002\"\t\"\"\t\"01182019\"\t\"500\"\n",
      "\"C00432906\"\t\"P\"\t\"IND\"\t\"LEMUNYON, GLENN\"\t\"WASHINGTON\"\t\"DC\"\t\"20002\"\t\"\"\t\"01182019\"\t\"-500\"\n",
      "\"C00638478\"\t\"P\"\t\"CAN\"\t\"JANOWICZ, PHILIP\"\t\"BUENA PARK\"\t\"CA\"\t\"906211685\"\t\"FRIENDS OF PHIL JANOWICZ\"\t\"01282019\"\t\"35000\"\n",
      "\"C00640870\"\t\"P\"\t\"CAN\"\t\"RICHARDSON, CHARDO\"\t\"LONGWOOD\"\t\"FL\"\t\"327505420\"\t\"INFORMATION REQUESTED\"\t\"01242019\"\t\"76\"\n",
      "\"C00638478\"\t\"P\"\t\"IND\"\t\"STEVENS, RICHARD\"\t\"DIAMOND BAR\"\t\"CA\"\t\"917653902\"\t\"NOT EMPLOYED\"\t\"01252019\"\t\"-50\"\n",
      "\"C00638478\"\t\"P\"\t\"CAN\"\t\"JANOWICZ, PHILIP\"\t\"BUENA PARK\"\t\"CA\"\t\"906211685\"\t\"FRIENDS OF PHIL JANOWICZ\"\t\"01282019\"\t\"59816\"\n",
      "\"C00638478\"\t\"P\"\t\"CAN\"\t\"JANOWICZ, PHILIP\"\t\"BUENA PARK\"\t\"CA\"\t\"906211685\"\t\"FRIENDS OF PHIL JANOWICZ\"\t\"01282019\"\t\"50000\"\n",
      "\"C00638478\"\t\"P\"\t\"CAN\"\t\"JANOWICZ, PHILIP\"\t\"BUENA PARK\"\t\"CA\"\t\"906211685\"\t\"FRIENDS OF PHIL JANOWICZ\"\t\"01282019\"\t\"33000\"\n",
      "\"C00428110\"\t\"P\"\t\"IND\"\t\"PILLA, JOHN ANTHONY\"\t\"WICHITA\"\t\"KS\"\t\"67210\"\t\"SPIRIT AEROSYSTEMS INC\"\t\"01102019\"\t\"250\"\n",
      "cat: write error: Broken pipe\n"
     ]
    }
   ],
   "source": [
    "!cat group3.csv | head -n 10 "
   ]
  },
  {
   "cell_type": "markdown",
   "metadata": {},
   "source": [
    "### Q7:find the total number of transactions for each entity type by month (for year 2019)."
   ]
  },
  {
   "cell_type": "markdown",
   "metadata": {},
   "source": [
    "#### Select Entity_type, transaction_date from group1.csv. Using a loop and pipelines to generate the the total number of transcations for each Entity by month."
   ]
  },
  {
   "cell_type": "code",
   "execution_count": 16,
   "metadata": {},
   "outputs": [
    {
     "name": "stdout",
     "output_type": "stream",
     "text": [
      "month 01\n",
      "      1 \n",
      "    154 CAN\n",
      "      4 CCM\n",
      "     11 COM\n",
      " 293947 IND\n",
      "    238 ORG\n",
      "     15 PAC\n",
      "      2 PTY\n",
      "month 02\n",
      "      1 \n",
      "    129 CAN\n",
      "      4 CCM\n",
      "     14 COM\n",
      " 419778 IND\n",
      "    411 ORG\n",
      "     10 PAC\n",
      "month 03\n",
      "      2 \n",
      "    259 CAN\n",
      "     55 CCM\n",
      "     14 COM\n",
      " 712951 IND\n",
      "    673 ORG\n",
      "    159 PAC\n",
      "      1 PTY\n",
      "month 04\n",
      "      2 \n",
      "    317 CAN\n",
      "      5 CCM\n",
      "     17 COM\n",
      " 671069 IND\n",
      "    365 ORG\n",
      "     20 PAC\n",
      "month 05\n",
      "      3 \n",
      "    262 CAN\n",
      "     45 CCM\n",
      "     19 COM\n",
      " 598123 IND\n",
      "    444 ORG\n",
      "     38 PAC\n",
      "month 06\n",
      "      5 \n",
      "    412 CAN\n",
      "     27 CCM\n",
      "     14 COM\n",
      " 841277 IND\n",
      "    601 ORG\n",
      "    340 PAC\n",
      "      1 PTY\n",
      "month 07\n",
      "    123 CAN\n",
      "      1 CCM\n",
      "      1 COM\n",
      " 379522 IND\n",
      "    136 ORG\n",
      "     63 PAC\n",
      "      2 PTY\n",
      "month 08\n",
      "      4 CAN\n",
      "      1 CCM\n",
      "  42220 IND\n",
      "      7 ORG\n",
      "      2 PAC\n"
     ]
    }
   ],
   "source": [
    "!for m in `seq 1 8`; do echo 'month' 0$m; csvcut -c ENTITY_TP,TRANSACTION_DT group1.csv | sed '1d' | csvgrep -c 2 -r \"$2019\" | csvgrep -c 2 -r \"^0$m\" | csvcut -c 1 | sort | uniq -c | head; done"
   ]
  },
  {
   "cell_type": "code",
   "execution_count": null,
   "metadata": {},
   "outputs": [],
   "source": []
  }
 ],
 "metadata": {
  "kernelspec": {
   "display_name": "Python 3",
   "language": "python",
   "name": "python3"
  },
  "language_info": {
   "codemirror_mode": {
    "name": "ipython",
    "version": 3
   },
   "file_extension": ".py",
   "mimetype": "text/x-python",
   "name": "python",
   "nbconvert_exporter": "python",
   "pygments_lexer": "ipython3",
   "version": "3.5.3"
  }
 },
 "nbformat": 4,
 "nbformat_minor": 2
}
