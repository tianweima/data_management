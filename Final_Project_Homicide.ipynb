{
 "cells": [
  {
   "cell_type": "markdown",
   "metadata": {},
   "source": [
    "# Homicide Reports"
   ]
  },
  {
   "cell_type": "code",
   "execution_count": 13,
   "metadata": {},
   "outputs": [
    {
     "name": "stdout",
     "output_type": "stream",
     "text": [
      "The sql extension is already loaded. To reload it, use:\n",
      "  %reload_ext sql\n"
     ]
    }
   ],
   "source": [
    "%load_ext sql"
   ]
  },
  {
   "cell_type": "code",
   "execution_count": 14,
   "metadata": {},
   "outputs": [
    {
     "name": "stdout",
     "output_type": "stream",
     "text": [
      "dropdb: database removal failed: ERROR:  database \"final\" is being accessed by other users\n",
      "DETAIL:  There is 1 other session using the database.\n"
     ]
    }
   ],
   "source": [
    "!dropdb -U student final"
   ]
  },
  {
   "cell_type": "code",
   "execution_count": 3,
   "metadata": {},
   "outputs": [],
   "source": [
    "!createdb -U student final"
   ]
  },
  {
   "cell_type": "code",
   "execution_count": 4,
   "metadata": {},
   "outputs": [
    {
     "data": {
      "text/plain": [
       "'Connected: student@final'"
      ]
     },
     "execution_count": 4,
     "metadata": {},
     "output_type": "execute_result"
    }
   ],
   "source": [
    "%sql postgresql://student@/final"
   ]
  },
  {
   "cell_type": "markdown",
   "metadata": {},
   "source": [
    "## Creadting a new folder for this project"
   ]
  },
  {
   "cell_type": "code",
   "execution_count": 15,
   "metadata": {},
   "outputs": [
    {
     "name": "stdout",
     "output_type": "stream",
     "text": [
      "/home/ubuntu\n"
     ]
    }
   ],
   "source": [
    "cd .."
   ]
  },
  {
   "cell_type": "code",
   "execution_count": 16,
   "metadata": {},
   "outputs": [
    {
     "name": "stdout",
     "output_type": "stream",
     "text": [
      "/home/ubuntu\n"
     ]
    }
   ],
   "source": [
    "!pwd"
   ]
  },
  {
   "cell_type": "code",
   "execution_count": 17,
   "metadata": {},
   "outputs": [
    {
     "name": "stdout",
     "output_type": "stream",
     "text": [
      "mkdir: cannot create directory ‘Group14_Final_Project’: File exists\n"
     ]
    }
   ],
   "source": [
    "!mkdir Group14_Final_Project"
   ]
  },
  {
   "cell_type": "code",
   "execution_count": 18,
   "metadata": {},
   "outputs": [],
   "source": [
    "os.chdir(\"Group14_Final_Project\")"
   ]
  },
  {
   "cell_type": "code",
   "execution_count": 19,
   "metadata": {},
   "outputs": [],
   "source": [
    "from matplotlib import pyplot as plt\n",
    "import numpy as np\n",
    "import pandas as pd"
   ]
  },
  {
   "cell_type": "markdown",
   "metadata": {},
   "source": [
    "##### We decide to wrangling our data before we normalize our dataset into tables. We have checked our data and found many unreasonable spots such as Null value, ridiculou large age, useless columns and unreasonable age range. We used Trifacta to wrangle our data. Following is our recipe:"
   ]
  },
  {
   "cell_type": "markdown",
   "metadata": {},
   "source": [
    "1. Break into rows using '\\n' as a delimiter\n",
    "2. Split column1 into 20 columns on \",\"\n",
    "3. Convert row 1 to header\n",
    "4. Delete rows where (950<={Victim Age})&&({Victim Age})<1000)\n",
    "5. Delete rows where (0<={Perpetrator Age})&&({Prepetrator Age}<5)\n",
    "6. Keep rows where (5<={Perpetrator Age})&&({Perpetrator Age})<=99）\n",
    "7. Delete Record ID\n",
    "8. Delete Victim Ethnicity\n",
    "9. Delete Perpetrator Ethnicity\n",
    "10. Delete Record Source"
   ]
  },
  {
   "cell_type": "markdown",
   "metadata": {},
   "source": [
    "## Downloading Dataset"
   ]
  },
  {
   "cell_type": "markdown",
   "metadata": {},
   "source": [
    "##### After we wrangleing our data, the size of our dataset reduced to 74.28MB, which is satisfied for the requirement. We uploaded the dataset to S3 storage, which allows any users to download the tidied data."
   ]
  },
  {
   "cell_type": "code",
   "execution_count": 20,
   "metadata": {},
   "outputs": [
    {
     "name": "stdout",
     "output_type": "stream",
     "text": [
      "--2019-12-01 18:05:30--  https://gaoyux-2019.s3.amazonaws.com/newhomi1.csv\n",
      "Resolving gaoyux-2019.s3.amazonaws.com (gaoyux-2019.s3.amazonaws.com)... 52.216.226.16\n",
      "Connecting to gaoyux-2019.s3.amazonaws.com (gaoyux-2019.s3.amazonaws.com)|52.216.226.16|:443... connected.\n",
      "HTTP request sent, awaiting response... 200 OK\n",
      "Length: 77892377 (74M) [text/csv]\n",
      "Saving to: ‘newhomi1.csv’\n",
      "\n",
      "newhomi1.csv        100%[===================>]  74.28M  57.5MB/s    in 1.3s    \n",
      "\n",
      "2019-12-01 18:05:31 (57.5 MB/s) - ‘newhomi1.csv’ saved [77892377/77892377]\n",
      "\n"
     ]
    }
   ],
   "source": [
    "!wget https://gaoyux-2019.s3.amazonaws.com/newhomi1.csv"
   ]
  },
  {
   "cell_type": "code",
   "execution_count": 21,
   "metadata": {},
   "outputs": [
    {
     "name": "stdout",
     "output_type": "stream",
     "text": [
      "\"Agency Code\",\"Agency Name\",\"Agency Type\",\"City\",\"State\",\"Year\",\"Month\",\"Incident\",\"Crime Type\",\"Crime Solved\",\"Victim Sex\",\"Victim Age\",\"Victim Race\",\"Perpetrator Sex\",\"Perpetrator Age\",\"Perpetrator Race\",\"Relationship\",\"Weapon\",\"Victim Count\",\"Perpetrator Count\"\n",
      "\"AK00101\",\"Anchorage\",\"Municipal Police\",\"Anchorage\",\"Alaska\",\"1980\",\"January\",\"1\",\"Murder or Manslaughter\",\"Yes\",\"Male\",\"14\",\"Native American/Alaska Native\",\"Male\",\"15\",\"Native American/Alaska Native\",\"Acquaintance\",\"Blunt Object\",\"0\",\"0\"\n",
      "\"AK00101\",\"Anchorage\",\"Municipal Police\",\"Anchorage\",\"Alaska\",\"1980\",\"March\",\"1\",\"Murder or Manslaughter\",\"Yes\",\"Male\",\"43\",\"White\",\"Male\",\"42\",\"White\",\"Acquaintance\",\"Strangulation\",\"0\",\"0\"\n",
      "\"AK00101\",\"Anchorage\",\"Municipal Police\",\"Anchorage\",\"Alaska\",\"1980\",\"April\",\"1\",\"Murder or Manslaughter\",\"Yes\",\"Male\",\"43\",\"White\",\"Male\",\"42\",\"White\",\"Acquaintance\",\"Strangulation\",\"0\",\"0\"\n",
      "\"AK00101\",\"Anchorage\",\"Municipal Police\",\"Anchorage\",\"Alaska\",\"1980\",\"May\",\"1\",\"Murder or Manslaughter\",\"Yes\",\"Male\",\"30\",\"White\",\"Male\",\"36\",\"White\",\"Acquaintance\",\"Rifle\",\"0\",\"0\"\n",
      "\"AK00101\",\"Anchorage\",\"Municipal Police\",\"Anchorage\",\"Alaska\",\"1980\",\"May\",\"2\",\"Murder or Manslaughter\",\"Yes\",\"Female\",\"42\",\"Native American/Alaska Native\",\"Male\",\"27\",\"Black\",\"Wife\",\"Knife\",\"0\",\"0\"\n",
      "\"AK00101\",\"Anchorage\",\"Municipal Police\",\"Anchorage\",\"Alaska\",\"1980\",\"June\",\"1\",\"Murder or Manslaughter\",\"Yes\",\"Female\",\"99\",\"White\",\"Male\",\"35\",\"White\",\"Wife\",\"Knife\",\"0\",\"0\"\n",
      "\"AK00101\",\"Anchorage\",\"Municipal Police\",\"Anchorage\",\"Alaska\",\"1980\",\"June\",\"3\",\"Murder or Manslaughter\",\"Yes\",\"Male\",\"38\",\"White\",\"Male\",\"40\",\"Unknown\",\"Unknown\",\"Firearm\",\"0\",\"1\"\n",
      "\"AK00101\",\"Anchorage\",\"Municipal Police\",\"Anchorage\",\"Alaska\",\"1980\",\"July\",\"2\",\"Murder or Manslaughter\",\"Yes\",\"Male\",\"20\",\"White\",\"Male\",\"49\",\"White\",\"Stranger\",\"Shotgun\",\"0\",\"0\"\n",
      "\"AK00101\",\"Anchorage\",\"Municipal Police\",\"Anchorage\",\"Alaska\",\"1980\",\"July\",\"3\",\"Murder or Manslaughter\",\"Yes\",\"Female\",\"36\",\"Black\",\"Male\",\"39\",\"Black\",\"Girlfriend\",\"Blunt Object\",\"0\",\"0\"\n"
     ]
    }
   ],
   "source": [
    "!head -n 10 newhomi1.csv"
   ]
  },
  {
   "cell_type": "code",
   "execution_count": 22,
   "metadata": {},
   "outputs": [
    {
     "name": "stdout",
     "output_type": "stream",
     "text": [
      "421700 newhomi1.csv\n"
     ]
    }
   ],
   "source": [
    "!wc -l newhomi1.csv"
   ]
  },
  {
   "cell_type": "code",
   "execution_count": 23,
   "metadata": {},
   "outputs": [
    {
     "name": "stdout",
     "output_type": "stream",
     "text": [
      "  1. \"Agency Code\"\n",
      "\n",
      "\tType of data:          Text\n",
      "\tContains null values:  False\n",
      "\tUnique values:         899\n",
      "\tLongest value:         7 characters\n",
      "\tMost common values:    CA01942 (667x)\n",
      "\t                       FL01306 (118x)\n",
      "\t                       FL01300 (110x)\n",
      "\t                       GAAPD00 (110x)\n",
      "\t                       CA01900 (98x)\n",
      "\n",
      "  2. \"Agency Name\"\n",
      "\n",
      "\tType of data:          Text\n",
      "\tContains null values:  False\n",
      "\tUnique values:         808\n",
      "\tLongest value:         34 characters\n",
      "\tMost common values:    Los Angeles (765x)\n",
      "\t                       Miami (120x)\n",
      "\t                       Miami-Dade (110x)\n",
      "\t                       Atlanta (110x)\n",
      "\t                       Washington (102x)\n",
      "\n",
      "  3. \"Agency Type\"\n",
      "\n",
      "\tType of data:          Text\n",
      "\tContains null values:  False\n",
      "\tUnique values:         5\n",
      "\tLongest value:         16 characters\n",
      "\tMost common values:    Municipal Police (3690x)\n",
      "\t                       Sheriff (1109x)\n",
      "\t                       County Police (158x)\n",
      "\t                       State Police (36x)\n",
      "\t                       Special Police (6x)\n",
      "\n",
      "  4. \"City\"\n",
      "\n",
      "\tType of data:          Text\n",
      "\tContains null values:  False\n",
      "\tUnique values:         329\n",
      "\tLongest value:         20 characters\n",
      "\tMost common values:    Los Angeles (1056x)\n",
      "\t                       Dade (281x)\n",
      "\t                       Jefferson (133x)\n",
      "\t                       Maricopa (122x)\n",
      "\t                       Alameda (120x)\n",
      "\n",
      "  5. \"State\"\n",
      "\n",
      "\tType of data:          Text\n",
      "\tContains null values:  False\n",
      "\tUnique values:         15\n",
      "\tLongest value:         20 characters\n",
      "\tMost common values:    California (2219x)\n",
      "\t                       Florida (981x)\n",
      "\t                       Alabama (461x)\n",
      "\t                       Georgia (357x)\n",
      "\t                       Arizona (212x)\n",
      "\n",
      "  6. \"Year\"\n",
      "\n",
      "\tType of data:          Number\n",
      "\tContains null values:  False\n",
      "\tUnique values:         1\n",
      "\tSmallest value:        1,980\n",
      "\tLargest value:         1,980\n",
      "\tSum:                   9,898,020\n",
      "\tMean:                  1,980\n",
      "\tMedian:                1,980\n",
      "\tStDev:                 0\n",
      "\tMost common values:    1,980 (4999x)\n",
      "\n",
      "  7. \"Month\"\n",
      "\n",
      "\tType of data:          Date\n",
      "\tContains null values:  False\n",
      "\tUnique values:         12\n",
      "\tSmallest value:        0001-01-01\n",
      "\tLargest value:         0001-12-01\n",
      "\tMost common values:    0001-08-01 (532x)\n",
      "\t                       0001-07-01 (492x)\n",
      "\t                       0001-09-01 (427x)\n",
      "\t                       0001-06-01 (425x)\n",
      "\t                       0001-12-01 (424x)\n",
      "\n",
      "  8. \"Incident\"\n",
      "\n",
      "\tType of data:          Number\n",
      "\tContains null values:  False\n",
      "\tUnique values:         116\n",
      "\tSmallest value:        1\n",
      "\tLargest value:         123\n",
      "\tSum:                   44,500\n",
      "\tMean:                  8.902\n",
      "\tMedian:                2\n",
      "\tStDev:                 18.143\n",
      "\tMost common values:    1 (2271x)\n",
      "\t                       2 (639x)\n",
      "\t                       3 (357x)\n",
      "\t                       4 (231x)\n",
      "\t                       5 (162x)\n",
      "\n",
      "  9. \"Crime Type\"\n",
      "\n",
      "\tType of data:          Text\n",
      "\tContains null values:  False\n",
      "\tUnique values:         2\n",
      "\tLongest value:         26 characters\n",
      "\tMost common values:    Murder or Manslaughter (4916x)\n",
      "\t                       Manslaughter by Negligence (83x)\n",
      "\n",
      " 10. \"Crime Solved\"\n",
      "\n",
      "\tType of data:          Boolean\n",
      "\tContains null values:  False\n",
      "\tUnique values:         1\n",
      "\tMost common values:    True (4999x)\n",
      "\n",
      " 11. \"Victim Sex\"\n",
      "\n",
      "\tType of data:          Text\n",
      "\tContains null values:  False\n",
      "\tUnique values:         3\n",
      "\tLongest value:         7 characters\n",
      "\tMost common values:    Male (3914x)\n",
      "\t                       Female (1084x)\n",
      "\t                       Unknown (1x)\n",
      "\n",
      " 12. \"Victim Age\"\n",
      "\n",
      "\tType of data:          Number\n",
      "\tContains null values:  False\n",
      "\tUnique values:         93\n",
      "\tSmallest value:        0\n",
      "\tLargest value:         99\n",
      "\tSum:                   167,382\n",
      "\tMean:                  33.483\n",
      "\tMedian:                30\n",
      "\tStDev:                 16.385\n",
      "\tMost common values:    23 (215x)\n",
      "\t                       22 (207x)\n",
      "\t                       25 (204x)\n",
      "\t                       27 (182x)\n",
      "\t                       21 (169x)\n",
      "\n",
      " 13. \"Victim Race\"\n",
      "\n",
      "\tType of data:          Text\n",
      "\tContains null values:  False\n",
      "\tUnique values:         5\n",
      "\tLongest value:         29 characters\n",
      "\tMost common values:    White (2843x)\n",
      "\t                       Black (1985x)\n",
      "\t                       Asian/Pacific Islander (84x)\n",
      "\t                       Native American/Alaska Native (50x)\n",
      "\t                       Unknown (37x)\n",
      "\n",
      " 14. \"Perpetrator Sex\"\n",
      "\n",
      "\tType of data:          Text\n",
      "\tContains null values:  False\n",
      "\tUnique values:         2\n",
      "\tLongest value:         6 characters\n",
      "\tMost common values:    Male (4354x)\n",
      "\t                       Female (645x)\n",
      "\n",
      " 15. \"Perpetrator Age\"\n",
      "\n",
      "\tType of data:          Number\n",
      "\tContains null values:  False\n",
      "\tUnique values:         85\n",
      "\tSmallest value:        6\n",
      "\tLargest value:         99\n",
      "\tSum:                   156,644\n",
      "\tMean:                  31.335\n",
      "\tMedian:                28\n",
      "\tStDev:                 12.678\n",
      "\tMost common values:    23 (219x)\n",
      "\t                       22 (218x)\n",
      "\t                       25 (212x)\n",
      "\t                       21 (207x)\n",
      "\t                       19 (201x)\n",
      "\n",
      " 16. \"Perpetrator Race\"\n",
      "\n",
      "\tType of data:          Text\n",
      "\tContains null values:  False\n",
      "\tUnique values:         5\n",
      "\tLongest value:         29 characters\n",
      "\tMost common values:    White (2701x)\n",
      "\t                       Black (2125x)\n",
      "\t                       Asian/Pacific Islander (66x)\n",
      "\t                       Unknown (61x)\n",
      "\t                       Native American/Alaska Native (46x)\n",
      "\n",
      " 17. \"Relationship\"\n",
      "\n",
      "\tType of data:          Text\n",
      "\tContains null values:  False\n",
      "\tUnique values:         28\n",
      "\tLongest value:         20 characters\n",
      "\tMost common values:    Unknown (1417x)\n",
      "\t                       Acquaintance (1197x)\n",
      "\t                       Stranger (708x)\n",
      "\t                       Friend (308x)\n",
      "\t                       Wife (274x)\n",
      "\n",
      " 18. \"Weapon\"\n",
      "\n",
      "\tType of data:          Text\n",
      "\tContains null values:  False\n",
      "\tUnique values:         15\n",
      "\tLongest value:         13 characters\n",
      "\tMost common values:    Handgun (2357x)\n",
      "\t                       Knife (955x)\n",
      "\t                       Blunt Object (544x)\n",
      "\t                       Shotgun (438x)\n",
      "\t                       Rifle (348x)\n",
      "\n",
      " 19. \"Victim Count\"\n",
      "\n",
      "\tType of data:          Number\n",
      "\tContains null values:  False\n",
      "\tUnique values:         4\n",
      "\tSmallest value:        0\n",
      "\tLargest value:         3\n",
      "\tSum:                   384\n",
      "\tMean:                  0.077\n",
      "\tMedian:                0\n",
      "\tStDev:                 0.325\n",
      "\tMost common values:    0 (4686x)\n",
      "\t                       1 (258x)\n",
      "\t                       2 (39x)\n",
      "\t                       3 (16x)\n",
      "\n",
      " 20. \"Perpetrator Count\"\n",
      "\n",
      "\tType of data:          Number\n",
      "\tContains null values:  False\n",
      "\tUnique values:         10\n",
      "\tSmallest value:        0\n",
      "\tLargest value:         10\n",
      "\tSum:                   956\n",
      "\tMean:                  0.191\n",
      "\tMedian:                0\n",
      "\tStDev:                 0.637\n",
      "\tMost common values:    0 (4371x)\n",
      "\t                       1 (437x)\n",
      "\t                       2 (120x)\n",
      "\t                       3 (44x)\n",
      "\t                       5 (11x)\n",
      "\n",
      "Row count: 4999\n"
     ]
    }
   ],
   "source": [
    "!head -n 5000 newhomi1.csv | csvstat"
   ]
  },
  {
   "cell_type": "markdown",
   "metadata": {},
   "source": [
    "##### Based on these values, we can create the transactional table as follows:"
   ]
  },
  {
   "cell_type": "code",
   "execution_count": 24,
   "metadata": {},
   "outputs": [
    {
     "name": "stdout",
     "output_type": "stream",
     "text": [
      " * postgresql://student@/final\n",
      "Done.\n",
      "Done.\n"
     ]
    },
    {
     "data": {
      "text/plain": [
       "[]"
      ]
     },
     "execution_count": 24,
     "metadata": {},
     "output_type": "execute_result"
    }
   ],
   "source": [
    "%%sql\n",
    "DROP TABLE IF EXISTS homicide;\n",
    "\n",
    "CREATE TABLE homicide (\n",
    "    Agency_Code        VARCHAR(200) NOT NULL,\n",
    "    Agency_Name        VARCHAR(200) NOT NULL,\n",
    "    Agency_Type        VARCHAR(200) NOT NULL,\n",
    "    City               VARCHAR(200) NOT NULL,\n",
    "    State              VARCHAR(200) NOT NULL,\n",
    "    Year               numeric(4) NOT NULL,\n",
    "    Month              varchar(10) NOT NULL,\n",
    "    Incident           numeric(3) NOT NULL,\n",
    "    Crime_Type         VARCHAR(200) NOT NULL,\n",
    "    Crime_Solved       VARCHAR(200) NOT NULL,\n",
    "    Victim_Sex         VARCHAR(200) NOT NULL,\n",
    "    Victim_Age         numeric(3) NOT NULL,\n",
    "    Victim_Race        VARCHAR(200) NOT NULL,\n",
    "    Perpetrator_Sex    VARCHAR(200) NOT NULL,\n",
    "    Perpetrator_Age    numeric(3) NOT NULL ,\n",
    "    Perpetrator_Race   VARCHAR(200) NOT NULL,\n",
    "    Relationship       VARCHAR(200) NOT NULL,\n",
    "    Weapon             VARCHAR(200) NOT NULL,\n",
    "    Victim_Count       numeric(2) NOT NULL,\n",
    "    Perpetrator_Count  numeric(2) NOT NULL\n",
    "    \n",
    ");"
   ]
  },
  {
   "cell_type": "code",
   "execution_count": 25,
   "metadata": {},
   "outputs": [
    {
     "name": "stdout",
     "output_type": "stream",
     "text": [
      " * postgresql://student@/final\n",
      "421699 rows affected.\n"
     ]
    },
    {
     "data": {
      "text/plain": [
       "[]"
      ]
     },
     "execution_count": 25,
     "metadata": {},
     "output_type": "execute_result"
    }
   ],
   "source": [
    "%%sql\n",
    "COPY homicide FROM '/home/ubuntu/Group14_Final_Project/newhomi1.csv'\n",
    "CSV\n",
    "HEADER;"
   ]
  },
  {
   "cell_type": "markdown",
   "metadata": {},
   "source": [
    "##### we count rows in table and in csv file to make sure all the data has been loaded into the transactional table."
   ]
  },
  {
   "cell_type": "code",
   "execution_count": 26,
   "metadata": {},
   "outputs": [
    {
     "name": "stdout",
     "output_type": "stream",
     "text": [
      " * postgresql://student@/final\n",
      "1 rows affected.\n"
     ]
    },
    {
     "data": {
      "text/html": [
       "<table>\n",
       "    <tr>\n",
       "        <th>count</th>\n",
       "    </tr>\n",
       "    <tr>\n",
       "        <td>421699</td>\n",
       "    </tr>\n",
       "</table>"
      ],
      "text/plain": [
       "[(421699,)]"
      ]
     },
     "execution_count": 26,
     "metadata": {},
     "output_type": "execute_result"
    }
   ],
   "source": [
    "%%sql\n",
    "SELECT COUNT(*) FROM homicide;"
   ]
  },
  {
   "cell_type": "code",
   "execution_count": 27,
   "metadata": {},
   "outputs": [
    {
     "name": "stdout",
     "output_type": "stream",
     "text": [
      "421700 newhomi1.csv\n"
     ]
    }
   ],
   "source": [
    "!wc -l newhomi1.csv"
   ]
  },
  {
   "cell_type": "markdown",
   "metadata": {},
   "source": [
    "##### Let's have a look at few loaded db records to make sure the data was loaded successfully."
   ]
  },
  {
   "cell_type": "code",
   "execution_count": 28,
   "metadata": {},
   "outputs": [
    {
     "name": "stdout",
     "output_type": "stream",
     "text": [
      " * postgresql://student@/final\n",
      "10 rows affected.\n"
     ]
    },
    {
     "data": {
      "text/html": [
       "<table>\n",
       "    <tr>\n",
       "        <th>agency_code</th>\n",
       "        <th>agency_name</th>\n",
       "        <th>agency_type</th>\n",
       "        <th>city</th>\n",
       "        <th>state</th>\n",
       "        <th>year</th>\n",
       "        <th>month</th>\n",
       "        <th>incident</th>\n",
       "        <th>crime_type</th>\n",
       "        <th>crime_solved</th>\n",
       "        <th>victim_sex</th>\n",
       "        <th>victim_age</th>\n",
       "        <th>victim_race</th>\n",
       "        <th>perpetrator_sex</th>\n",
       "        <th>perpetrator_age</th>\n",
       "        <th>perpetrator_race</th>\n",
       "        <th>relationship</th>\n",
       "        <th>weapon</th>\n",
       "        <th>victim_count</th>\n",
       "        <th>perpetrator_count</th>\n",
       "    </tr>\n",
       "    <tr>\n",
       "        <td>AK00101</td>\n",
       "        <td>Anchorage</td>\n",
       "        <td>Municipal Police</td>\n",
       "        <td>Anchorage</td>\n",
       "        <td>Alaska</td>\n",
       "        <td>1980</td>\n",
       "        <td>January</td>\n",
       "        <td>1</td>\n",
       "        <td>Murder or Manslaughter</td>\n",
       "        <td>Yes</td>\n",
       "        <td>Male</td>\n",
       "        <td>14</td>\n",
       "        <td>Native American/Alaska Native</td>\n",
       "        <td>Male</td>\n",
       "        <td>15</td>\n",
       "        <td>Native American/Alaska Native</td>\n",
       "        <td>Acquaintance</td>\n",
       "        <td>Blunt Object</td>\n",
       "        <td>0</td>\n",
       "        <td>0</td>\n",
       "    </tr>\n",
       "    <tr>\n",
       "        <td>AK00101</td>\n",
       "        <td>Anchorage</td>\n",
       "        <td>Municipal Police</td>\n",
       "        <td>Anchorage</td>\n",
       "        <td>Alaska</td>\n",
       "        <td>1980</td>\n",
       "        <td>March</td>\n",
       "        <td>1</td>\n",
       "        <td>Murder or Manslaughter</td>\n",
       "        <td>Yes</td>\n",
       "        <td>Male</td>\n",
       "        <td>43</td>\n",
       "        <td>White</td>\n",
       "        <td>Male</td>\n",
       "        <td>42</td>\n",
       "        <td>White</td>\n",
       "        <td>Acquaintance</td>\n",
       "        <td>Strangulation</td>\n",
       "        <td>0</td>\n",
       "        <td>0</td>\n",
       "    </tr>\n",
       "    <tr>\n",
       "        <td>AK00101</td>\n",
       "        <td>Anchorage</td>\n",
       "        <td>Municipal Police</td>\n",
       "        <td>Anchorage</td>\n",
       "        <td>Alaska</td>\n",
       "        <td>1980</td>\n",
       "        <td>April</td>\n",
       "        <td>1</td>\n",
       "        <td>Murder or Manslaughter</td>\n",
       "        <td>Yes</td>\n",
       "        <td>Male</td>\n",
       "        <td>43</td>\n",
       "        <td>White</td>\n",
       "        <td>Male</td>\n",
       "        <td>42</td>\n",
       "        <td>White</td>\n",
       "        <td>Acquaintance</td>\n",
       "        <td>Strangulation</td>\n",
       "        <td>0</td>\n",
       "        <td>0</td>\n",
       "    </tr>\n",
       "    <tr>\n",
       "        <td>AK00101</td>\n",
       "        <td>Anchorage</td>\n",
       "        <td>Municipal Police</td>\n",
       "        <td>Anchorage</td>\n",
       "        <td>Alaska</td>\n",
       "        <td>1980</td>\n",
       "        <td>May</td>\n",
       "        <td>1</td>\n",
       "        <td>Murder or Manslaughter</td>\n",
       "        <td>Yes</td>\n",
       "        <td>Male</td>\n",
       "        <td>30</td>\n",
       "        <td>White</td>\n",
       "        <td>Male</td>\n",
       "        <td>36</td>\n",
       "        <td>White</td>\n",
       "        <td>Acquaintance</td>\n",
       "        <td>Rifle</td>\n",
       "        <td>0</td>\n",
       "        <td>0</td>\n",
       "    </tr>\n",
       "    <tr>\n",
       "        <td>AK00101</td>\n",
       "        <td>Anchorage</td>\n",
       "        <td>Municipal Police</td>\n",
       "        <td>Anchorage</td>\n",
       "        <td>Alaska</td>\n",
       "        <td>1980</td>\n",
       "        <td>May</td>\n",
       "        <td>2</td>\n",
       "        <td>Murder or Manslaughter</td>\n",
       "        <td>Yes</td>\n",
       "        <td>Female</td>\n",
       "        <td>42</td>\n",
       "        <td>Native American/Alaska Native</td>\n",
       "        <td>Male</td>\n",
       "        <td>27</td>\n",
       "        <td>Black</td>\n",
       "        <td>Wife</td>\n",
       "        <td>Knife</td>\n",
       "        <td>0</td>\n",
       "        <td>0</td>\n",
       "    </tr>\n",
       "    <tr>\n",
       "        <td>AK00101</td>\n",
       "        <td>Anchorage</td>\n",
       "        <td>Municipal Police</td>\n",
       "        <td>Anchorage</td>\n",
       "        <td>Alaska</td>\n",
       "        <td>1980</td>\n",
       "        <td>June</td>\n",
       "        <td>1</td>\n",
       "        <td>Murder or Manslaughter</td>\n",
       "        <td>Yes</td>\n",
       "        <td>Female</td>\n",
       "        <td>99</td>\n",
       "        <td>White</td>\n",
       "        <td>Male</td>\n",
       "        <td>35</td>\n",
       "        <td>White</td>\n",
       "        <td>Wife</td>\n",
       "        <td>Knife</td>\n",
       "        <td>0</td>\n",
       "        <td>0</td>\n",
       "    </tr>\n",
       "    <tr>\n",
       "        <td>AK00101</td>\n",
       "        <td>Anchorage</td>\n",
       "        <td>Municipal Police</td>\n",
       "        <td>Anchorage</td>\n",
       "        <td>Alaska</td>\n",
       "        <td>1980</td>\n",
       "        <td>June</td>\n",
       "        <td>3</td>\n",
       "        <td>Murder or Manslaughter</td>\n",
       "        <td>Yes</td>\n",
       "        <td>Male</td>\n",
       "        <td>38</td>\n",
       "        <td>White</td>\n",
       "        <td>Male</td>\n",
       "        <td>40</td>\n",
       "        <td>Unknown</td>\n",
       "        <td>Unknown</td>\n",
       "        <td>Firearm</td>\n",
       "        <td>0</td>\n",
       "        <td>1</td>\n",
       "    </tr>\n",
       "    <tr>\n",
       "        <td>AK00101</td>\n",
       "        <td>Anchorage</td>\n",
       "        <td>Municipal Police</td>\n",
       "        <td>Anchorage</td>\n",
       "        <td>Alaska</td>\n",
       "        <td>1980</td>\n",
       "        <td>July</td>\n",
       "        <td>2</td>\n",
       "        <td>Murder or Manslaughter</td>\n",
       "        <td>Yes</td>\n",
       "        <td>Male</td>\n",
       "        <td>20</td>\n",
       "        <td>White</td>\n",
       "        <td>Male</td>\n",
       "        <td>49</td>\n",
       "        <td>White</td>\n",
       "        <td>Stranger</td>\n",
       "        <td>Shotgun</td>\n",
       "        <td>0</td>\n",
       "        <td>0</td>\n",
       "    </tr>\n",
       "    <tr>\n",
       "        <td>AK00101</td>\n",
       "        <td>Anchorage</td>\n",
       "        <td>Municipal Police</td>\n",
       "        <td>Anchorage</td>\n",
       "        <td>Alaska</td>\n",
       "        <td>1980</td>\n",
       "        <td>July</td>\n",
       "        <td>3</td>\n",
       "        <td>Murder or Manslaughter</td>\n",
       "        <td>Yes</td>\n",
       "        <td>Female</td>\n",
       "        <td>36</td>\n",
       "        <td>Black</td>\n",
       "        <td>Male</td>\n",
       "        <td>39</td>\n",
       "        <td>Black</td>\n",
       "        <td>Girlfriend</td>\n",
       "        <td>Blunt Object</td>\n",
       "        <td>0</td>\n",
       "        <td>0</td>\n",
       "    </tr>\n",
       "    <tr>\n",
       "        <td>AK00101</td>\n",
       "        <td>Anchorage</td>\n",
       "        <td>Municipal Police</td>\n",
       "        <td>Anchorage</td>\n",
       "        <td>Alaska</td>\n",
       "        <td>1980</td>\n",
       "        <td>August</td>\n",
       "        <td>1</td>\n",
       "        <td>Murder or Manslaughter</td>\n",
       "        <td>Yes</td>\n",
       "        <td>Male</td>\n",
       "        <td>20</td>\n",
       "        <td>Native American/Alaska Native</td>\n",
       "        <td>Male</td>\n",
       "        <td>49</td>\n",
       "        <td>White</td>\n",
       "        <td>Unknown</td>\n",
       "        <td>Fall</td>\n",
       "        <td>0</td>\n",
       "        <td>0</td>\n",
       "    </tr>\n",
       "</table>"
      ],
      "text/plain": [
       "[('AK00101', 'Anchorage', 'Municipal Police', 'Anchorage', 'Alaska', Decimal('1980'), 'January', Decimal('1'), 'Murder or Manslaughter', 'Yes', 'Male', Decimal('14'), 'Native American/Alaska Native', 'Male', Decimal('15'), 'Native American/Alaska Native', 'Acquaintance', 'Blunt Object', Decimal('0'), Decimal('0')),\n",
       " ('AK00101', 'Anchorage', 'Municipal Police', 'Anchorage', 'Alaska', Decimal('1980'), 'March', Decimal('1'), 'Murder or Manslaughter', 'Yes', 'Male', Decimal('43'), 'White', 'Male', Decimal('42'), 'White', 'Acquaintance', 'Strangulation', Decimal('0'), Decimal('0')),\n",
       " ('AK00101', 'Anchorage', 'Municipal Police', 'Anchorage', 'Alaska', Decimal('1980'), 'April', Decimal('1'), 'Murder or Manslaughter', 'Yes', 'Male', Decimal('43'), 'White', 'Male', Decimal('42'), 'White', 'Acquaintance', 'Strangulation', Decimal('0'), Decimal('0')),\n",
       " ('AK00101', 'Anchorage', 'Municipal Police', 'Anchorage', 'Alaska', Decimal('1980'), 'May', Decimal('1'), 'Murder or Manslaughter', 'Yes', 'Male', Decimal('30'), 'White', 'Male', Decimal('36'), 'White', 'Acquaintance', 'Rifle', Decimal('0'), Decimal('0')),\n",
       " ('AK00101', 'Anchorage', 'Municipal Police', 'Anchorage', 'Alaska', Decimal('1980'), 'May', Decimal('2'), 'Murder or Manslaughter', 'Yes', 'Female', Decimal('42'), 'Native American/Alaska Native', 'Male', Decimal('27'), 'Black', 'Wife', 'Knife', Decimal('0'), Decimal('0')),\n",
       " ('AK00101', 'Anchorage', 'Municipal Police', 'Anchorage', 'Alaska', Decimal('1980'), 'June', Decimal('1'), 'Murder or Manslaughter', 'Yes', 'Female', Decimal('99'), 'White', 'Male', Decimal('35'), 'White', 'Wife', 'Knife', Decimal('0'), Decimal('0')),\n",
       " ('AK00101', 'Anchorage', 'Municipal Police', 'Anchorage', 'Alaska', Decimal('1980'), 'June', Decimal('3'), 'Murder or Manslaughter', 'Yes', 'Male', Decimal('38'), 'White', 'Male', Decimal('40'), 'Unknown', 'Unknown', 'Firearm', Decimal('0'), Decimal('1')),\n",
       " ('AK00101', 'Anchorage', 'Municipal Police', 'Anchorage', 'Alaska', Decimal('1980'), 'July', Decimal('2'), 'Murder or Manslaughter', 'Yes', 'Male', Decimal('20'), 'White', 'Male', Decimal('49'), 'White', 'Stranger', 'Shotgun', Decimal('0'), Decimal('0')),\n",
       " ('AK00101', 'Anchorage', 'Municipal Police', 'Anchorage', 'Alaska', Decimal('1980'), 'July', Decimal('3'), 'Murder or Manslaughter', 'Yes', 'Female', Decimal('36'), 'Black', 'Male', Decimal('39'), 'Black', 'Girlfriend', 'Blunt Object', Decimal('0'), Decimal('0')),\n",
       " ('AK00101', 'Anchorage', 'Municipal Police', 'Anchorage', 'Alaska', Decimal('1980'), 'August', Decimal('1'), 'Murder or Manslaughter', 'Yes', 'Male', Decimal('20'), 'Native American/Alaska Native', 'Male', Decimal('49'), 'White', 'Unknown', 'Fall', Decimal('0'), Decimal('0'))]"
      ]
     },
     "execution_count": 28,
     "metadata": {},
     "output_type": "execute_result"
    }
   ],
   "source": [
    "%%sql\n",
    "SELECT * FROM homicide\n",
    "LIMIT 10"
   ]
  },
  {
   "cell_type": "markdown",
   "metadata": {},
   "source": [
    "Next we need to look at the current transactional design and build the dimensional equivalent to the design"
   ]
  },
  {
   "cell_type": "markdown",
   "metadata": {},
   "source": [
    "## More ETL with SQL"
   ]
  },
  {
   "cell_type": "markdown",
   "metadata": {},
   "source": [
    "##### We started with this schema:"
   ]
  },
  {
   "cell_type": "code",
   "execution_count": 29,
   "metadata": {},
   "outputs": [],
   "source": [
    "from IPython.display import Image"
   ]
  },
  {
   "cell_type": "code",
   "execution_count": 89,
   "metadata": {},
   "outputs": [
    {
     "data": {
      "text/html": [
       "<img src=\"https://github.com/tianweima/data_management/blob/master/homicide.png?raw=true\"/>"
      ],
      "text/plain": [
       "<IPython.core.display.Image object>"
      ]
     },
     "execution_count": 89,
     "metadata": {},
     "output_type": "execute_result"
    }
   ],
   "source": [
    "Image(url=\"https://github.com/tianweima/data_management/blob/master/homicide.png?raw=true\")"
   ]
  },
  {
   "cell_type": "markdown",
   "metadata": {},
   "source": [
    "##### Our aim is to build a star schema that will allow us to do analytical analysis on and gain business intellegence from the data. We have created a star schema for discussion."
   ]
  },
  {
   "cell_type": "code",
   "execution_count": 31,
   "metadata": {},
   "outputs": [
    {
     "data": {
      "text/html": [
       "<img src=\"https://github.com/tianweima/data_management/blob/master/starschema.png?raw=true\"/>"
      ],
      "text/plain": [
       "<IPython.core.display.Image object>"
      ]
     },
     "execution_count": 31,
     "metadata": {},
     "output_type": "execute_result"
    }
   ],
   "source": [
    "Image(url=\"https://github.com/tianweima/data_management/blob/master/starschema.png?raw=true\")"
   ]
  },
  {
   "cell_type": "markdown",
   "metadata": {},
   "source": [
    "##### Now, we create the agency table"
   ]
  },
  {
   "cell_type": "code",
   "execution_count": 33,
   "metadata": {},
   "outputs": [
    {
     "name": "stdout",
     "output_type": "stream",
     "text": [
      " * postgresql://student@/final\n",
      "Done.\n",
      "Done.\n"
     ]
    },
    {
     "data": {
      "text/plain": [
       "[]"
      ]
     },
     "execution_count": 33,
     "metadata": {},
     "output_type": "execute_result"
    }
   ],
   "source": [
    "%%sql\n",
    "DROP TABLE IF EXISTS agency;\n",
    "\n",
    "CREATE TABLE agency (\n",
    "    key SERIAL PRIMARY KEY,\n",
    "    Code VARCHAR(200),\n",
    "    Name VARCHAR(200),\n",
    "    Type VARCHAR(200)\n",
    ");"
   ]
  },
  {
   "cell_type": "code",
   "execution_count": 34,
   "metadata": {},
   "outputs": [
    {
     "name": "stdout",
     "output_type": "stream",
     "text": [
      " * postgresql://student@/final\n",
      "12865 rows affected.\n"
     ]
    },
    {
     "data": {
      "text/plain": [
       "[]"
      ]
     },
     "execution_count": 34,
     "metadata": {},
     "output_type": "execute_result"
    }
   ],
   "source": [
    "%%sql\n",
    "INSERT INTO agency (Code, Name, Type)\n",
    "SELECT DISTINCT Agency_Code AS code, \n",
    "       Agency_Name AS name,\n",
    "       Agency_Type AS a_type\n",
    "FROM homicide;"
   ]
  },
  {
   "cell_type": "code",
   "execution_count": 35,
   "metadata": {},
   "outputs": [
    {
     "name": "stdout",
     "output_type": "stream",
     "text": [
      " * postgresql://student@/final\n",
      "10 rows affected.\n"
     ]
    },
    {
     "data": {
      "text/html": [
       "<table>\n",
       "    <tr>\n",
       "        <th>key</th>\n",
       "        <th>code</th>\n",
       "        <th>name</th>\n",
       "        <th>type</th>\n",
       "    </tr>\n",
       "    <tr>\n",
       "        <td>1</td>\n",
       "        <td>IN344SP</td>\n",
       "        <td>State Police: Lagrange County</td>\n",
       "        <td>State Police</td>\n",
       "    </tr>\n",
       "    <tr>\n",
       "        <td>2</td>\n",
       "        <td>MO01700</td>\n",
       "        <td>Carroll County</td>\n",
       "        <td>Sheriff</td>\n",
       "    </tr>\n",
       "    <tr>\n",
       "        <td>3</td>\n",
       "        <td>CT00119</td>\n",
       "        <td>Rocky Hill</td>\n",
       "        <td>Municipal Police</td>\n",
       "    </tr>\n",
       "    <tr>\n",
       "        <td>4</td>\n",
       "        <td>SC01100</td>\n",
       "        <td>Cherokee County</td>\n",
       "        <td>Sheriff</td>\n",
       "    </tr>\n",
       "    <tr>\n",
       "        <td>5</td>\n",
       "        <td>FL03201</td>\n",
       "        <td>Marianna</td>\n",
       "        <td>Municipal Police</td>\n",
       "    </tr>\n",
       "    <tr>\n",
       "        <td>6</td>\n",
       "        <td>MI25221</td>\n",
       "        <td>Atlas Township</td>\n",
       "        <td>Regional Police</td>\n",
       "    </tr>\n",
       "    <tr>\n",
       "        <td>7</td>\n",
       "        <td>OH01900</td>\n",
       "        <td>Darke</td>\n",
       "        <td>Sheriff</td>\n",
       "    </tr>\n",
       "    <tr>\n",
       "        <td>8</td>\n",
       "        <td>GA01702</td>\n",
       "        <td>Midville</td>\n",
       "        <td>Municipal Police</td>\n",
       "    </tr>\n",
       "    <tr>\n",
       "        <td>9</td>\n",
       "        <td>FL06005</td>\n",
       "        <td>Wildwood</td>\n",
       "        <td>Municipal Police</td>\n",
       "    </tr>\n",
       "    <tr>\n",
       "        <td>10</td>\n",
       "        <td>NC08500</td>\n",
       "        <td>Stokes County</td>\n",
       "        <td>Sheriff</td>\n",
       "    </tr>\n",
       "</table>"
      ],
      "text/plain": [
       "[(1, 'IN344SP', 'State Police: Lagrange County', 'State Police'),\n",
       " (2, 'MO01700', 'Carroll County', 'Sheriff'),\n",
       " (3, 'CT00119', 'Rocky Hill', 'Municipal Police'),\n",
       " (4, 'SC01100', 'Cherokee County', 'Sheriff'),\n",
       " (5, 'FL03201', 'Marianna', 'Municipal Police'),\n",
       " (6, 'MI25221', 'Atlas Township', 'Regional Police'),\n",
       " (7, 'OH01900', 'Darke', 'Sheriff'),\n",
       " (8, 'GA01702', 'Midville', 'Municipal Police'),\n",
       " (9, 'FL06005', 'Wildwood', 'Municipal Police'),\n",
       " (10, 'NC08500', 'Stokes County', 'Sheriff')]"
      ]
     },
     "execution_count": 35,
     "metadata": {},
     "output_type": "execute_result"
    }
   ],
   "source": [
    "%%sql\n",
    "SELECT * FROM agency LIMIT 10;"
   ]
  },
  {
   "cell_type": "markdown",
   "metadata": {},
   "source": [
    "##### create the time table"
   ]
  },
  {
   "cell_type": "code",
   "execution_count": 36,
   "metadata": {},
   "outputs": [
    {
     "name": "stdout",
     "output_type": "stream",
     "text": [
      " * postgresql://student@/final\n",
      "Done.\n",
      "Done.\n"
     ]
    },
    {
     "data": {
      "text/plain": [
       "[]"
      ]
     },
     "execution_count": 36,
     "metadata": {},
     "output_type": "execute_result"
    }
   ],
   "source": [
    "%%sql\n",
    "DROP TABLE IF EXISTS time;\n",
    "\n",
    "CREATE TABLE time (\n",
    "    key SERIAL PRIMARY KEY,\n",
    "    Year numeric(4) NOT NULL,\n",
    "    Month varchar(10) NOT NULL\n",
    ");"
   ]
  },
  {
   "cell_type": "code",
   "execution_count": 37,
   "metadata": {},
   "outputs": [
    {
     "name": "stdout",
     "output_type": "stream",
     "text": [
      " * postgresql://student@/final\n",
      "420 rows affected.\n"
     ]
    },
    {
     "data": {
      "text/plain": [
       "[]"
      ]
     },
     "execution_count": 37,
     "metadata": {},
     "output_type": "execute_result"
    }
   ],
   "source": [
    "%%sql\n",
    "INSERT INTO time (Year,Month)\n",
    "SELECT DISTINCT Year AS year, \n",
    "       Month AS month\n",
    "FROM homicide;"
   ]
  },
  {
   "cell_type": "code",
   "execution_count": 38,
   "metadata": {},
   "outputs": [
    {
     "name": "stdout",
     "output_type": "stream",
     "text": [
      " * postgresql://student@/final\n",
      "10 rows affected.\n"
     ]
    },
    {
     "data": {
      "text/html": [
       "<table>\n",
       "    <tr>\n",
       "        <th>key</th>\n",
       "        <th>year</th>\n",
       "        <th>month</th>\n",
       "    </tr>\n",
       "    <tr>\n",
       "        <td>1</td>\n",
       "        <td>2003</td>\n",
       "        <td>October</td>\n",
       "    </tr>\n",
       "    <tr>\n",
       "        <td>2</td>\n",
       "        <td>1986</td>\n",
       "        <td>November</td>\n",
       "    </tr>\n",
       "    <tr>\n",
       "        <td>3</td>\n",
       "        <td>1998</td>\n",
       "        <td>May</td>\n",
       "    </tr>\n",
       "    <tr>\n",
       "        <td>4</td>\n",
       "        <td>2006</td>\n",
       "        <td>July</td>\n",
       "    </tr>\n",
       "    <tr>\n",
       "        <td>5</td>\n",
       "        <td>1999</td>\n",
       "        <td>March</td>\n",
       "    </tr>\n",
       "    <tr>\n",
       "        <td>6</td>\n",
       "        <td>1996</td>\n",
       "        <td>July</td>\n",
       "    </tr>\n",
       "    <tr>\n",
       "        <td>7</td>\n",
       "        <td>2010</td>\n",
       "        <td>January</td>\n",
       "    </tr>\n",
       "    <tr>\n",
       "        <td>8</td>\n",
       "        <td>2004</td>\n",
       "        <td>January</td>\n",
       "    </tr>\n",
       "    <tr>\n",
       "        <td>9</td>\n",
       "        <td>2008</td>\n",
       "        <td>February</td>\n",
       "    </tr>\n",
       "    <tr>\n",
       "        <td>10</td>\n",
       "        <td>1990</td>\n",
       "        <td>December</td>\n",
       "    </tr>\n",
       "</table>"
      ],
      "text/plain": [
       "[(1, Decimal('2003'), 'October'),\n",
       " (2, Decimal('1986'), 'November'),\n",
       " (3, Decimal('1998'), 'May'),\n",
       " (4, Decimal('2006'), 'July'),\n",
       " (5, Decimal('1999'), 'March'),\n",
       " (6, Decimal('1996'), 'July'),\n",
       " (7, Decimal('2010'), 'January'),\n",
       " (8, Decimal('2004'), 'January'),\n",
       " (9, Decimal('2008'), 'February'),\n",
       " (10, Decimal('1990'), 'December')]"
      ]
     },
     "execution_count": 38,
     "metadata": {},
     "output_type": "execute_result"
    }
   ],
   "source": [
    "%%sql\n",
    "SELECT * FROM time LIMIT 10;"
   ]
  },
  {
   "cell_type": "markdown",
   "metadata": {},
   "source": [
    "##### create the crime table"
   ]
  },
  {
   "cell_type": "code",
   "execution_count": 39,
   "metadata": {},
   "outputs": [
    {
     "name": "stdout",
     "output_type": "stream",
     "text": [
      " * postgresql://student@/final\n",
      "Done.\n",
      "Done.\n"
     ]
    },
    {
     "data": {
      "text/plain": [
       "[]"
      ]
     },
     "execution_count": 39,
     "metadata": {},
     "output_type": "execute_result"
    }
   ],
   "source": [
    "%%sql\n",
    "DROP TABLE IF EXISTS crime;\n",
    "\n",
    "CREATE TABLE crime (\n",
    "    key SERIAL PRIMARY KEY,\n",
    "    Crime_Type         VARCHAR(200) NOT NULL,\n",
    "    Relationship       VARCHAR(200) NOT NULL,\n",
    "    Weapon             VARCHAR(200) NOT NULL\n",
    ");"
   ]
  },
  {
   "cell_type": "code",
   "execution_count": 40,
   "metadata": {},
   "outputs": [
    {
     "name": "stdout",
     "output_type": "stream",
     "text": [
      " * postgresql://student@/final\n",
      "658 rows affected.\n"
     ]
    },
    {
     "data": {
      "text/plain": [
       "[]"
      ]
     },
     "execution_count": 40,
     "metadata": {},
     "output_type": "execute_result"
    }
   ],
   "source": [
    "%%sql\n",
    "INSERT INTO crime (Crime_Type,Relationship,Weapon)\n",
    "SELECT DISTINCT Crime_Type AS c_type, \n",
    "       Relationship AS relationship,\n",
    "       Weapon AS weapon\n",
    "FROM homicide;"
   ]
  },
  {
   "cell_type": "code",
   "execution_count": 41,
   "metadata": {},
   "outputs": [
    {
     "name": "stdout",
     "output_type": "stream",
     "text": [
      " * postgresql://student@/final\n",
      "10 rows affected.\n"
     ]
    },
    {
     "data": {
      "text/html": [
       "<table>\n",
       "    <tr>\n",
       "        <th>key</th>\n",
       "        <th>crime_type</th>\n",
       "        <th>relationship</th>\n",
       "        <th>weapon</th>\n",
       "    </tr>\n",
       "    <tr>\n",
       "        <td>1</td>\n",
       "        <td>Murder or Manslaughter</td>\n",
       "        <td>Mother</td>\n",
       "        <td>Fall</td>\n",
       "    </tr>\n",
       "    <tr>\n",
       "        <td>2</td>\n",
       "        <td>Murder or Manslaughter</td>\n",
       "        <td>In-Law</td>\n",
       "        <td>Drowning</td>\n",
       "    </tr>\n",
       "    <tr>\n",
       "        <td>3</td>\n",
       "        <td>Murder or Manslaughter</td>\n",
       "        <td>Acquaintance</td>\n",
       "        <td>Explosives</td>\n",
       "    </tr>\n",
       "    <tr>\n",
       "        <td>4</td>\n",
       "        <td>Manslaughter by Negligence</td>\n",
       "        <td>Husband</td>\n",
       "        <td>Handgun</td>\n",
       "    </tr>\n",
       "    <tr>\n",
       "        <td>5</td>\n",
       "        <td>Murder or Manslaughter</td>\n",
       "        <td>Daughter</td>\n",
       "        <td>Shotgun</td>\n",
       "    </tr>\n",
       "    <tr>\n",
       "        <td>6</td>\n",
       "        <td>Murder or Manslaughter</td>\n",
       "        <td>Unknown</td>\n",
       "        <td>Rifle</td>\n",
       "    </tr>\n",
       "    <tr>\n",
       "        <td>7</td>\n",
       "        <td>Murder or Manslaughter</td>\n",
       "        <td>Friend</td>\n",
       "        <td>Strangulation</td>\n",
       "    </tr>\n",
       "    <tr>\n",
       "        <td>8</td>\n",
       "        <td>Murder or Manslaughter</td>\n",
       "        <td>Stepfather</td>\n",
       "        <td>Suffocation</td>\n",
       "    </tr>\n",
       "    <tr>\n",
       "        <td>9</td>\n",
       "        <td>Manslaughter by Negligence</td>\n",
       "        <td>Girlfriend</td>\n",
       "        <td>Drugs</td>\n",
       "    </tr>\n",
       "    <tr>\n",
       "        <td>10</td>\n",
       "        <td>Manslaughter by Negligence</td>\n",
       "        <td>Boyfriend</td>\n",
       "        <td>Fall</td>\n",
       "    </tr>\n",
       "</table>"
      ],
      "text/plain": [
       "[(1, 'Murder or Manslaughter', 'Mother', 'Fall'),\n",
       " (2, 'Murder or Manslaughter', 'In-Law', 'Drowning'),\n",
       " (3, 'Murder or Manslaughter', 'Acquaintance', 'Explosives'),\n",
       " (4, 'Manslaughter by Negligence', 'Husband', 'Handgun'),\n",
       " (5, 'Murder or Manslaughter', 'Daughter', 'Shotgun'),\n",
       " (6, 'Murder or Manslaughter', 'Unknown', 'Rifle'),\n",
       " (7, 'Murder or Manslaughter', 'Friend', 'Strangulation'),\n",
       " (8, 'Murder or Manslaughter', 'Stepfather', 'Suffocation'),\n",
       " (9, 'Manslaughter by Negligence', 'Girlfriend', 'Drugs'),\n",
       " (10, 'Manslaughter by Negligence', 'Boyfriend', 'Fall')]"
      ]
     },
     "execution_count": 41,
     "metadata": {},
     "output_type": "execute_result"
    }
   ],
   "source": [
    "%%sql\n",
    "SELECT* FROM crime LIMIT 10;"
   ]
  },
  {
   "cell_type": "markdown",
   "metadata": {},
   "source": [
    "##### create the location table"
   ]
  },
  {
   "cell_type": "code",
   "execution_count": 42,
   "metadata": {},
   "outputs": [
    {
     "name": "stdout",
     "output_type": "stream",
     "text": [
      " * postgresql://student@/final\n",
      "Done.\n",
      "Done.\n"
     ]
    },
    {
     "data": {
      "text/plain": [
       "[]"
      ]
     },
     "execution_count": 42,
     "metadata": {},
     "output_type": "execute_result"
    }
   ],
   "source": [
    "%%sql\n",
    "DROP TABLE IF EXISTS location;\n",
    "\n",
    "CREATE TABLE location (\n",
    "    key SERIAL PRIMARY KEY,\n",
    "    City    VARCHAR(200) NOT NULL,\n",
    "    State   VARCHAR(200) NOT NULL\n",
    "\n",
    ");"
   ]
  },
  {
   "cell_type": "code",
   "execution_count": 43,
   "metadata": {},
   "outputs": [
    {
     "name": "stdout",
     "output_type": "stream",
     "text": [
      " * postgresql://student@/final\n",
      "3023 rows affected.\n"
     ]
    },
    {
     "data": {
      "text/plain": [
       "[]"
      ]
     },
     "execution_count": 43,
     "metadata": {},
     "output_type": "execute_result"
    }
   ],
   "source": [
    "%%sql\n",
    "INSERT INTO location(City,State)\n",
    "SELECT DISTINCT City AS city, \n",
    "    State AS state\n",
    "FROM homicide;"
   ]
  },
  {
   "cell_type": "code",
   "execution_count": 44,
   "metadata": {},
   "outputs": [
    {
     "name": "stdout",
     "output_type": "stream",
     "text": [
      " * postgresql://student@/final\n",
      "10 rows affected.\n"
     ]
    },
    {
     "data": {
      "text/html": [
       "<table>\n",
       "    <tr>\n",
       "        <th>key</th>\n",
       "        <th>city</th>\n",
       "        <th>state</th>\n",
       "    </tr>\n",
       "    <tr>\n",
       "        <td>1</td>\n",
       "        <td>Greene</td>\n",
       "        <td>Indiana</td>\n",
       "    </tr>\n",
       "    <tr>\n",
       "        <td>2</td>\n",
       "        <td>Atchison</td>\n",
       "        <td>Missouri</td>\n",
       "    </tr>\n",
       "    <tr>\n",
       "        <td>3</td>\n",
       "        <td>Pawnee</td>\n",
       "        <td>Kansas</td>\n",
       "    </tr>\n",
       "    <tr>\n",
       "        <td>4</td>\n",
       "        <td>Wilcox</td>\n",
       "        <td>Alabama</td>\n",
       "    </tr>\n",
       "    <tr>\n",
       "        <td>5</td>\n",
       "        <td>Broward</td>\n",
       "        <td>Florida</td>\n",
       "    </tr>\n",
       "    <tr>\n",
       "        <td>6</td>\n",
       "        <td>Lamb</td>\n",
       "        <td>Texas</td>\n",
       "    </tr>\n",
       "    <tr>\n",
       "        <td>7</td>\n",
       "        <td>Decatur</td>\n",
       "        <td>Kansas</td>\n",
       "    </tr>\n",
       "    <tr>\n",
       "        <td>8</td>\n",
       "        <td>Dunn</td>\n",
       "        <td>North Dakota</td>\n",
       "    </tr>\n",
       "    <tr>\n",
       "        <td>9</td>\n",
       "        <td>Hardeman</td>\n",
       "        <td>Tennessee</td>\n",
       "    </tr>\n",
       "    <tr>\n",
       "        <td>10</td>\n",
       "        <td>Wheatland</td>\n",
       "        <td>Montana</td>\n",
       "    </tr>\n",
       "</table>"
      ],
      "text/plain": [
       "[(1, 'Greene', 'Indiana'),\n",
       " (2, 'Atchison', 'Missouri'),\n",
       " (3, 'Pawnee', 'Kansas'),\n",
       " (4, 'Wilcox', 'Alabama'),\n",
       " (5, 'Broward', 'Florida'),\n",
       " (6, 'Lamb', 'Texas'),\n",
       " (7, 'Decatur', 'Kansas'),\n",
       " (8, 'Dunn', 'North Dakota'),\n",
       " (9, 'Hardeman', 'Tennessee'),\n",
       " (10, 'Wheatland', 'Montana')]"
      ]
     },
     "execution_count": 44,
     "metadata": {},
     "output_type": "execute_result"
    }
   ],
   "source": [
    "%%sql\n",
    "SELECT* FROM location LIMIT 10;"
   ]
  },
  {
   "cell_type": "markdown",
   "metadata": {},
   "source": [
    "##### create the victim table"
   ]
  },
  {
   "cell_type": "code",
   "execution_count": 45,
   "metadata": {},
   "outputs": [
    {
     "name": "stdout",
     "output_type": "stream",
     "text": [
      " * postgresql://student@/final\n",
      "Done.\n",
      "Done.\n"
     ]
    },
    {
     "data": {
      "text/plain": [
       "[]"
      ]
     },
     "execution_count": 45,
     "metadata": {},
     "output_type": "execute_result"
    }
   ],
   "source": [
    "%%sql\n",
    "DROP TABLE IF EXISTS victim;\n",
    "\n",
    "CREATE TABLE victim (\n",
    "     key SERIAL PRIMARY KEY,\n",
    "    Victim_Sex         VARCHAR(200) NOT NULL,\n",
    "    Victim_Age         numeric(3) NOT NULL,\n",
    "    Victim_Race        VARCHAR(200) NOT NULL,\n",
    "    Victim_Count       numeric(2) NOT NULL\n",
    "    \n",
    ");\n"
   ]
  },
  {
   "cell_type": "code",
   "execution_count": 46,
   "metadata": {},
   "outputs": [
    {
     "name": "stdout",
     "output_type": "stream",
     "text": [
      " * postgresql://student@/final\n",
      "3799 rows affected.\n"
     ]
    },
    {
     "data": {
      "text/plain": [
       "[]"
      ]
     },
     "execution_count": 46,
     "metadata": {},
     "output_type": "execute_result"
    }
   ],
   "source": [
    "%%sql\n",
    "INSERT INTO victim(Victim_Sex, Victim_Age, Victim_Race, Victim_Count)\n",
    "SELECT DISTINCT Victim_Sex AS sex, \n",
    "    Victim_age AS age,\n",
    "    Victim_Race As race,\n",
    "    Victim_Count As count\n",
    "FROM homicide;"
   ]
  },
  {
   "cell_type": "code",
   "execution_count": 47,
   "metadata": {},
   "outputs": [
    {
     "name": "stdout",
     "output_type": "stream",
     "text": [
      " * postgresql://student@/final\n",
      "10 rows affected.\n"
     ]
    },
    {
     "data": {
      "text/html": [
       "<table>\n",
       "    <tr>\n",
       "        <th>key</th>\n",
       "        <th>victim_sex</th>\n",
       "        <th>victim_age</th>\n",
       "        <th>victim_race</th>\n",
       "        <th>victim_count</th>\n",
       "    </tr>\n",
       "    <tr>\n",
       "        <td>1</td>\n",
       "        <td>Male</td>\n",
       "        <td>74</td>\n",
       "        <td>White</td>\n",
       "        <td>1</td>\n",
       "    </tr>\n",
       "    <tr>\n",
       "        <td>2</td>\n",
       "        <td>Male</td>\n",
       "        <td>62</td>\n",
       "        <td>White</td>\n",
       "        <td>2</td>\n",
       "    </tr>\n",
       "    <tr>\n",
       "        <td>3</td>\n",
       "        <td>Female</td>\n",
       "        <td>21</td>\n",
       "        <td>Black</td>\n",
       "        <td>0</td>\n",
       "    </tr>\n",
       "    <tr>\n",
       "        <td>4</td>\n",
       "        <td>Male</td>\n",
       "        <td>38</td>\n",
       "        <td>Black</td>\n",
       "        <td>3</td>\n",
       "    </tr>\n",
       "    <tr>\n",
       "        <td>5</td>\n",
       "        <td>Male</td>\n",
       "        <td>37</td>\n",
       "        <td>White</td>\n",
       "        <td>3</td>\n",
       "    </tr>\n",
       "    <tr>\n",
       "        <td>6</td>\n",
       "        <td>Female</td>\n",
       "        <td>54</td>\n",
       "        <td>Asian/Pacific Islander</td>\n",
       "        <td>5</td>\n",
       "    </tr>\n",
       "    <tr>\n",
       "        <td>7</td>\n",
       "        <td>Male</td>\n",
       "        <td>46</td>\n",
       "        <td>White</td>\n",
       "        <td>2</td>\n",
       "    </tr>\n",
       "    <tr>\n",
       "        <td>8</td>\n",
       "        <td>Female</td>\n",
       "        <td>99</td>\n",
       "        <td>Black</td>\n",
       "        <td>1</td>\n",
       "    </tr>\n",
       "    <tr>\n",
       "        <td>9</td>\n",
       "        <td>Female</td>\n",
       "        <td>35</td>\n",
       "        <td>Unknown</td>\n",
       "        <td>0</td>\n",
       "    </tr>\n",
       "    <tr>\n",
       "        <td>10</td>\n",
       "        <td>Female</td>\n",
       "        <td>59</td>\n",
       "        <td>Black</td>\n",
       "        <td>4</td>\n",
       "    </tr>\n",
       "</table>"
      ],
      "text/plain": [
       "[(1, 'Male', Decimal('74'), 'White', Decimal('1')),\n",
       " (2, 'Male', Decimal('62'), 'White', Decimal('2')),\n",
       " (3, 'Female', Decimal('21'), 'Black', Decimal('0')),\n",
       " (4, 'Male', Decimal('38'), 'Black', Decimal('3')),\n",
       " (5, 'Male', Decimal('37'), 'White', Decimal('3')),\n",
       " (6, 'Female', Decimal('54'), 'Asian/Pacific Islander', Decimal('5')),\n",
       " (7, 'Male', Decimal('46'), 'White', Decimal('2')),\n",
       " (8, 'Female', Decimal('99'), 'Black', Decimal('1')),\n",
       " (9, 'Female', Decimal('35'), 'Unknown', Decimal('0')),\n",
       " (10, 'Female', Decimal('59'), 'Black', Decimal('4'))]"
      ]
     },
     "execution_count": 47,
     "metadata": {},
     "output_type": "execute_result"
    }
   ],
   "source": [
    "%%sql\n",
    "SELECT * FROM victim LIMIT 10;"
   ]
  },
  {
   "cell_type": "markdown",
   "metadata": {},
   "source": [
    "##### create the perpetrator table"
   ]
  },
  {
   "cell_type": "code",
   "execution_count": 48,
   "metadata": {},
   "outputs": [
    {
     "name": "stdout",
     "output_type": "stream",
     "text": [
      " * postgresql://student@/final\n",
      "Done.\n",
      "Done.\n"
     ]
    },
    {
     "data": {
      "text/plain": [
       "[]"
      ]
     },
     "execution_count": 48,
     "metadata": {},
     "output_type": "execute_result"
    }
   ],
   "source": [
    "%%sql\n",
    "DROP TABLE IF EXISTS perpetrator;\n",
    "\n",
    "CREATE TABLE perpetrator (\n",
    "    key SERIAL PRIMARY KEY,\n",
    "    Perpetrator_Sex    VARCHAR(200) NOT NULL,\n",
    "    Perpetrator_Age    numeric(3) NOT NULL ,\n",
    "    Perpetrator_Race   VARCHAR(200) NOT NULL,\n",
    "    Perpetrator_Count  numeric(2) NOT NULL\n",
    "\n",
    ");\n"
   ]
  },
  {
   "cell_type": "code",
   "execution_count": 49,
   "metadata": {},
   "outputs": [
    {
     "name": "stdout",
     "output_type": "stream",
     "text": [
      " * postgresql://student@/final\n",
      "2350 rows affected.\n"
     ]
    },
    {
     "data": {
      "text/plain": [
       "[]"
      ]
     },
     "execution_count": 49,
     "metadata": {},
     "output_type": "execute_result"
    }
   ],
   "source": [
    "%%sql\n",
    "INSERT INTO perpetrator(Perpetrator_Sex, Perpetrator_Age, Perpetrator_Race, Perpetrator_Count)\n",
    "SELECT DISTINCT Perpetrator_Sex As sex,\n",
    "    Perpetrator_Age As age,\n",
    "    Perpetrator_Race As race,\n",
    "    Perpetrator_Count As count\n",
    "FROM homicide;"
   ]
  },
  {
   "cell_type": "code",
   "execution_count": 50,
   "metadata": {},
   "outputs": [
    {
     "name": "stdout",
     "output_type": "stream",
     "text": [
      " * postgresql://student@/final\n",
      "10 rows affected.\n"
     ]
    },
    {
     "data": {
      "text/html": [
       "<table>\n",
       "    <tr>\n",
       "        <th>key</th>\n",
       "        <th>perpetrator_sex</th>\n",
       "        <th>perpetrator_age</th>\n",
       "        <th>perpetrator_race</th>\n",
       "        <th>perpetrator_count</th>\n",
       "    </tr>\n",
       "    <tr>\n",
       "        <td>1</td>\n",
       "        <td>Male</td>\n",
       "        <td>51</td>\n",
       "        <td>White</td>\n",
       "        <td>5</td>\n",
       "    </tr>\n",
       "    <tr>\n",
       "        <td>2</td>\n",
       "        <td>Male</td>\n",
       "        <td>74</td>\n",
       "        <td>White</td>\n",
       "        <td>1</td>\n",
       "    </tr>\n",
       "    <tr>\n",
       "        <td>3</td>\n",
       "        <td>Female</td>\n",
       "        <td>38</td>\n",
       "        <td>Black</td>\n",
       "        <td>1</td>\n",
       "    </tr>\n",
       "    <tr>\n",
       "        <td>4</td>\n",
       "        <td>Male</td>\n",
       "        <td>13</td>\n",
       "        <td>Native American/Alaska Native</td>\n",
       "        <td>2</td>\n",
       "    </tr>\n",
       "    <tr>\n",
       "        <td>5</td>\n",
       "        <td>Male</td>\n",
       "        <td>62</td>\n",
       "        <td>White</td>\n",
       "        <td>2</td>\n",
       "    </tr>\n",
       "    <tr>\n",
       "        <td>6</td>\n",
       "        <td>Female</td>\n",
       "        <td>37</td>\n",
       "        <td>White</td>\n",
       "        <td>1</td>\n",
       "    </tr>\n",
       "    <tr>\n",
       "        <td>7</td>\n",
       "        <td>Male</td>\n",
       "        <td>25</td>\n",
       "        <td>Unknown</td>\n",
       "        <td>1</td>\n",
       "    </tr>\n",
       "    <tr>\n",
       "        <td>8</td>\n",
       "        <td>Female</td>\n",
       "        <td>21</td>\n",
       "        <td>Black</td>\n",
       "        <td>0</td>\n",
       "    </tr>\n",
       "    <tr>\n",
       "        <td>9</td>\n",
       "        <td>Male</td>\n",
       "        <td>38</td>\n",
       "        <td>Black</td>\n",
       "        <td>3</td>\n",
       "    </tr>\n",
       "    <tr>\n",
       "        <td>10</td>\n",
       "        <td>Male</td>\n",
       "        <td>37</td>\n",
       "        <td>White</td>\n",
       "        <td>3</td>\n",
       "    </tr>\n",
       "</table>"
      ],
      "text/plain": [
       "[(1, 'Male', Decimal('51'), 'White', Decimal('5')),\n",
       " (2, 'Male', Decimal('74'), 'White', Decimal('1')),\n",
       " (3, 'Female', Decimal('38'), 'Black', Decimal('1')),\n",
       " (4, 'Male', Decimal('13'), 'Native American/Alaska Native', Decimal('2')),\n",
       " (5, 'Male', Decimal('62'), 'White', Decimal('2')),\n",
       " (6, 'Female', Decimal('37'), 'White', Decimal('1')),\n",
       " (7, 'Male', Decimal('25'), 'Unknown', Decimal('1')),\n",
       " (8, 'Female', Decimal('21'), 'Black', Decimal('0')),\n",
       " (9, 'Male', Decimal('38'), 'Black', Decimal('3')),\n",
       " (10, 'Male', Decimal('37'), 'White', Decimal('3'))]"
      ]
     },
     "execution_count": 50,
     "metadata": {},
     "output_type": "execute_result"
    }
   ],
   "source": [
    "%%sql\n",
    "SELECT * FROM perpetrator LIMIT 10;"
   ]
  },
  {
   "cell_type": "markdown",
   "metadata": {},
   "source": [
    "##### Insert all the 6 foreign keys into the homicide table to link the fact and dimension tables"
   ]
  },
  {
   "cell_type": "code",
   "execution_count": 51,
   "metadata": {},
   "outputs": [
    {
     "name": "stdout",
     "output_type": "stream",
     "text": [
      " * postgresql://student@/final\n",
      "Done.\n"
     ]
    },
    {
     "data": {
      "text/plain": [
       "[]"
      ]
     },
     "execution_count": 51,
     "metadata": {},
     "output_type": "execute_result"
    }
   ],
   "source": [
    "%%sql\n",
    "ALTER TABLE homicide\n",
    "ADD COLUMN agency_key INTEGER,\n",
    "ADD CONSTRAINT fk_Agency_Code\n",
    "    FOREIGN KEY (agency_key)\n",
    "    REFERENCES agency (key);"
   ]
  },
  {
   "cell_type": "code",
   "execution_count": 52,
   "metadata": {},
   "outputs": [
    {
     "name": "stdout",
     "output_type": "stream",
     "text": [
      " * postgresql://student@/final\n",
      "421699 rows affected.\n"
     ]
    },
    {
     "data": {
      "text/plain": [
       "[]"
      ]
     },
     "execution_count": 52,
     "metadata": {},
     "output_type": "execute_result"
    }
   ],
   "source": [
    "%%sql\n",
    "UPDATE homicide\n",
    "SET agency_key = agency.key\n",
    "FROM agency\n",
    "WHERE homicide.Agency_Code = agency.Code AND homicide.Agency_Name = agency.Name AND homicide.Agency_Type = agency.Type;"
   ]
  },
  {
   "cell_type": "code",
   "execution_count": 53,
   "metadata": {},
   "outputs": [
    {
     "name": "stdout",
     "output_type": "stream",
     "text": [
      " * postgresql://student@/final\n",
      "Done.\n"
     ]
    },
    {
     "data": {
      "text/plain": [
       "[]"
      ]
     },
     "execution_count": 53,
     "metadata": {},
     "output_type": "execute_result"
    }
   ],
   "source": [
    "%%sql\n",
    "ALTER TABLE homicide \n",
    "ADD COLUMN time_key INTEGER,\n",
    "ADD CONSTRAINT fk_Year\n",
    "    FOREIGN KEY (time_key)\n",
    "    REFERENCES time (key);"
   ]
  },
  {
   "cell_type": "code",
   "execution_count": 54,
   "metadata": {},
   "outputs": [
    {
     "name": "stdout",
     "output_type": "stream",
     "text": [
      " * postgresql://student@/final\n",
      "421699 rows affected.\n"
     ]
    },
    {
     "data": {
      "text/plain": [
       "[]"
      ]
     },
     "execution_count": 54,
     "metadata": {},
     "output_type": "execute_result"
    }
   ],
   "source": [
    "%%sql\n",
    "UPDATE homicide\n",
    "SET time_key =time.key\n",
    "FROM time\n",
    "WHERE homicide.Year = time.year AND homicide.Month=time.month;"
   ]
  },
  {
   "cell_type": "code",
   "execution_count": 55,
   "metadata": {},
   "outputs": [
    {
     "name": "stdout",
     "output_type": "stream",
     "text": [
      " * postgresql://student@/final\n",
      "Done.\n"
     ]
    },
    {
     "data": {
      "text/plain": [
       "[]"
      ]
     },
     "execution_count": 55,
     "metadata": {},
     "output_type": "execute_result"
    }
   ],
   "source": [
    "%%sql\n",
    "ALTER TABLE homicide\n",
    "ADD COLUMN crime_key INTEGER,\n",
    "ADD CONSTRAINT fk_Relationship\n",
    "    FOREIGN KEY (crime_key)\n",
    "    REFERENCES crime (key);"
   ]
  },
  {
   "cell_type": "code",
   "execution_count": 56,
   "metadata": {},
   "outputs": [
    {
     "name": "stdout",
     "output_type": "stream",
     "text": [
      " * postgresql://student@/final\n",
      "421699 rows affected.\n"
     ]
    },
    {
     "data": {
      "text/plain": [
       "[]"
      ]
     },
     "execution_count": 56,
     "metadata": {},
     "output_type": "execute_result"
    }
   ],
   "source": [
    "%%sql\n",
    "UPDATE homicide\n",
    "SET crime_key = crime.key\n",
    "FROM crime\n",
    "WHERE homicide.Relationship = crime.relationship AND homicide.Weapon=crime.weapon AND homicide.Crime_Type=crime.Crime_Type;"
   ]
  },
  {
   "cell_type": "code",
   "execution_count": 57,
   "metadata": {},
   "outputs": [
    {
     "name": "stdout",
     "output_type": "stream",
     "text": [
      " * postgresql://student@/final\n",
      "Done.\n"
     ]
    },
    {
     "data": {
      "text/plain": [
       "[]"
      ]
     },
     "execution_count": 57,
     "metadata": {},
     "output_type": "execute_result"
    }
   ],
   "source": [
    "%%sql\n",
    "ALTER TABLE homicide\n",
    "ADD COLUMN location_key INTEGER,\n",
    "ADD CONSTRAINT fk_city\n",
    "    FOREIGN KEY (location_key)\n",
    "    REFERENCES location (key);"
   ]
  },
  {
   "cell_type": "code",
   "execution_count": 58,
   "metadata": {},
   "outputs": [
    {
     "name": "stdout",
     "output_type": "stream",
     "text": [
      " * postgresql://student@/final\n",
      "421699 rows affected.\n"
     ]
    },
    {
     "data": {
      "text/plain": [
       "[]"
      ]
     },
     "execution_count": 58,
     "metadata": {},
     "output_type": "execute_result"
    }
   ],
   "source": [
    "%%sql\n",
    "UPDATE homicide\n",
    "SET location_key = location.key\n",
    "FROM location\n",
    "WHERE homicide.City = location.city AND homicide.State=location.state;"
   ]
  },
  {
   "cell_type": "code",
   "execution_count": 59,
   "metadata": {},
   "outputs": [
    {
     "name": "stdout",
     "output_type": "stream",
     "text": [
      " * postgresql://student@/final\n",
      "Done.\n"
     ]
    },
    {
     "data": {
      "text/plain": [
       "[]"
      ]
     },
     "execution_count": 59,
     "metadata": {},
     "output_type": "execute_result"
    }
   ],
   "source": [
    "%%sql\n",
    "ALTER TABLE homicide\n",
    "ADD COLUMN victim_key INTEGER,\n",
    "ADD CONSTRAINT fk_Victim_Race\n",
    "    FOREIGN KEY (victim_key)\n",
    "    REFERENCES victim (key);"
   ]
  },
  {
   "cell_type": "code",
   "execution_count": 60,
   "metadata": {},
   "outputs": [
    {
     "name": "stdout",
     "output_type": "stream",
     "text": [
      " * postgresql://student@/final\n",
      "421699 rows affected.\n"
     ]
    },
    {
     "data": {
      "text/plain": [
       "[]"
      ]
     },
     "execution_count": 60,
     "metadata": {},
     "output_type": "execute_result"
    }
   ],
   "source": [
    "%%sql\n",
    "UPDATE homicide\n",
    "SET victim_key =victim.key\n",
    "FROM victim\n",
    "WHERE homicide.Victim_Sex = victim.Victim_Sex AND homicide.Victim_Race = victim.Victim_Race AND homicide.Victim_Age = victim.Victim_Age AND homicide.Victim_Count = victim.Victim_Count;"
   ]
  },
  {
   "cell_type": "code",
   "execution_count": 61,
   "metadata": {},
   "outputs": [
    {
     "name": "stdout",
     "output_type": "stream",
     "text": [
      " * postgresql://student@/final\n",
      "Done.\n"
     ]
    },
    {
     "data": {
      "text/plain": [
       "[]"
      ]
     },
     "execution_count": 61,
     "metadata": {},
     "output_type": "execute_result"
    }
   ],
   "source": [
    "%%sql\n",
    "ALTER TABLE homicide\n",
    "ADD COLUMN perpetrator_key INTEGER,\n",
    "ADD CONSTRAINT fk_Perpetrator_Race\n",
    "    FOREIGN KEY (perpetrator_key)\n",
    "    REFERENCES perpetrator (key);"
   ]
  },
  {
   "cell_type": "code",
   "execution_count": 62,
   "metadata": {},
   "outputs": [
    {
     "name": "stdout",
     "output_type": "stream",
     "text": [
      " * postgresql://student@/final\n",
      "421699 rows affected.\n"
     ]
    },
    {
     "data": {
      "text/plain": [
       "[]"
      ]
     },
     "execution_count": 62,
     "metadata": {},
     "output_type": "execute_result"
    }
   ],
   "source": [
    "%%sql\n",
    "UPDATE homicide\n",
    "SET perpetrator_key =perpetrator.key\n",
    "FROM perpetrator\n",
    "WHERE homicide.Perpetrator_Sex = perpetrator.Perpetrator_Sex AND homicide.Perpetrator_Race = perpetrator.Perpetrator_Race AND homicide.Perpetrator_Age = perpetrator.Perpetrator_Age AND homicide.Perpetrator_Count = perpetrator.Perpetrator_Count;"
   ]
  },
  {
   "cell_type": "markdown",
   "metadata": {},
   "source": [
    "##### Drop columns in fact table that already existed in dimension tables"
   ]
  },
  {
   "cell_type": "code",
   "execution_count": 63,
   "metadata": {},
   "outputs": [
    {
     "name": "stdout",
     "output_type": "stream",
     "text": [
      " * postgresql://student@/final\n",
      "Done.\n"
     ]
    },
    {
     "data": {
      "text/plain": [
       "[]"
      ]
     },
     "execution_count": 63,
     "metadata": {},
     "output_type": "execute_result"
    }
   ],
   "source": [
    "%%sql\n",
    "ALTER TABLE homicide\n",
    "DROP COLUMN Agency_Code,\n",
    "DROP COLUMN Agency_Name,\n",
    "DROP COLUMN Agency_Type,\n",
    "DROP COLUMN City,\n",
    "DROP COLUMN State,\n",
    "DROP COLUMN Year,\n",
    "DROP COLUMN Month,\n",
    "DROP COLUMN Crime_Type,\n",
    "DROP COLUMN Victim_Sex,\n",
    "DROP COLUMN Victim_Age,\n",
    "DROP COLUMN Victim_Race,\n",
    "DROP COLUMN Perpetrator_Sex,\n",
    "DROP COLUMN Perpetrator_Age,\n",
    "DROP COLUMN Perpetrator_Race,\n",
    "DROP COLUMN Relationship,\n",
    "DROP COLUMN Weapon,\n",
    "DROP COLUMN Victim_Count,\n",
    "DROP COLUMN Perpetrator_Count;"
   ]
  },
  {
   "cell_type": "markdown",
   "metadata": {},
   "source": [
    "##### Look at the final homicide table"
   ]
  },
  {
   "cell_type": "code",
   "execution_count": 64,
   "metadata": {},
   "outputs": [
    {
     "name": "stdout",
     "output_type": "stream",
     "text": [
      " * postgresql://student@/final\n",
      "10 rows affected.\n"
     ]
    },
    {
     "data": {
      "text/html": [
       "<table>\n",
       "    <tr>\n",
       "        <th>incident</th>\n",
       "        <th>crime_solved</th>\n",
       "        <th>agency_key</th>\n",
       "        <th>time_key</th>\n",
       "        <th>crime_key</th>\n",
       "        <th>location_key</th>\n",
       "        <th>victim_key</th>\n",
       "        <th>perpetrator_key</th>\n",
       "    </tr>\n",
       "    <tr>\n",
       "        <td>2</td>\n",
       "        <td>Yes</td>\n",
       "        <td>4134</td>\n",
       "        <td>154</td>\n",
       "        <td>343</td>\n",
       "        <td>631</td>\n",
       "        <td>226</td>\n",
       "        <td>1832</td>\n",
       "    </tr>\n",
       "    <tr>\n",
       "        <td>1</td>\n",
       "        <td>Yes</td>\n",
       "        <td>6144</td>\n",
       "        <td>320</td>\n",
       "        <td>59</td>\n",
       "        <td>2120</td>\n",
       "        <td>2985</td>\n",
       "        <td>1138</td>\n",
       "    </tr>\n",
       "    <tr>\n",
       "        <td>2</td>\n",
       "        <td>Yes</td>\n",
       "        <td>11347</td>\n",
       "        <td>385</td>\n",
       "        <td>294</td>\n",
       "        <td>1924</td>\n",
       "        <td>3298</td>\n",
       "        <td>843</td>\n",
       "    </tr>\n",
       "    <tr>\n",
       "        <td>1</td>\n",
       "        <td>Yes</td>\n",
       "        <td>12660</td>\n",
       "        <td>241</td>\n",
       "        <td>294</td>\n",
       "        <td>1173</td>\n",
       "        <td>3062</td>\n",
       "        <td>269</td>\n",
       "    </tr>\n",
       "    <tr>\n",
       "        <td>1</td>\n",
       "        <td>Yes</td>\n",
       "        <td>2126</td>\n",
       "        <td>320</td>\n",
       "        <td>312</td>\n",
       "        <td>974</td>\n",
       "        <td>3470</td>\n",
       "        <td>1018</td>\n",
       "    </tr>\n",
       "    <tr>\n",
       "        <td>1</td>\n",
       "        <td>Yes</td>\n",
       "        <td>7188</td>\n",
       "        <td>37</td>\n",
       "        <td>579</td>\n",
       "        <td>1663</td>\n",
       "        <td>1338</td>\n",
       "        <td>500</td>\n",
       "    </tr>\n",
       "    <tr>\n",
       "        <td>26</td>\n",
       "        <td>Yes</td>\n",
       "        <td>10330</td>\n",
       "        <td>385</td>\n",
       "        <td>204</td>\n",
       "        <td>1844</td>\n",
       "        <td>1374</td>\n",
       "        <td>1637</td>\n",
       "    </tr>\n",
       "    <tr>\n",
       "        <td>1</td>\n",
       "        <td>Yes</td>\n",
       "        <td>3765</td>\n",
       "        <td>305</td>\n",
       "        <td>583</td>\n",
       "        <td>1891</td>\n",
       "        <td>1613</td>\n",
       "        <td>1385</td>\n",
       "    </tr>\n",
       "    <tr>\n",
       "        <td>1</td>\n",
       "        <td>Yes</td>\n",
       "        <td>1988</td>\n",
       "        <td>332</td>\n",
       "        <td>312</td>\n",
       "        <td>2467</td>\n",
       "        <td>743</td>\n",
       "        <td>1791</td>\n",
       "    </tr>\n",
       "    <tr>\n",
       "        <td>1</td>\n",
       "        <td>Yes</td>\n",
       "        <td>10119</td>\n",
       "        <td>305</td>\n",
       "        <td>252</td>\n",
       "        <td>1888</td>\n",
       "        <td>1118</td>\n",
       "        <td>1570</td>\n",
       "    </tr>\n",
       "</table>"
      ],
      "text/plain": [
       "[(Decimal('2'), 'Yes', 4134, 154, 343, 631, 226, 1832),\n",
       " (Decimal('1'), 'Yes', 6144, 320, 59, 2120, 2985, 1138),\n",
       " (Decimal('2'), 'Yes', 11347, 385, 294, 1924, 3298, 843),\n",
       " (Decimal('1'), 'Yes', 12660, 241, 294, 1173, 3062, 269),\n",
       " (Decimal('1'), 'Yes', 2126, 320, 312, 974, 3470, 1018),\n",
       " (Decimal('1'), 'Yes', 7188, 37, 579, 1663, 1338, 500),\n",
       " (Decimal('26'), 'Yes', 10330, 385, 204, 1844, 1374, 1637),\n",
       " (Decimal('1'), 'Yes', 3765, 305, 583, 1891, 1613, 1385),\n",
       " (Decimal('1'), 'Yes', 1988, 332, 312, 2467, 743, 1791),\n",
       " (Decimal('1'), 'Yes', 10119, 305, 252, 1888, 1118, 1570)]"
      ]
     },
     "execution_count": 64,
     "metadata": {},
     "output_type": "execute_result"
    }
   ],
   "source": [
    "%%sql\n",
    "SELECT *\n",
    "FROM homicide\n",
    "LIMIT 10;"
   ]
  },
  {
   "cell_type": "markdown",
   "metadata": {},
   "source": [
    "# Business Question 1."
   ]
  },
  {
   "cell_type": "markdown",
   "metadata": {},
   "source": [
    "## Police Force Distribution:"
   ]
  },
  {
   "cell_type": "markdown",
   "metadata": {},
   "source": [
    "### From our dataset, the first interesting question that comes to mind is about the police force distribution. We believe that 100% of all cases are solved. Thus we tried to sort out those unsolved cases and focus on which state/city state governments should potentially increase the size of their police force.  "
   ]
  },
  {
   "cell_type": "markdown",
   "metadata": {},
   "source": [
    "#### We seperated two different criminal types to see the distribution (we think the last five years data can provide worthy estimates), and we selected data from 2010 to 2014"
   ]
  },
  {
   "cell_type": "markdown",
   "metadata": {},
   "source": [
    "##### Crime type: Murder or Manslaughter"
   ]
  },
  {
   "cell_type": "code",
   "execution_count": 115,
   "metadata": {},
   "outputs": [
    {
     "name": "stdout",
     "output_type": "stream",
     "text": [
      " * postgresql://student@/final\n",
      "Done.\n",
      "51 rows affected.\n"
     ]
    },
    {
     "data": {
      "text/plain": [
       "[]"
      ]
     },
     "execution_count": 115,
     "metadata": {},
     "output_type": "execute_result"
    }
   ],
   "source": [
    "%%sql\n",
    "DROP TABLE IF EXISTS MM1014 cascade;\n",
    "\n",
    "CREATE TABLE MM1014 AS\n",
    "SELECT state, crime_type, sum(case when crime_solved = 'Yes' then 1 else 0 end) as \"Solved Case\", count(*) as \"Total Case\"\n",
    "FROM crime\n",
    "JOIN homicide\n",
    "  ON crime.key = homicide.crime_key\n",
    "Join location\n",
    "  ON location.key = homicide.location_key\n",
    "Join time\n",
    "  ON time.key = homicide.time_key\n",
    "WHERE year BETWEEN 2010 AND 2014 AND crime_type = 'Murder or Manslaughter'\n",
    "GROUP BY state,crime_type\n",
    "ORDER BY state\n",
    ";"
   ]
  },
  {
   "cell_type": "code",
   "execution_count": 116,
   "metadata": {},
   "outputs": [
    {
     "name": "stdout",
     "output_type": "stream",
     "text": [
      " * postgresql://student@/final\n",
      "Done.\n",
      "51 rows affected.\n"
     ]
    },
    {
     "data": {
      "text/plain": [
       "[]"
      ]
     },
     "execution_count": 116,
     "metadata": {},
     "output_type": "execute_result"
    }
   ],
   "source": [
    "%%sql\n",
    "ALTER TABLE MM1014\n",
    "ADD COLUMN \"Solved Percentage%\" float;\n",
    "\n",
    "UPDATE MM1014\n",
    "SET \"Solved Percentage%\" = round(\"Solved Case\"::numeric/\"Total Case\"::numeric*100,2);"
   ]
  },
  {
   "cell_type": "code",
   "execution_count": 117,
   "metadata": {},
   "outputs": [
    {
     "name": "stdout",
     "output_type": "stream",
     "text": [
      " * postgresql://student@/final\n",
      "51 rows affected.\n"
     ]
    },
    {
     "data": {
      "text/html": [
       "<table>\n",
       "    <tr>\n",
       "        <th>state</th>\n",
       "        <th>crime_type</th>\n",
       "        <th>Solved Case</th>\n",
       "        <th>Total Case</th>\n",
       "        <th>Solved Percentage%</th>\n",
       "    </tr>\n",
       "    <tr>\n",
       "        <td>Alabama</td>\n",
       "        <td>Murder or Manslaughter</td>\n",
       "        <td>141</td>\n",
       "        <td>141</td>\n",
       "        <td>100.0</td>\n",
       "    </tr>\n",
       "    <tr>\n",
       "        <td>Alaska</td>\n",
       "        <td>Murder or Manslaughter</td>\n",
       "        <td>163</td>\n",
       "        <td>165</td>\n",
       "        <td>98.79</td>\n",
       "    </tr>\n",
       "    <tr>\n",
       "        <td>Arizona</td>\n",
       "        <td>Murder or Manslaughter</td>\n",
       "        <td>1248</td>\n",
       "        <td>1248</td>\n",
       "        <td>100.0</td>\n",
       "    </tr>\n",
       "    <tr>\n",
       "        <td>Arkansas</td>\n",
       "        <td>Murder or Manslaughter</td>\n",
       "        <td>599</td>\n",
       "        <td>611</td>\n",
       "        <td>98.04</td>\n",
       "    </tr>\n",
       "    <tr>\n",
       "        <td>California</td>\n",
       "        <td>Murder or Manslaughter</td>\n",
       "        <td>5567</td>\n",
       "        <td>5567</td>\n",
       "        <td>100.0</td>\n",
       "    </tr>\n",
       "    <tr>\n",
       "        <td>Colorado</td>\n",
       "        <td>Murder or Manslaughter</td>\n",
       "        <td>700</td>\n",
       "        <td>710</td>\n",
       "        <td>98.59</td>\n",
       "    </tr>\n",
       "    <tr>\n",
       "        <td>Connecticut</td>\n",
       "        <td>Murder or Manslaughter</td>\n",
       "        <td>370</td>\n",
       "        <td>370</td>\n",
       "        <td>100.0</td>\n",
       "    </tr>\n",
       "    <tr>\n",
       "        <td>Delaware</td>\n",
       "        <td>Murder or Manslaughter</td>\n",
       "        <td>148</td>\n",
       "        <td>148</td>\n",
       "        <td>100.0</td>\n",
       "    </tr>\n",
       "    <tr>\n",
       "        <td>District of Columbia</td>\n",
       "        <td>Murder or Manslaughter</td>\n",
       "        <td>222</td>\n",
       "        <td>222</td>\n",
       "        <td>100.0</td>\n",
       "    </tr>\n",
       "    <tr>\n",
       "        <td>Florida</td>\n",
       "        <td>Murder or Manslaughter</td>\n",
       "        <td>3154</td>\n",
       "        <td>3191</td>\n",
       "        <td>98.84</td>\n",
       "    </tr>\n",
       "    <tr>\n",
       "        <td>Georgia</td>\n",
       "        <td>Murder or Manslaughter</td>\n",
       "        <td>1903</td>\n",
       "        <td>1904</td>\n",
       "        <td>99.95</td>\n",
       "    </tr>\n",
       "    <tr>\n",
       "        <td>Hawaii</td>\n",
       "        <td>Murder or Manslaughter</td>\n",
       "        <td>99</td>\n",
       "        <td>99</td>\n",
       "        <td>100.0</td>\n",
       "    </tr>\n",
       "    <tr>\n",
       "        <td>Idaho</td>\n",
       "        <td>Murder or Manslaughter</td>\n",
       "        <td>132</td>\n",
       "        <td>136</td>\n",
       "        <td>97.06</td>\n",
       "    </tr>\n",
       "    <tr>\n",
       "        <td>Illinois</td>\n",
       "        <td>Murder or Manslaughter</td>\n",
       "        <td>793</td>\n",
       "        <td>794</td>\n",
       "        <td>99.87</td>\n",
       "    </tr>\n",
       "    <tr>\n",
       "        <td>Indiana</td>\n",
       "        <td>Murder or Manslaughter</td>\n",
       "        <td>1003</td>\n",
       "        <td>1003</td>\n",
       "        <td>100.0</td>\n",
       "    </tr>\n",
       "    <tr>\n",
       "        <td>Iowa</td>\n",
       "        <td>Murder or Manslaughter</td>\n",
       "        <td>219</td>\n",
       "        <td>219</td>\n",
       "        <td>100.0</td>\n",
       "    </tr>\n",
       "    <tr>\n",
       "        <td>Kansas</td>\n",
       "        <td>Murder or Manslaughter</td>\n",
       "        <td>426</td>\n",
       "        <td>426</td>\n",
       "        <td>100.0</td>\n",
       "    </tr>\n",
       "    <tr>\n",
       "        <td>Kentucky</td>\n",
       "        <td>Murder or Manslaughter</td>\n",
       "        <td>680</td>\n",
       "        <td>680</td>\n",
       "        <td>100.0</td>\n",
       "    </tr>\n",
       "    <tr>\n",
       "        <td>Louisiana</td>\n",
       "        <td>Murder or Manslaughter</td>\n",
       "        <td>1349</td>\n",
       "        <td>1349</td>\n",
       "        <td>100.0</td>\n",
       "    </tr>\n",
       "    <tr>\n",
       "        <td>Maine</td>\n",
       "        <td>Murder or Manslaughter</td>\n",
       "        <td>139</td>\n",
       "        <td>139</td>\n",
       "        <td>100.0</td>\n",
       "    </tr>\n",
       "    <tr>\n",
       "        <td>Maryland</td>\n",
       "        <td>Murder or Manslaughter</td>\n",
       "        <td>983</td>\n",
       "        <td>983</td>\n",
       "        <td>100.0</td>\n",
       "    </tr>\n",
       "    <tr>\n",
       "        <td>Massachusetts</td>\n",
       "        <td>Murder or Manslaughter</td>\n",
       "        <td>447</td>\n",
       "        <td>448</td>\n",
       "        <td>99.78</td>\n",
       "    </tr>\n",
       "    <tr>\n",
       "        <td>Michigan</td>\n",
       "        <td>Murder or Manslaughter</td>\n",
       "        <td>1826</td>\n",
       "        <td>1841</td>\n",
       "        <td>99.19</td>\n",
       "    </tr>\n",
       "    <tr>\n",
       "        <td>Minnesota</td>\n",
       "        <td>Murder or Manslaughter</td>\n",
       "        <td>363</td>\n",
       "        <td>363</td>\n",
       "        <td>100.0</td>\n",
       "    </tr>\n",
       "    <tr>\n",
       "        <td>Mississippi</td>\n",
       "        <td>Murder or Manslaughter</td>\n",
       "        <td>620</td>\n",
       "        <td>620</td>\n",
       "        <td>100.0</td>\n",
       "    </tr>\n",
       "    <tr>\n",
       "        <td>Missouri</td>\n",
       "        <td>Murder or Manslaughter</td>\n",
       "        <td>1331</td>\n",
       "        <td>1331</td>\n",
       "        <td>100.0</td>\n",
       "    </tr>\n",
       "    <tr>\n",
       "        <td>Montana</td>\n",
       "        <td>Murder or Manslaughter</td>\n",
       "        <td>105</td>\n",
       "        <td>105</td>\n",
       "        <td>100.0</td>\n",
       "    </tr>\n",
       "    <tr>\n",
       "        <td>Nebraska</td>\n",
       "        <td>Murder or Manslaughter</td>\n",
       "        <td>200</td>\n",
       "        <td>200</td>\n",
       "        <td>100.0</td>\n",
       "    </tr>\n",
       "    <tr>\n",
       "        <td>Nevada</td>\n",
       "        <td>Murder or Manslaughter</td>\n",
       "        <td>599</td>\n",
       "        <td>599</td>\n",
       "        <td>100.0</td>\n",
       "    </tr>\n",
       "    <tr>\n",
       "        <td>New Hampshire</td>\n",
       "        <td>Murder or Manslaughter</td>\n",
       "        <td>75</td>\n",
       "        <td>75</td>\n",
       "        <td>100.0</td>\n",
       "    </tr>\n",
       "    <tr>\n",
       "        <td>New Jersey</td>\n",
       "        <td>Murder or Manslaughter</td>\n",
       "        <td>1041</td>\n",
       "        <td>1041</td>\n",
       "        <td>100.0</td>\n",
       "    </tr>\n",
       "    <tr>\n",
       "        <td>New Mexico</td>\n",
       "        <td>Murder or Manslaughter</td>\n",
       "        <td>495</td>\n",
       "        <td>496</td>\n",
       "        <td>99.8</td>\n",
       "    </tr>\n",
       "    <tr>\n",
       "        <td>New York</td>\n",
       "        <td>Murder or Manslaughter</td>\n",
       "        <td>2121</td>\n",
       "        <td>2141</td>\n",
       "        <td>99.07</td>\n",
       "    </tr>\n",
       "    <tr>\n",
       "        <td>North Carolina</td>\n",
       "        <td>Murder or Manslaughter</td>\n",
       "        <td>1597</td>\n",
       "        <td>1598</td>\n",
       "        <td>99.94</td>\n",
       "    </tr>\n",
       "    <tr>\n",
       "        <td>North Dakota</td>\n",
       "        <td>Murder or Manslaughter</td>\n",
       "        <td>63</td>\n",
       "        <td>63</td>\n",
       "        <td>100.0</td>\n",
       "    </tr>\n",
       "    <tr>\n",
       "        <td>Ohio</td>\n",
       "        <td>Murder or Manslaughter</td>\n",
       "        <td>1503</td>\n",
       "        <td>1540</td>\n",
       "        <td>97.6</td>\n",
       "    </tr>\n",
       "    <tr>\n",
       "        <td>Oklahoma</td>\n",
       "        <td>Murder or Manslaughter</td>\n",
       "        <td>841</td>\n",
       "        <td>842</td>\n",
       "        <td>99.88</td>\n",
       "    </tr>\n",
       "    <tr>\n",
       "        <td>Oregon</td>\n",
       "        <td>Murder or Manslaughter</td>\n",
       "        <td>354</td>\n",
       "        <td>356</td>\n",
       "        <td>99.44</td>\n",
       "    </tr>\n",
       "    <tr>\n",
       "        <td>Pennsylvania</td>\n",
       "        <td>Murder or Manslaughter</td>\n",
       "        <td>1906</td>\n",
       "        <td>1906</td>\n",
       "        <td>100.0</td>\n",
       "    </tr>\n",
       "    <tr>\n",
       "        <td>Rhodes Island</td>\n",
       "        <td>Murder or Manslaughter</td>\n",
       "        <td>97</td>\n",
       "        <td>97</td>\n",
       "        <td>100.0</td>\n",
       "    </tr>\n",
       "    <tr>\n",
       "        <td>South Carolina</td>\n",
       "        <td>Murder or Manslaughter</td>\n",
       "        <td>1362</td>\n",
       "        <td>1371</td>\n",
       "        <td>99.34</td>\n",
       "    </tr>\n",
       "    <tr>\n",
       "        <td>South Dakota</td>\n",
       "        <td>Murder or Manslaughter</td>\n",
       "        <td>75</td>\n",
       "        <td>75</td>\n",
       "        <td>100.0</td>\n",
       "    </tr>\n",
       "    <tr>\n",
       "        <td>Tennessee</td>\n",
       "        <td>Murder or Manslaughter</td>\n",
       "        <td>1639</td>\n",
       "        <td>1643</td>\n",
       "        <td>99.76</td>\n",
       "    </tr>\n",
       "    <tr>\n",
       "        <td>Texas</td>\n",
       "        <td>Murder or Manslaughter</td>\n",
       "        <td>4647</td>\n",
       "        <td>4648</td>\n",
       "        <td>99.98</td>\n",
       "    </tr>\n",
       "    <tr>\n",
       "        <td>Utah</td>\n",
       "        <td>Murder or Manslaughter</td>\n",
       "        <td>268</td>\n",
       "        <td>270</td>\n",
       "        <td>99.26</td>\n",
       "    </tr>\n",
       "    <tr>\n",
       "        <td>Vermont</td>\n",
       "        <td>Murder or Manslaughter</td>\n",
       "        <td>45</td>\n",
       "        <td>45</td>\n",
       "        <td>100.0</td>\n",
       "    </tr>\n",
       "    <tr>\n",
       "        <td>Virginia</td>\n",
       "        <td>Murder or Manslaughter</td>\n",
       "        <td>1385</td>\n",
       "        <td>1387</td>\n",
       "        <td>99.86</td>\n",
       "    </tr>\n",
       "    <tr>\n",
       "        <td>Washington</td>\n",
       "        <td>Murder or Manslaughter</td>\n",
       "        <td>804</td>\n",
       "        <td>807</td>\n",
       "        <td>99.63</td>\n",
       "    </tr>\n",
       "    <tr>\n",
       "        <td>West Virginia</td>\n",
       "        <td>Murder or Manslaughter</td>\n",
       "        <td>302</td>\n",
       "        <td>306</td>\n",
       "        <td>98.69</td>\n",
       "    </tr>\n",
       "    <tr>\n",
       "        <td>Wisconsin</td>\n",
       "        <td>Murder or Manslaughter</td>\n",
       "        <td>694</td>\n",
       "        <td>697</td>\n",
       "        <td>99.57</td>\n",
       "    </tr>\n",
       "    <tr>\n",
       "        <td>Wyoming</td>\n",
       "        <td>Murder or Manslaughter</td>\n",
       "        <td>62</td>\n",
       "        <td>62</td>\n",
       "        <td>100.0</td>\n",
       "    </tr>\n",
       "</table>"
      ],
      "text/plain": [
       "[('Alabama', 'Murder or Manslaughter', 141, 141, 100.0),\n",
       " ('Alaska', 'Murder or Manslaughter', 163, 165, 98.79),\n",
       " ('Arizona', 'Murder or Manslaughter', 1248, 1248, 100.0),\n",
       " ('Arkansas', 'Murder or Manslaughter', 599, 611, 98.04),\n",
       " ('California', 'Murder or Manslaughter', 5567, 5567, 100.0),\n",
       " ('Colorado', 'Murder or Manslaughter', 700, 710, 98.59),\n",
       " ('Connecticut', 'Murder or Manslaughter', 370, 370, 100.0),\n",
       " ('Delaware', 'Murder or Manslaughter', 148, 148, 100.0),\n",
       " ('District of Columbia', 'Murder or Manslaughter', 222, 222, 100.0),\n",
       " ('Florida', 'Murder or Manslaughter', 3154, 3191, 98.84),\n",
       " ('Georgia', 'Murder or Manslaughter', 1903, 1904, 99.95),\n",
       " ('Hawaii', 'Murder or Manslaughter', 99, 99, 100.0),\n",
       " ('Idaho', 'Murder or Manslaughter', 132, 136, 97.06),\n",
       " ('Illinois', 'Murder or Manslaughter', 793, 794, 99.87),\n",
       " ('Indiana', 'Murder or Manslaughter', 1003, 1003, 100.0),\n",
       " ('Iowa', 'Murder or Manslaughter', 219, 219, 100.0),\n",
       " ('Kansas', 'Murder or Manslaughter', 426, 426, 100.0),\n",
       " ('Kentucky', 'Murder or Manslaughter', 680, 680, 100.0),\n",
       " ('Louisiana', 'Murder or Manslaughter', 1349, 1349, 100.0),\n",
       " ('Maine', 'Murder or Manslaughter', 139, 139, 100.0),\n",
       " ('Maryland', 'Murder or Manslaughter', 983, 983, 100.0),\n",
       " ('Massachusetts', 'Murder or Manslaughter', 447, 448, 99.78),\n",
       " ('Michigan', 'Murder or Manslaughter', 1826, 1841, 99.19),\n",
       " ('Minnesota', 'Murder or Manslaughter', 363, 363, 100.0),\n",
       " ('Mississippi', 'Murder or Manslaughter', 620, 620, 100.0),\n",
       " ('Missouri', 'Murder or Manslaughter', 1331, 1331, 100.0),\n",
       " ('Montana', 'Murder or Manslaughter', 105, 105, 100.0),\n",
       " ('Nebraska', 'Murder or Manslaughter', 200, 200, 100.0),\n",
       " ('Nevada', 'Murder or Manslaughter', 599, 599, 100.0),\n",
       " ('New Hampshire', 'Murder or Manslaughter', 75, 75, 100.0),\n",
       " ('New Jersey', 'Murder or Manslaughter', 1041, 1041, 100.0),\n",
       " ('New Mexico', 'Murder or Manslaughter', 495, 496, 99.8),\n",
       " ('New York', 'Murder or Manslaughter', 2121, 2141, 99.07),\n",
       " ('North Carolina', 'Murder or Manslaughter', 1597, 1598, 99.94),\n",
       " ('North Dakota', 'Murder or Manslaughter', 63, 63, 100.0),\n",
       " ('Ohio', 'Murder or Manslaughter', 1503, 1540, 97.6),\n",
       " ('Oklahoma', 'Murder or Manslaughter', 841, 842, 99.88),\n",
       " ('Oregon', 'Murder or Manslaughter', 354, 356, 99.44),\n",
       " ('Pennsylvania', 'Murder or Manslaughter', 1906, 1906, 100.0),\n",
       " ('Rhodes Island', 'Murder or Manslaughter', 97, 97, 100.0),\n",
       " ('South Carolina', 'Murder or Manslaughter', 1362, 1371, 99.34),\n",
       " ('South Dakota', 'Murder or Manslaughter', 75, 75, 100.0),\n",
       " ('Tennessee', 'Murder or Manslaughter', 1639, 1643, 99.76),\n",
       " ('Texas', 'Murder or Manslaughter', 4647, 4648, 99.98),\n",
       " ('Utah', 'Murder or Manslaughter', 268, 270, 99.26),\n",
       " ('Vermont', 'Murder or Manslaughter', 45, 45, 100.0),\n",
       " ('Virginia', 'Murder or Manslaughter', 1385, 1387, 99.86),\n",
       " ('Washington', 'Murder or Manslaughter', 804, 807, 99.63),\n",
       " ('West Virginia', 'Murder or Manslaughter', 302, 306, 98.69),\n",
       " ('Wisconsin', 'Murder or Manslaughter', 694, 697, 99.57),\n",
       " ('Wyoming', 'Murder or Manslaughter', 62, 62, 100.0)]"
      ]
     },
     "execution_count": 117,
     "metadata": {},
     "output_type": "execute_result"
    }
   ],
   "source": [
    "%%sql\n",
    "SELECT *\n",
    "FROM MM1014;"
   ]
  },
  {
   "cell_type": "markdown",
   "metadata": {},
   "source": [
    "#### We believe that areas with solved percentages lower than 100% require attention, so we got rid of places with a solved percentage of 100%"
   ]
  },
  {
   "cell_type": "code",
   "execution_count": 118,
   "metadata": {},
   "outputs": [
    {
     "name": "stdout",
     "output_type": "stream",
     "text": [
      " * postgresql://student@/final\n",
      "23 rows affected.\n"
     ]
    },
    {
     "data": {
      "text/plain": [
       "''"
      ]
     },
     "execution_count": 118,
     "metadata": {},
     "output_type": "execute_result"
    }
   ],
   "source": [
    "v1_MM1014 = %%sql Select * from MM1014 WHERE \"Solved Percentage%\"<100 ORDER BY \"Solved Percentage%\"\n",
    ";"
   ]
  },
  {
   "cell_type": "code",
   "execution_count": 119,
   "metadata": {},
   "outputs": [],
   "source": [
    "v1_1_MM1014 = v1_MM1014.DataFrame()"
   ]
  },
  {
   "cell_type": "code",
   "execution_count": 120,
   "metadata": {},
   "outputs": [
    {
     "data": {
      "text/html": [
       "<div>\n",
       "<style scoped>\n",
       "    .dataframe tbody tr th:only-of-type {\n",
       "        vertical-align: middle;\n",
       "    }\n",
       "\n",
       "    .dataframe tbody tr th {\n",
       "        vertical-align: top;\n",
       "    }\n",
       "\n",
       "    .dataframe thead th {\n",
       "        text-align: right;\n",
       "    }\n",
       "</style>\n",
       "<table border=\"1\" class=\"dataframe\">\n",
       "  <thead>\n",
       "    <tr style=\"text-align: right;\">\n",
       "      <th></th>\n",
       "      <th>state</th>\n",
       "      <th>crime_type</th>\n",
       "      <th>Solved Case</th>\n",
       "      <th>Total Case</th>\n",
       "      <th>Solved Percentage%</th>\n",
       "    </tr>\n",
       "  </thead>\n",
       "  <tbody>\n",
       "    <tr>\n",
       "      <th>0</th>\n",
       "      <td>Idaho</td>\n",
       "      <td>Murder or Manslaughter</td>\n",
       "      <td>132</td>\n",
       "      <td>136</td>\n",
       "      <td>97.06</td>\n",
       "    </tr>\n",
       "    <tr>\n",
       "      <th>1</th>\n",
       "      <td>Ohio</td>\n",
       "      <td>Murder or Manslaughter</td>\n",
       "      <td>1503</td>\n",
       "      <td>1540</td>\n",
       "      <td>97.60</td>\n",
       "    </tr>\n",
       "    <tr>\n",
       "      <th>2</th>\n",
       "      <td>Arkansas</td>\n",
       "      <td>Murder or Manslaughter</td>\n",
       "      <td>599</td>\n",
       "      <td>611</td>\n",
       "      <td>98.04</td>\n",
       "    </tr>\n",
       "    <tr>\n",
       "      <th>3</th>\n",
       "      <td>Colorado</td>\n",
       "      <td>Murder or Manslaughter</td>\n",
       "      <td>700</td>\n",
       "      <td>710</td>\n",
       "      <td>98.59</td>\n",
       "    </tr>\n",
       "    <tr>\n",
       "      <th>4</th>\n",
       "      <td>West Virginia</td>\n",
       "      <td>Murder or Manslaughter</td>\n",
       "      <td>302</td>\n",
       "      <td>306</td>\n",
       "      <td>98.69</td>\n",
       "    </tr>\n",
       "    <tr>\n",
       "      <th>5</th>\n",
       "      <td>Alaska</td>\n",
       "      <td>Murder or Manslaughter</td>\n",
       "      <td>163</td>\n",
       "      <td>165</td>\n",
       "      <td>98.79</td>\n",
       "    </tr>\n",
       "    <tr>\n",
       "      <th>6</th>\n",
       "      <td>Florida</td>\n",
       "      <td>Murder or Manslaughter</td>\n",
       "      <td>3154</td>\n",
       "      <td>3191</td>\n",
       "      <td>98.84</td>\n",
       "    </tr>\n",
       "    <tr>\n",
       "      <th>7</th>\n",
       "      <td>New York</td>\n",
       "      <td>Murder or Manslaughter</td>\n",
       "      <td>2121</td>\n",
       "      <td>2141</td>\n",
       "      <td>99.07</td>\n",
       "    </tr>\n",
       "    <tr>\n",
       "      <th>8</th>\n",
       "      <td>Michigan</td>\n",
       "      <td>Murder or Manslaughter</td>\n",
       "      <td>1826</td>\n",
       "      <td>1841</td>\n",
       "      <td>99.19</td>\n",
       "    </tr>\n",
       "    <tr>\n",
       "      <th>9</th>\n",
       "      <td>Utah</td>\n",
       "      <td>Murder or Manslaughter</td>\n",
       "      <td>268</td>\n",
       "      <td>270</td>\n",
       "      <td>99.26</td>\n",
       "    </tr>\n",
       "    <tr>\n",
       "      <th>10</th>\n",
       "      <td>South Carolina</td>\n",
       "      <td>Murder or Manslaughter</td>\n",
       "      <td>1362</td>\n",
       "      <td>1371</td>\n",
       "      <td>99.34</td>\n",
       "    </tr>\n",
       "    <tr>\n",
       "      <th>11</th>\n",
       "      <td>Oregon</td>\n",
       "      <td>Murder or Manslaughter</td>\n",
       "      <td>354</td>\n",
       "      <td>356</td>\n",
       "      <td>99.44</td>\n",
       "    </tr>\n",
       "    <tr>\n",
       "      <th>12</th>\n",
       "      <td>Wisconsin</td>\n",
       "      <td>Murder or Manslaughter</td>\n",
       "      <td>694</td>\n",
       "      <td>697</td>\n",
       "      <td>99.57</td>\n",
       "    </tr>\n",
       "    <tr>\n",
       "      <th>13</th>\n",
       "      <td>Washington</td>\n",
       "      <td>Murder or Manslaughter</td>\n",
       "      <td>804</td>\n",
       "      <td>807</td>\n",
       "      <td>99.63</td>\n",
       "    </tr>\n",
       "    <tr>\n",
       "      <th>14</th>\n",
       "      <td>Tennessee</td>\n",
       "      <td>Murder or Manslaughter</td>\n",
       "      <td>1639</td>\n",
       "      <td>1643</td>\n",
       "      <td>99.76</td>\n",
       "    </tr>\n",
       "    <tr>\n",
       "      <th>15</th>\n",
       "      <td>Massachusetts</td>\n",
       "      <td>Murder or Manslaughter</td>\n",
       "      <td>447</td>\n",
       "      <td>448</td>\n",
       "      <td>99.78</td>\n",
       "    </tr>\n",
       "    <tr>\n",
       "      <th>16</th>\n",
       "      <td>New Mexico</td>\n",
       "      <td>Murder or Manslaughter</td>\n",
       "      <td>495</td>\n",
       "      <td>496</td>\n",
       "      <td>99.80</td>\n",
       "    </tr>\n",
       "    <tr>\n",
       "      <th>17</th>\n",
       "      <td>Virginia</td>\n",
       "      <td>Murder or Manslaughter</td>\n",
       "      <td>1385</td>\n",
       "      <td>1387</td>\n",
       "      <td>99.86</td>\n",
       "    </tr>\n",
       "    <tr>\n",
       "      <th>18</th>\n",
       "      <td>Illinois</td>\n",
       "      <td>Murder or Manslaughter</td>\n",
       "      <td>793</td>\n",
       "      <td>794</td>\n",
       "      <td>99.87</td>\n",
       "    </tr>\n",
       "    <tr>\n",
       "      <th>19</th>\n",
       "      <td>Oklahoma</td>\n",
       "      <td>Murder or Manslaughter</td>\n",
       "      <td>841</td>\n",
       "      <td>842</td>\n",
       "      <td>99.88</td>\n",
       "    </tr>\n",
       "    <tr>\n",
       "      <th>20</th>\n",
       "      <td>North Carolina</td>\n",
       "      <td>Murder or Manslaughter</td>\n",
       "      <td>1597</td>\n",
       "      <td>1598</td>\n",
       "      <td>99.94</td>\n",
       "    </tr>\n",
       "    <tr>\n",
       "      <th>21</th>\n",
       "      <td>Georgia</td>\n",
       "      <td>Murder or Manslaughter</td>\n",
       "      <td>1903</td>\n",
       "      <td>1904</td>\n",
       "      <td>99.95</td>\n",
       "    </tr>\n",
       "    <tr>\n",
       "      <th>22</th>\n",
       "      <td>Texas</td>\n",
       "      <td>Murder or Manslaughter</td>\n",
       "      <td>4647</td>\n",
       "      <td>4648</td>\n",
       "      <td>99.98</td>\n",
       "    </tr>\n",
       "  </tbody>\n",
       "</table>\n",
       "</div>"
      ],
      "text/plain": [
       "             state              crime_type  Solved Case  Total Case  \\\n",
       "0            Idaho  Murder or Manslaughter          132         136   \n",
       "1             Ohio  Murder or Manslaughter         1503        1540   \n",
       "2         Arkansas  Murder or Manslaughter          599         611   \n",
       "3         Colorado  Murder or Manslaughter          700         710   \n",
       "4    West Virginia  Murder or Manslaughter          302         306   \n",
       "5           Alaska  Murder or Manslaughter          163         165   \n",
       "6          Florida  Murder or Manslaughter         3154        3191   \n",
       "7         New York  Murder or Manslaughter         2121        2141   \n",
       "8         Michigan  Murder or Manslaughter         1826        1841   \n",
       "9             Utah  Murder or Manslaughter          268         270   \n",
       "10  South Carolina  Murder or Manslaughter         1362        1371   \n",
       "11          Oregon  Murder or Manslaughter          354         356   \n",
       "12       Wisconsin  Murder or Manslaughter          694         697   \n",
       "13      Washington  Murder or Manslaughter          804         807   \n",
       "14       Tennessee  Murder or Manslaughter         1639        1643   \n",
       "15   Massachusetts  Murder or Manslaughter          447         448   \n",
       "16      New Mexico  Murder or Manslaughter          495         496   \n",
       "17        Virginia  Murder or Manslaughter         1385        1387   \n",
       "18        Illinois  Murder or Manslaughter          793         794   \n",
       "19        Oklahoma  Murder or Manslaughter          841         842   \n",
       "20  North Carolina  Murder or Manslaughter         1597        1598   \n",
       "21         Georgia  Murder or Manslaughter         1903        1904   \n",
       "22           Texas  Murder or Manslaughter         4647        4648   \n",
       "\n",
       "    Solved Percentage%  \n",
       "0                97.06  \n",
       "1                97.60  \n",
       "2                98.04  \n",
       "3                98.59  \n",
       "4                98.69  \n",
       "5                98.79  \n",
       "6                98.84  \n",
       "7                99.07  \n",
       "8                99.19  \n",
       "9                99.26  \n",
       "10               99.34  \n",
       "11               99.44  \n",
       "12               99.57  \n",
       "13               99.63  \n",
       "14               99.76  \n",
       "15               99.78  \n",
       "16               99.80  \n",
       "17               99.86  \n",
       "18               99.87  \n",
       "19               99.88  \n",
       "20               99.94  \n",
       "21               99.95  \n",
       "22               99.98  "
      ]
     },
     "execution_count": 120,
     "metadata": {},
     "output_type": "execute_result"
    }
   ],
   "source": [
    "v1_1_MM1014"
   ]
  },
  {
   "cell_type": "code",
   "execution_count": 121,
   "metadata": {},
   "outputs": [],
   "source": [
    "x_axis1 = v1_1_MM1014.state.unique()\n",
    "state1 = v1_1_MM1014[\"state\"]\n",
    "Solved_Per1 = v1_1_MM1014[\"Solved Percentage%\"]"
   ]
  },
  {
   "cell_type": "code",
   "execution_count": 122,
   "metadata": {},
   "outputs": [
    {
     "data": {
      "text/plain": [
       "Text(0.5,1,'Murder or Manslaughter Case Solve Percentage from 2010-2014')"
      ]
     },
     "execution_count": 122,
     "metadata": {},
     "output_type": "execute_result"
    },
    {
     "data": {
      "image/png": "[encoded data removed]",
      "text/plain": [
       "<Figure size 1440x720 with 1 Axes>"
      ]
     },
     "metadata": {
      "needs_background": "light"
     },
     "output_type": "display_data"
    }
   ],
   "source": [
    "plt.figure(figsize=(20,10))\n",
    "plt.barh(x_axis1, Solved_Per1, align='center', label='Solved Percent')\n",
    "plt.yticks(x_axis1, state1, rotation=30)\n",
    "plt.xlim([95,100])\n",
    "plt.ylabel('States')\n",
    "plt.xlabel('Solved Percentage in %')\n",
    "plt.title('Murder or Manslaughter Case Solve Percentage from 2010-2014')"
   ]
  },
  {
   "cell_type": "markdown",
   "metadata": {},
   "source": [
    "##### Crime type: Manslaughter by Negligence"
   ]
  },
  {
   "cell_type": "code",
   "execution_count": 123,
   "metadata": {},
   "outputs": [
    {
     "name": "stdout",
     "output_type": "stream",
     "text": [
      " * postgresql://student@/final\n",
      "Done.\n",
      "35 rows affected.\n"
     ]
    },
    {
     "data": {
      "text/plain": [
       "[]"
      ]
     },
     "execution_count": 123,
     "metadata": {},
     "output_type": "execute_result"
    }
   ],
   "source": [
    "%%sql\n",
    "DROP TABLE IF EXISTS MN1014 cascade;\n",
    "\n",
    "CREATE TABLE MN1014 AS\n",
    "SELECT state, crime_type, sum(case when crime_solved = 'Yes' then 1 else 0 end) as \"Solved Case\", count(*) as \"Total Case\"\n",
    "FROM crime\n",
    "JOIN homicide\n",
    "  ON crime.key = homicide.crime_key\n",
    "Join location\n",
    "  ON location.key = homicide.location_key\n",
    "Join time\n",
    "  ON time.key = homicide.time_key\n",
    "WHERE year BETWEEN 2010 AND 2014 AND crime_type = 'Manslaughter by Negligence'\n",
    "GROUP BY state, crime_type\n",
    "ORDER BY state\n",
    ";"
   ]
  },
  {
   "cell_type": "code",
   "execution_count": 124,
   "metadata": {},
   "outputs": [
    {
     "name": "stdout",
     "output_type": "stream",
     "text": [
      " * postgresql://student@/final\n",
      "Done.\n",
      "35 rows affected.\n"
     ]
    },
    {
     "data": {
      "text/plain": [
       "[]"
      ]
     },
     "execution_count": 124,
     "metadata": {},
     "output_type": "execute_result"
    }
   ],
   "source": [
    "%%sql\n",
    "ALTER TABLE MN1014\n",
    "ADD COLUMN \"Solved Percentage%\" float;\n",
    "\n",
    "UPDATE MN1014\n",
    "SET \"Solved Percentage%\" = round(\"Solved Case\"::numeric/\"Total Case\"::numeric*100,2);"
   ]
  },
  {
   "cell_type": "code",
   "execution_count": 125,
   "metadata": {},
   "outputs": [
    {
     "name": "stdout",
     "output_type": "stream",
     "text": [
      " * postgresql://student@/final\n",
      "35 rows affected.\n"
     ]
    },
    {
     "data": {
      "text/html": [
       "<table>\n",
       "    <tr>\n",
       "        <th>state</th>\n",
       "        <th>crime_type</th>\n",
       "        <th>Solved Case</th>\n",
       "        <th>Total Case</th>\n",
       "        <th>Solved Percentage%</th>\n",
       "    </tr>\n",
       "    <tr>\n",
       "        <td>Alaska</td>\n",
       "        <td>Manslaughter by Negligence</td>\n",
       "        <td>20</td>\n",
       "        <td>20</td>\n",
       "        <td>100.0</td>\n",
       "    </tr>\n",
       "    <tr>\n",
       "        <td>Arizona</td>\n",
       "        <td>Manslaughter by Negligence</td>\n",
       "        <td>58</td>\n",
       "        <td>58</td>\n",
       "        <td>100.0</td>\n",
       "    </tr>\n",
       "    <tr>\n",
       "        <td>California</td>\n",
       "        <td>Manslaughter by Negligence</td>\n",
       "        <td>78</td>\n",
       "        <td>78</td>\n",
       "        <td>100.0</td>\n",
       "    </tr>\n",
       "    <tr>\n",
       "        <td>Colorado</td>\n",
       "        <td>Manslaughter by Negligence</td>\n",
       "        <td>2</td>\n",
       "        <td>2</td>\n",
       "        <td>100.0</td>\n",
       "    </tr>\n",
       "    <tr>\n",
       "        <td>Connecticut</td>\n",
       "        <td>Manslaughter by Negligence</td>\n",
       "        <td>3</td>\n",
       "        <td>3</td>\n",
       "        <td>100.0</td>\n",
       "    </tr>\n",
       "    <tr>\n",
       "        <td>District of Columbia</td>\n",
       "        <td>Manslaughter by Negligence</td>\n",
       "        <td>2</td>\n",
       "        <td>2</td>\n",
       "        <td>100.0</td>\n",
       "    </tr>\n",
       "    <tr>\n",
       "        <td>Florida</td>\n",
       "        <td>Manslaughter by Negligence</td>\n",
       "        <td>529</td>\n",
       "        <td>529</td>\n",
       "        <td>100.0</td>\n",
       "    </tr>\n",
       "    <tr>\n",
       "        <td>Georgia</td>\n",
       "        <td>Manslaughter by Negligence</td>\n",
       "        <td>51</td>\n",
       "        <td>51</td>\n",
       "        <td>100.0</td>\n",
       "    </tr>\n",
       "    <tr>\n",
       "        <td>Hawaii</td>\n",
       "        <td>Manslaughter by Negligence</td>\n",
       "        <td>2</td>\n",
       "        <td>2</td>\n",
       "        <td>100.0</td>\n",
       "    </tr>\n",
       "    <tr>\n",
       "        <td>Illinois</td>\n",
       "        <td>Manslaughter by Negligence</td>\n",
       "        <td>19</td>\n",
       "        <td>19</td>\n",
       "        <td>100.0</td>\n",
       "    </tr>\n",
       "    <tr>\n",
       "        <td>Indiana</td>\n",
       "        <td>Manslaughter by Negligence</td>\n",
       "        <td>24</td>\n",
       "        <td>24</td>\n",
       "        <td>100.0</td>\n",
       "    </tr>\n",
       "    <tr>\n",
       "        <td>Kansas</td>\n",
       "        <td>Manslaughter by Negligence</td>\n",
       "        <td>1</td>\n",
       "        <td>1</td>\n",
       "        <td>100.0</td>\n",
       "    </tr>\n",
       "    <tr>\n",
       "        <td>Kentucky</td>\n",
       "        <td>Manslaughter by Negligence</td>\n",
       "        <td>3</td>\n",
       "        <td>3</td>\n",
       "        <td>100.0</td>\n",
       "    </tr>\n",
       "    <tr>\n",
       "        <td>Louisiana</td>\n",
       "        <td>Manslaughter by Negligence</td>\n",
       "        <td>52</td>\n",
       "        <td>52</td>\n",
       "        <td>100.0</td>\n",
       "    </tr>\n",
       "    <tr>\n",
       "        <td>Maine</td>\n",
       "        <td>Manslaughter by Negligence</td>\n",
       "        <td>7</td>\n",
       "        <td>7</td>\n",
       "        <td>100.0</td>\n",
       "    </tr>\n",
       "    <tr>\n",
       "        <td>Maryland</td>\n",
       "        <td>Manslaughter by Negligence</td>\n",
       "        <td>16</td>\n",
       "        <td>16</td>\n",
       "        <td>100.0</td>\n",
       "    </tr>\n",
       "    <tr>\n",
       "        <td>Massachusetts</td>\n",
       "        <td>Manslaughter by Negligence</td>\n",
       "        <td>2</td>\n",
       "        <td>2</td>\n",
       "        <td>100.0</td>\n",
       "    </tr>\n",
       "    <tr>\n",
       "        <td>Minnesota</td>\n",
       "        <td>Manslaughter by Negligence</td>\n",
       "        <td>55</td>\n",
       "        <td>55</td>\n",
       "        <td>100.0</td>\n",
       "    </tr>\n",
       "    <tr>\n",
       "        <td>Mississippi</td>\n",
       "        <td>Manslaughter by Negligence</td>\n",
       "        <td>22</td>\n",
       "        <td>22</td>\n",
       "        <td>100.0</td>\n",
       "    </tr>\n",
       "    <tr>\n",
       "        <td>Missouri</td>\n",
       "        <td>Manslaughter by Negligence</td>\n",
       "        <td>62</td>\n",
       "        <td>62</td>\n",
       "        <td>100.0</td>\n",
       "    </tr>\n",
       "    <tr>\n",
       "        <td>Nebraska</td>\n",
       "        <td>Manslaughter by Negligence</td>\n",
       "        <td>4</td>\n",
       "        <td>4</td>\n",
       "        <td>100.0</td>\n",
       "    </tr>\n",
       "    <tr>\n",
       "        <td>Nevada</td>\n",
       "        <td>Manslaughter by Negligence</td>\n",
       "        <td>28</td>\n",
       "        <td>28</td>\n",
       "        <td>100.0</td>\n",
       "    </tr>\n",
       "    <tr>\n",
       "        <td>New Jersey</td>\n",
       "        <td>Manslaughter by Negligence</td>\n",
       "        <td>12</td>\n",
       "        <td>12</td>\n",
       "        <td>100.0</td>\n",
       "    </tr>\n",
       "    <tr>\n",
       "        <td>New Mexico</td>\n",
       "        <td>Manslaughter by Negligence</td>\n",
       "        <td>14</td>\n",
       "        <td>14</td>\n",
       "        <td>100.0</td>\n",
       "    </tr>\n",
       "    <tr>\n",
       "        <td>New York</td>\n",
       "        <td>Manslaughter by Negligence</td>\n",
       "        <td>1</td>\n",
       "        <td>1</td>\n",
       "        <td>100.0</td>\n",
       "    </tr>\n",
       "    <tr>\n",
       "        <td>North Carolina</td>\n",
       "        <td>Manslaughter by Negligence</td>\n",
       "        <td>62</td>\n",
       "        <td>62</td>\n",
       "        <td>100.0</td>\n",
       "    </tr>\n",
       "    <tr>\n",
       "        <td>Ohio</td>\n",
       "        <td>Manslaughter by Negligence</td>\n",
       "        <td>10</td>\n",
       "        <td>10</td>\n",
       "        <td>100.0</td>\n",
       "    </tr>\n",
       "    <tr>\n",
       "        <td>Oklahoma</td>\n",
       "        <td>Manslaughter by Negligence</td>\n",
       "        <td>12</td>\n",
       "        <td>12</td>\n",
       "        <td>100.0</td>\n",
       "    </tr>\n",
       "    <tr>\n",
       "        <td>Oregon</td>\n",
       "        <td>Manslaughter by Negligence</td>\n",
       "        <td>13</td>\n",
       "        <td>13</td>\n",
       "        <td>100.0</td>\n",
       "    </tr>\n",
       "    <tr>\n",
       "        <td>Pennsylvania</td>\n",
       "        <td>Manslaughter by Negligence</td>\n",
       "        <td>89</td>\n",
       "        <td>89</td>\n",
       "        <td>100.0</td>\n",
       "    </tr>\n",
       "    <tr>\n",
       "        <td>Texas</td>\n",
       "        <td>Manslaughter by Negligence</td>\n",
       "        <td>107</td>\n",
       "        <td>107</td>\n",
       "        <td>100.0</td>\n",
       "    </tr>\n",
       "    <tr>\n",
       "        <td>Utah</td>\n",
       "        <td>Manslaughter by Negligence</td>\n",
       "        <td>4</td>\n",
       "        <td>4</td>\n",
       "        <td>100.0</td>\n",
       "    </tr>\n",
       "    <tr>\n",
       "        <td>Washington</td>\n",
       "        <td>Manslaughter by Negligence</td>\n",
       "        <td>12</td>\n",
       "        <td>12</td>\n",
       "        <td>100.0</td>\n",
       "    </tr>\n",
       "    <tr>\n",
       "        <td>Wisconsin</td>\n",
       "        <td>Manslaughter by Negligence</td>\n",
       "        <td>22</td>\n",
       "        <td>22</td>\n",
       "        <td>100.0</td>\n",
       "    </tr>\n",
       "    <tr>\n",
       "        <td>Wyoming</td>\n",
       "        <td>Manslaughter by Negligence</td>\n",
       "        <td>9</td>\n",
       "        <td>9</td>\n",
       "        <td>100.0</td>\n",
       "    </tr>\n",
       "</table>"
      ],
      "text/plain": [
       "[('Alaska', 'Manslaughter by Negligence', 20, 20, 100.0),\n",
       " ('Arizona', 'Manslaughter by Negligence', 58, 58, 100.0),\n",
       " ('California', 'Manslaughter by Negligence', 78, 78, 100.0),\n",
       " ('Colorado', 'Manslaughter by Negligence', 2, 2, 100.0),\n",
       " ('Connecticut', 'Manslaughter by Negligence', 3, 3, 100.0),\n",
       " ('District of Columbia', 'Manslaughter by Negligence', 2, 2, 100.0),\n",
       " ('Florida', 'Manslaughter by Negligence', 529, 529, 100.0),\n",
       " ('Georgia', 'Manslaughter by Negligence', 51, 51, 100.0),\n",
       " ('Hawaii', 'Manslaughter by Negligence', 2, 2, 100.0),\n",
       " ('Illinois', 'Manslaughter by Negligence', 19, 19, 100.0),\n",
       " ('Indiana', 'Manslaughter by Negligence', 24, 24, 100.0),\n",
       " ('Kansas', 'Manslaughter by Negligence', 1, 1, 100.0),\n",
       " ('Kentucky', 'Manslaughter by Negligence', 3, 3, 100.0),\n",
       " ('Louisiana', 'Manslaughter by Negligence', 52, 52, 100.0),\n",
       " ('Maine', 'Manslaughter by Negligence', 7, 7, 100.0),\n",
       " ('Maryland', 'Manslaughter by Negligence', 16, 16, 100.0),\n",
       " ('Massachusetts', 'Manslaughter by Negligence', 2, 2, 100.0),\n",
       " ('Minnesota', 'Manslaughter by Negligence', 55, 55, 100.0),\n",
       " ('Mississippi', 'Manslaughter by Negligence', 22, 22, 100.0),\n",
       " ('Missouri', 'Manslaughter by Negligence', 62, 62, 100.0),\n",
       " ('Nebraska', 'Manslaughter by Negligence', 4, 4, 100.0),\n",
       " ('Nevada', 'Manslaughter by Negligence', 28, 28, 100.0),\n",
       " ('New Jersey', 'Manslaughter by Negligence', 12, 12, 100.0),\n",
       " ('New Mexico', 'Manslaughter by Negligence', 14, 14, 100.0),\n",
       " ('New York', 'Manslaughter by Negligence', 1, 1, 100.0),\n",
       " ('North Carolina', 'Manslaughter by Negligence', 62, 62, 100.0),\n",
       " ('Ohio', 'Manslaughter by Negligence', 10, 10, 100.0),\n",
       " ('Oklahoma', 'Manslaughter by Negligence', 12, 12, 100.0),\n",
       " ('Oregon', 'Manslaughter by Negligence', 13, 13, 100.0),\n",
       " ('Pennsylvania', 'Manslaughter by Negligence', 89, 89, 100.0),\n",
       " ('Texas', 'Manslaughter by Negligence', 107, 107, 100.0),\n",
       " ('Utah', 'Manslaughter by Negligence', 4, 4, 100.0),\n",
       " ('Washington', 'Manslaughter by Negligence', 12, 12, 100.0),\n",
       " ('Wisconsin', 'Manslaughter by Negligence', 22, 22, 100.0),\n",
       " ('Wyoming', 'Manslaughter by Negligence', 9, 9, 100.0)]"
      ]
     },
     "execution_count": 125,
     "metadata": {},
     "output_type": "execute_result"
    }
   ],
   "source": [
    "%%sql\n",
    "SELECT *\n",
    "FROM MN1014;"
   ]
  },
  {
   "cell_type": "code",
   "execution_count": 126,
   "metadata": {},
   "outputs": [
    {
     "name": "stdout",
     "output_type": "stream",
     "text": [
      " * postgresql://student@/final\n",
      "35 rows affected.\n"
     ]
    }
   ],
   "source": [
    "v1_MN1014 = %%sql Select * from MN1014 WHERE \"Solved Percentage%\"<=100 ORDER BY \"Solved Percentage%\";"
   ]
  },
  {
   "cell_type": "code",
   "execution_count": 127,
   "metadata": {},
   "outputs": [],
   "source": [
    "v1_2_MN1014 = v1_MN1014.DataFrame()"
   ]
  },
  {
   "cell_type": "code",
   "execution_count": 128,
   "metadata": {},
   "outputs": [],
   "source": [
    "x_axis2 = v1_2_MN1014.state.unique()\n",
    "state2 = v1_2_MN1014[\"state\"]\n",
    "Solved_Per2 = v1_2_MN1014[\"Solved Percentage%\"]"
   ]
  },
  {
   "cell_type": "code",
   "execution_count": 129,
   "metadata": {},
   "outputs": [
    {
     "data": {
      "text/plain": [
       "Text(0.5,1,'Manslaughter by Negligence Case Solve Percentage from 2010-2014')"
      ]
     },
     "execution_count": 129,
     "metadata": {},
     "output_type": "execute_result"
    },
    {
     "data": {
      "image/png": "[encoded data removed]",
      "text/plain": [
       "<Figure size 1440x720 with 1 Axes>"
      ]
     },
     "metadata": {
      "needs_background": "light"
     },
     "output_type": "display_data"
    }
   ],
   "source": [
    "plt.figure(figsize=(20,10))\n",
    "plt.barh(x_axis2, Solved_Per2, align='center', label='Solved Percent')\n",
    "plt.yticks(x_axis2, state2, rotation=30)\n",
    "plt.xlim([95,100])\n",
    "plt.ylabel('States')\n",
    "plt.xlabel('Solved Percentage in %')\n",
    "plt.title('Manslaughter by Negligence Case Solve Percentage from 2010-2014')"
   ]
  },
  {
   "cell_type": "markdown",
   "metadata": {},
   "source": [
    "##### Crimes classified as Manslaughter by Negligence all have a solved rate 100%, as manslaughter by Negligence is a crime that will alwasy be solved. On the other hand, Murder or Manslaughter in states like Idaho, Ohio, Arkansas, Colorado, and West Virginia have a relatively low percentage of solved cases. Therefore, we suggest allocating more police force on these state in crime type of Murder or Manslaughter, though obviously these crimes are more difficult to solve. "
   ]
  },
  {
   "cell_type": "markdown",
   "metadata": {},
   "source": [
    "# Business Question 2. "
   ]
  },
  {
   "cell_type": "markdown",
   "metadata": {},
   "source": [
    "## Relationship between victim and preparator:"
   ]
  },
  {
   "cell_type": "markdown",
   "metadata": {},
   "source": [
    "### Along with improving the solving rate of each state/city by enhancing police force distribution, we also wanted to look at details of the crimes. Relationship between victim(s) and preparator(s) is one of the most significant part of investigation as it could lead to insights for psycologists as well as crime forensic officers."
   ]
  },
  {
   "cell_type": "markdown",
   "metadata": {},
   "source": [
    "#### Find out how many types of relationships exist in our dataset"
   ]
  },
  {
   "cell_type": "code",
   "execution_count": 100,
   "metadata": {},
   "outputs": [
    {
     "name": "stdout",
     "output_type": "stream",
     "text": [
      " * postgresql://student@/final\n",
      "28 rows affected.\n"
     ]
    },
    {
     "data": {
      "text/html": [
       "<table>\n",
       "    <tr>\n",
       "        <th>relationship</th>\n",
       "    </tr>\n",
       "    <tr>\n",
       "        <td>Ex-Wife</td>\n",
       "    </tr>\n",
       "    <tr>\n",
       "        <td>Neighbor</td>\n",
       "    </tr>\n",
       "    <tr>\n",
       "        <td>Mother</td>\n",
       "    </tr>\n",
       "    <tr>\n",
       "        <td>Husband</td>\n",
       "    </tr>\n",
       "    <tr>\n",
       "        <td>Ex-Husband</td>\n",
       "    </tr>\n",
       "    <tr>\n",
       "        <td>Stepson</td>\n",
       "    </tr>\n",
       "    <tr>\n",
       "        <td>Employer</td>\n",
       "    </tr>\n",
       "    <tr>\n",
       "        <td>Father</td>\n",
       "    </tr>\n",
       "    <tr>\n",
       "        <td>Unknown</td>\n",
       "    </tr>\n",
       "    <tr>\n",
       "        <td>Friend</td>\n",
       "    </tr>\n",
       "    <tr>\n",
       "        <td>Stepfather</td>\n",
       "    </tr>\n",
       "    <tr>\n",
       "        <td>Boyfriend</td>\n",
       "    </tr>\n",
       "    <tr>\n",
       "        <td>In-Law</td>\n",
       "    </tr>\n",
       "    <tr>\n",
       "        <td>Stepmother</td>\n",
       "    </tr>\n",
       "    <tr>\n",
       "        <td>Daughter</td>\n",
       "    </tr>\n",
       "    <tr>\n",
       "        <td>Common-Law Husband</td>\n",
       "    </tr>\n",
       "    <tr>\n",
       "        <td>Common-Law Wife</td>\n",
       "    </tr>\n",
       "    <tr>\n",
       "        <td>Acquaintance</td>\n",
       "    </tr>\n",
       "    <tr>\n",
       "        <td>Brother</td>\n",
       "    </tr>\n",
       "    <tr>\n",
       "        <td>Sister</td>\n",
       "    </tr>\n",
       "    <tr>\n",
       "        <td>Boyfriend/Girlfriend</td>\n",
       "    </tr>\n",
       "    <tr>\n",
       "        <td>Stranger</td>\n",
       "    </tr>\n",
       "    <tr>\n",
       "        <td>Employee</td>\n",
       "    </tr>\n",
       "    <tr>\n",
       "        <td>Stepdaughter</td>\n",
       "    </tr>\n",
       "    <tr>\n",
       "        <td>Wife</td>\n",
       "    </tr>\n",
       "    <tr>\n",
       "        <td>Son</td>\n",
       "    </tr>\n",
       "    <tr>\n",
       "        <td>Girlfriend</td>\n",
       "    </tr>\n",
       "    <tr>\n",
       "        <td>Family</td>\n",
       "    </tr>\n",
       "</table>"
      ],
      "text/plain": [
       "[('Ex-Wife',),\n",
       " ('Neighbor',),\n",
       " ('Mother',),\n",
       " ('Husband',),\n",
       " ('Ex-Husband',),\n",
       " ('Stepson',),\n",
       " ('Employer',),\n",
       " ('Father',),\n",
       " ('Unknown',),\n",
       " ('Friend',),\n",
       " ('Stepfather',),\n",
       " ('Boyfriend',),\n",
       " ('In-Law',),\n",
       " ('Stepmother',),\n",
       " ('Daughter',),\n",
       " ('Common-Law Husband',),\n",
       " ('Common-Law Wife',),\n",
       " ('Acquaintance',),\n",
       " ('Brother',),\n",
       " ('Sister',),\n",
       " ('Boyfriend/Girlfriend',),\n",
       " ('Stranger',),\n",
       " ('Employee',),\n",
       " ('Stepdaughter',),\n",
       " ('Wife',),\n",
       " ('Son',),\n",
       " ('Girlfriend',),\n",
       " ('Family',)]"
      ]
     },
     "execution_count": 100,
     "metadata": {},
     "output_type": "execute_result"
    }
   ],
   "source": [
    "%%sql\n",
    "SELECT DISTINCT relationship\n",
    "FROM crime;"
   ]
  },
  {
   "cell_type": "markdown",
   "metadata": {},
   "source": [
    "##### Add a column relation_type into dimension table crime"
   ]
  },
  {
   "cell_type": "code",
   "execution_count": 101,
   "metadata": {},
   "outputs": [
    {
     "name": "stdout",
     "output_type": "stream",
     "text": [
      " * postgresql://student@/final\n",
      "Done.\n"
     ]
    },
    {
     "data": {
      "text/plain": [
       "[]"
      ]
     },
     "execution_count": 101,
     "metadata": {},
     "output_type": "execute_result"
    }
   ],
   "source": [
    "%%sql\n",
    "ALTER TABLE crime\n",
    "ADD COLUMN relation_type varchar(200);"
   ]
  },
  {
   "cell_type": "markdown",
   "metadata": {},
   "source": [
    "##### Define the 28 kinds of relationsip into 5 main categories"
   ]
  },
  {
   "cell_type": "markdown",
   "metadata": {},
   "source": [
    "##### Group Wife,Husband,Ex-Wife,Ex-Husband,Boyfriend,Common-Law Husband,Common-Law Wife,Boyfriend,Girlfriend,Boyfriend/Girlfriend into category \"Intimate\""
   ]
  },
  {
   "cell_type": "code",
   "execution_count": 102,
   "metadata": {},
   "outputs": [
    {
     "name": "stdout",
     "output_type": "stream",
     "text": [
      " * postgresql://student@/final\n",
      "197 rows affected.\n"
     ]
    },
    {
     "data": {
      "text/plain": [
       "[]"
      ]
     },
     "execution_count": 102,
     "metadata": {},
     "output_type": "execute_result"
    }
   ],
   "source": [
    "%%sql\n",
    "UPDATE crime\n",
    "SET relation_type = 'Intimate'\n",
    "WHERE crime.relationship in ('Wife','Husband','Ex-Wife','Ex-Husband','Boyfriend','Common-Law Husband','Common-Law Wife','Boyfriend','Girlfriend','Boyfriend/Girlfriend') ;"
   ]
  },
  {
   "cell_type": "markdown",
   "metadata": {},
   "source": [
    "##### Group Mother,Stepson,Stepmother,Stepfather,Daughter,Sister,Father,Stepdaughter,Brother,In-Law,Family,Son into Family"
   ]
  },
  {
   "cell_type": "code",
   "execution_count": 103,
   "metadata": {},
   "outputs": [
    {
     "name": "stdout",
     "output_type": "stream",
     "text": [
      " * postgresql://student@/final\n",
      "277 rows affected.\n"
     ]
    },
    {
     "data": {
      "text/plain": [
       "[]"
      ]
     },
     "execution_count": 103,
     "metadata": {},
     "output_type": "execute_result"
    }
   ],
   "source": [
    "%%sql\n",
    "UPDATE crime\n",
    "SET relation_type = 'Family'\n",
    "WHERE crime.relationship in  ('Mother','Stepson','Stepmother','Stepfather','Daughter','Sister','Father','Stepdaughter','Brother','In-Law','Family','Son');"
   ]
  },
  {
   "cell_type": "markdown",
   "metadata": {},
   "source": [
    "##### Group Neighbor, Friend, Acquanintance into Acquaintance"
   ]
  },
  {
   "cell_type": "code",
   "execution_count": 104,
   "metadata": {},
   "outputs": [
    {
     "name": "stdout",
     "output_type": "stream",
     "text": [
      " * postgresql://student@/final\n",
      "89 rows affected.\n"
     ]
    },
    {
     "data": {
      "text/plain": [
       "[]"
      ]
     },
     "execution_count": 104,
     "metadata": {},
     "output_type": "execute_result"
    }
   ],
   "source": [
    "%%sql\n",
    "UPDATE crime\n",
    "SET relation_type = 'Acquaintance'\n",
    "WHERE crime.relationship in ('Neighbor','Friend','Acquaintance');"
   ]
  },
  {
   "cell_type": "markdown",
   "metadata": {},
   "source": [
    "##### Group Employer and Employee into Work"
   ]
  },
  {
   "cell_type": "code",
   "execution_count": 105,
   "metadata": {},
   "outputs": [
    {
     "name": "stdout",
     "output_type": "stream",
     "text": [
      " * postgresql://student@/final\n",
      "34 rows affected.\n"
     ]
    },
    {
     "data": {
      "text/plain": [
       "[]"
      ]
     },
     "execution_count": 105,
     "metadata": {},
     "output_type": "execute_result"
    }
   ],
   "source": [
    "%%sql\n",
    "UPDATE crime\n",
    "SET relation_type = 'Work'\n",
    "WHERE crime.relationship in ('Employer','Employee');"
   ]
  },
  {
   "cell_type": "markdown",
   "metadata": {},
   "source": [
    "##### Group Unkown, Stranger into Stranger"
   ]
  },
  {
   "cell_type": "code",
   "execution_count": 106,
   "metadata": {},
   "outputs": [
    {
     "name": "stdout",
     "output_type": "stream",
     "text": [
      " * postgresql://student@/final\n",
      "61 rows affected.\n"
     ]
    },
    {
     "data": {
      "text/plain": [
       "[]"
      ]
     },
     "execution_count": 106,
     "metadata": {},
     "output_type": "execute_result"
    }
   ],
   "source": [
    "%%sql\n",
    "UPDATE crime\n",
    "SET relation_type = 'Stranger'\n",
    "WHERE crime.relationship in ('Unknown','Stranger');"
   ]
  },
  {
   "cell_type": "markdown",
   "metadata": {},
   "source": [
    "##### Amounts of crime grouped by relationship in each year from 1980-2014"
   ]
  },
  {
   "cell_type": "code",
   "execution_count": 107,
   "metadata": {},
   "outputs": [
    {
     "name": "stdout",
     "output_type": "stream",
     "text": [
      " * postgresql://student@/final\n",
      "175 rows affected.\n"
     ]
    },
    {
     "data": {
      "text/html": [
       "<table>\n",
       "    <tr>\n",
       "        <th>year</th>\n",
       "        <th>count</th>\n",
       "        <th>relation_type</th>\n",
       "    </tr>\n",
       "    <tr>\n",
       "        <td>1980</td>\n",
       "        <td>6415</td>\n",
       "        <td>Acquaintance</td>\n",
       "    </tr>\n",
       "    <tr>\n",
       "        <td>1981</td>\n",
       "        <td>6272</td>\n",
       "        <td>Acquaintance</td>\n",
       "    </tr>\n",
       "    <tr>\n",
       "        <td>1986</td>\n",
       "        <td>6159</td>\n",
       "        <td>Acquaintance</td>\n",
       "    </tr>\n",
       "    <tr>\n",
       "        <td>1990</td>\n",
       "        <td>6033</td>\n",
       "        <td>Acquaintance</td>\n",
       "    </tr>\n",
       "    <tr>\n",
       "        <td>1993</td>\n",
       "        <td>5950</td>\n",
       "        <td>Stranger</td>\n",
       "    </tr>\n",
       "    <tr>\n",
       "        <td>1982</td>\n",
       "        <td>5920</td>\n",
       "        <td>Acquaintance</td>\n",
       "    </tr>\n",
       "    <tr>\n",
       "        <td>1992</td>\n",
       "        <td>5859</td>\n",
       "        <td>Stranger</td>\n",
       "    </tr>\n",
       "    <tr>\n",
       "        <td>1989</td>\n",
       "        <td>5818</td>\n",
       "        <td>Acquaintance</td>\n",
       "    </tr>\n",
       "    <tr>\n",
       "        <td>1994</td>\n",
       "        <td>5766</td>\n",
       "        <td>Stranger</td>\n",
       "    </tr>\n",
       "    <tr>\n",
       "        <td>1983</td>\n",
       "        <td>5678</td>\n",
       "        <td>Acquaintance</td>\n",
       "    </tr>\n",
       "    <tr>\n",
       "        <td>1987</td>\n",
       "        <td>5670</td>\n",
       "        <td>Acquaintance</td>\n",
       "    </tr>\n",
       "    <tr>\n",
       "        <td>1993</td>\n",
       "        <td>5669</td>\n",
       "        <td>Acquaintance</td>\n",
       "    </tr>\n",
       "    <tr>\n",
       "        <td>1991</td>\n",
       "        <td>5622</td>\n",
       "        <td>Acquaintance</td>\n",
       "    </tr>\n",
       "    <tr>\n",
       "        <td>1985</td>\n",
       "        <td>5617</td>\n",
       "        <td>Acquaintance</td>\n",
       "    </tr>\n",
       "    <tr>\n",
       "        <td>1992</td>\n",
       "        <td>5554</td>\n",
       "        <td>Acquaintance</td>\n",
       "    </tr>\n",
       "    <tr>\n",
       "        <td>1991</td>\n",
       "        <td>5439</td>\n",
       "        <td>Stranger</td>\n",
       "    </tr>\n",
       "    <tr>\n",
       "        <td>1988</td>\n",
       "        <td>5416</td>\n",
       "        <td>Acquaintance</td>\n",
       "    </tr>\n",
       "    <tr>\n",
       "        <td>1994</td>\n",
       "        <td>5408</td>\n",
       "        <td>Acquaintance</td>\n",
       "    </tr>\n",
       "    <tr>\n",
       "        <td>1995</td>\n",
       "        <td>5408</td>\n",
       "        <td>Stranger</td>\n",
       "    </tr>\n",
       "    <tr>\n",
       "        <td>1980</td>\n",
       "        <td>5372</td>\n",
       "        <td>Stranger</td>\n",
       "    </tr>\n",
       "    <tr>\n",
       "        <td>1984</td>\n",
       "        <td>5347</td>\n",
       "        <td>Acquaintance</td>\n",
       "    </tr>\n",
       "    <tr>\n",
       "        <td>2007</td>\n",
       "        <td>5152</td>\n",
       "        <td>Stranger</td>\n",
       "    </tr>\n",
       "    <tr>\n",
       "        <td>2006</td>\n",
       "        <td>5106</td>\n",
       "        <td>Stranger</td>\n",
       "    </tr>\n",
       "    <tr>\n",
       "        <td>2005</td>\n",
       "        <td>4988</td>\n",
       "        <td>Stranger</td>\n",
       "    </tr>\n",
       "    <tr>\n",
       "        <td>1996</td>\n",
       "        <td>4969</td>\n",
       "        <td>Stranger</td>\n",
       "    </tr>\n",
       "    <tr>\n",
       "        <td>2009</td>\n",
       "        <td>4872</td>\n",
       "        <td>Stranger</td>\n",
       "    </tr>\n",
       "    <tr>\n",
       "        <td>1981</td>\n",
       "        <td>4796</td>\n",
       "        <td>Stranger</td>\n",
       "    </tr>\n",
       "    <tr>\n",
       "        <td>1995</td>\n",
       "        <td>4770</td>\n",
       "        <td>Acquaintance</td>\n",
       "    </tr>\n",
       "    <tr>\n",
       "        <td>2012</td>\n",
       "        <td>4765</td>\n",
       "        <td>Stranger</td>\n",
       "    </tr>\n",
       "    <tr>\n",
       "        <td>2010</td>\n",
       "        <td>4693</td>\n",
       "        <td>Stranger</td>\n",
       "    </tr>\n",
       "    <tr>\n",
       "        <td>2002</td>\n",
       "        <td>4666</td>\n",
       "        <td>Stranger</td>\n",
       "    </tr>\n",
       "    <tr>\n",
       "        <td>1990</td>\n",
       "        <td>4660</td>\n",
       "        <td>Stranger</td>\n",
       "    </tr>\n",
       "    <tr>\n",
       "        <td>2004</td>\n",
       "        <td>4594</td>\n",
       "        <td>Stranger</td>\n",
       "    </tr>\n",
       "    <tr>\n",
       "        <td>2014</td>\n",
       "        <td>4566</td>\n",
       "        <td>Stranger</td>\n",
       "    </tr>\n",
       "    <tr>\n",
       "        <td>1982</td>\n",
       "        <td>4512</td>\n",
       "        <td>Stranger</td>\n",
       "    </tr>\n",
       "    <tr>\n",
       "        <td>2001</td>\n",
       "        <td>4488</td>\n",
       "        <td>Stranger</td>\n",
       "    </tr>\n",
       "    <tr>\n",
       "        <td>2011</td>\n",
       "        <td>4483</td>\n",
       "        <td>Stranger</td>\n",
       "    </tr>\n",
       "    <tr>\n",
       "        <td>2003</td>\n",
       "        <td>4466</td>\n",
       "        <td>Stranger</td>\n",
       "    </tr>\n",
       "    <tr>\n",
       "        <td>2013</td>\n",
       "        <td>4439</td>\n",
       "        <td>Stranger</td>\n",
       "    </tr>\n",
       "    <tr>\n",
       "        <td>1997</td>\n",
       "        <td>4379</td>\n",
       "        <td>Stranger</td>\n",
       "    </tr>\n",
       "    <tr>\n",
       "        <td>1996</td>\n",
       "        <td>4345</td>\n",
       "        <td>Acquaintance</td>\n",
       "    </tr>\n",
       "    <tr>\n",
       "        <td>2008</td>\n",
       "        <td>4321</td>\n",
       "        <td>Stranger</td>\n",
       "    </tr>\n",
       "    <tr>\n",
       "        <td>1998</td>\n",
       "        <td>4138</td>\n",
       "        <td>Stranger</td>\n",
       "    </tr>\n",
       "    <tr>\n",
       "        <td>1983</td>\n",
       "        <td>4110</td>\n",
       "        <td>Stranger</td>\n",
       "    </tr>\n",
       "    <tr>\n",
       "        <td>1986</td>\n",
       "        <td>4108</td>\n",
       "        <td>Stranger</td>\n",
       "    </tr>\n",
       "    <tr>\n",
       "        <td>1989</td>\n",
       "        <td>4071</td>\n",
       "        <td>Stranger</td>\n",
       "    </tr>\n",
       "    <tr>\n",
       "        <td>1997</td>\n",
       "        <td>4030</td>\n",
       "        <td>Acquaintance</td>\n",
       "    </tr>\n",
       "    <tr>\n",
       "        <td>2000</td>\n",
       "        <td>4014</td>\n",
       "        <td>Stranger</td>\n",
       "    </tr>\n",
       "    <tr>\n",
       "        <td>1988</td>\n",
       "        <td>3817</td>\n",
       "        <td>Stranger</td>\n",
       "    </tr>\n",
       "    <tr>\n",
       "        <td>1999</td>\n",
       "        <td>3721</td>\n",
       "        <td>Stranger</td>\n",
       "    </tr>\n",
       "    <tr>\n",
       "        <td>1985</td>\n",
       "        <td>3617</td>\n",
       "        <td>Stranger</td>\n",
       "    </tr>\n",
       "    <tr>\n",
       "        <td>1984</td>\n",
       "        <td>3583</td>\n",
       "        <td>Stranger</td>\n",
       "    </tr>\n",
       "    <tr>\n",
       "        <td>1998</td>\n",
       "        <td>3528</td>\n",
       "        <td>Acquaintance</td>\n",
       "    </tr>\n",
       "    <tr>\n",
       "        <td>1987</td>\n",
       "        <td>3505</td>\n",
       "        <td>Stranger</td>\n",
       "    </tr>\n",
       "    <tr>\n",
       "        <td>2006</td>\n",
       "        <td>3253</td>\n",
       "        <td>Acquaintance</td>\n",
       "    </tr>\n",
       "    <tr>\n",
       "        <td>1999</td>\n",
       "        <td>3172</td>\n",
       "        <td>Acquaintance</td>\n",
       "    </tr>\n",
       "    <tr>\n",
       "        <td>2002</td>\n",
       "        <td>3033</td>\n",
       "        <td>Acquaintance</td>\n",
       "    </tr>\n",
       "    <tr>\n",
       "        <td>2003</td>\n",
       "        <td>2998</td>\n",
       "        <td>Acquaintance</td>\n",
       "    </tr>\n",
       "    <tr>\n",
       "        <td>2007</td>\n",
       "        <td>2949</td>\n",
       "        <td>Acquaintance</td>\n",
       "    </tr>\n",
       "    <tr>\n",
       "        <td>2005</td>\n",
       "        <td>2946</td>\n",
       "        <td>Acquaintance</td>\n",
       "    </tr>\n",
       "    <tr>\n",
       "        <td>2004</td>\n",
       "        <td>2878</td>\n",
       "        <td>Acquaintance</td>\n",
       "    </tr>\n",
       "    <tr>\n",
       "        <td>2001</td>\n",
       "        <td>2872</td>\n",
       "        <td>Acquaintance</td>\n",
       "    </tr>\n",
       "    <tr>\n",
       "        <td>2008</td>\n",
       "        <td>2806</td>\n",
       "        <td>Acquaintance</td>\n",
       "    </tr>\n",
       "    <tr>\n",
       "        <td>2009</td>\n",
       "        <td>2783</td>\n",
       "        <td>Acquaintance</td>\n",
       "    </tr>\n",
       "    <tr>\n",
       "        <td>2000</td>\n",
       "        <td>2769</td>\n",
       "        <td>Acquaintance</td>\n",
       "    </tr>\n",
       "    <tr>\n",
       "        <td>1980</td>\n",
       "        <td>2631</td>\n",
       "        <td>Intimate</td>\n",
       "    </tr>\n",
       "    <tr>\n",
       "        <td>2010</td>\n",
       "        <td>2575</td>\n",
       "        <td>Acquaintance</td>\n",
       "    </tr>\n",
       "    <tr>\n",
       "        <td>2011</td>\n",
       "        <td>2573</td>\n",
       "        <td>Acquaintance</td>\n",
       "    </tr>\n",
       "    <tr>\n",
       "        <td>1981</td>\n",
       "        <td>2553</td>\n",
       "        <td>Intimate</td>\n",
       "    </tr>\n",
       "    <tr>\n",
       "        <td>2012</td>\n",
       "        <td>2460</td>\n",
       "        <td>Acquaintance</td>\n",
       "    </tr>\n",
       "    <tr>\n",
       "        <td>1983</td>\n",
       "        <td>2452</td>\n",
       "        <td>Intimate</td>\n",
       "    </tr>\n",
       "    <tr>\n",
       "        <td>1982</td>\n",
       "        <td>2405</td>\n",
       "        <td>Intimate</td>\n",
       "    </tr>\n",
       "    <tr>\n",
       "        <td>2013</td>\n",
       "        <td>2393</td>\n",
       "        <td>Acquaintance</td>\n",
       "    </tr>\n",
       "    <tr>\n",
       "        <td>1986</td>\n",
       "        <td>2392</td>\n",
       "        <td>Intimate</td>\n",
       "    </tr>\n",
       "    <tr>\n",
       "        <td>1985</td>\n",
       "        <td>2283</td>\n",
       "        <td>Intimate</td>\n",
       "    </tr>\n",
       "    <tr>\n",
       "        <td>2014</td>\n",
       "        <td>2250</td>\n",
       "        <td>Acquaintance</td>\n",
       "    </tr>\n",
       "    <tr>\n",
       "        <td>1984</td>\n",
       "        <td>2218</td>\n",
       "        <td>Intimate</td>\n",
       "    </tr>\n",
       "    <tr>\n",
       "        <td>1987</td>\n",
       "        <td>2150</td>\n",
       "        <td>Intimate</td>\n",
       "    </tr>\n",
       "    <tr>\n",
       "        <td>1993</td>\n",
       "        <td>2147</td>\n",
       "        <td>Intimate</td>\n",
       "    </tr>\n",
       "    <tr>\n",
       "        <td>1988</td>\n",
       "        <td>2099</td>\n",
       "        <td>Intimate</td>\n",
       "    </tr>\n",
       "    <tr>\n",
       "        <td>1992</td>\n",
       "        <td>2068</td>\n",
       "        <td>Intimate</td>\n",
       "    </tr>\n",
       "    <tr>\n",
       "        <td>1989</td>\n",
       "        <td>2033</td>\n",
       "        <td>Intimate</td>\n",
       "    </tr>\n",
       "    <tr>\n",
       "        <td>1990</td>\n",
       "        <td>2027</td>\n",
       "        <td>Intimate</td>\n",
       "    </tr>\n",
       "    <tr>\n",
       "        <td>1994</td>\n",
       "        <td>1973</td>\n",
       "        <td>Intimate</td>\n",
       "    </tr>\n",
       "    <tr>\n",
       "        <td>1991</td>\n",
       "        <td>1969</td>\n",
       "        <td>Intimate</td>\n",
       "    </tr>\n",
       "    <tr>\n",
       "        <td>1982</td>\n",
       "        <td>1787</td>\n",
       "        <td>Family</td>\n",
       "    </tr>\n",
       "    <tr>\n",
       "        <td>1980</td>\n",
       "        <td>1764</td>\n",
       "        <td>Family</td>\n",
       "    </tr>\n",
       "    <tr>\n",
       "        <td>1983</td>\n",
       "        <td>1742</td>\n",
       "        <td>Family</td>\n",
       "    </tr>\n",
       "    <tr>\n",
       "        <td>1995</td>\n",
       "        <td>1736</td>\n",
       "        <td>Intimate</td>\n",
       "    </tr>\n",
       "    <tr>\n",
       "        <td>1981</td>\n",
       "        <td>1726</td>\n",
       "        <td>Family</td>\n",
       "    </tr>\n",
       "    <tr>\n",
       "        <td>1986</td>\n",
       "        <td>1641</td>\n",
       "        <td>Family</td>\n",
       "    </tr>\n",
       "    <tr>\n",
       "        <td>1996</td>\n",
       "        <td>1633</td>\n",
       "        <td>Intimate</td>\n",
       "    </tr>\n",
       "    <tr>\n",
       "        <td>1987</td>\n",
       "        <td>1625</td>\n",
       "        <td>Family</td>\n",
       "    </tr>\n",
       "    <tr>\n",
       "        <td>1998</td>\n",
       "        <td>1595</td>\n",
       "        <td>Intimate</td>\n",
       "    </tr>\n",
       "    <tr>\n",
       "        <td>1984</td>\n",
       "        <td>1594</td>\n",
       "        <td>Family</td>\n",
       "    </tr>\n",
       "    <tr>\n",
       "        <td>1985</td>\n",
       "        <td>1590</td>\n",
       "        <td>Family</td>\n",
       "    </tr>\n",
       "    <tr>\n",
       "        <td>1989</td>\n",
       "        <td>1588</td>\n",
       "        <td>Family</td>\n",
       "    </tr>\n",
       "    <tr>\n",
       "        <td>1991</td>\n",
       "        <td>1559</td>\n",
       "        <td>Family</td>\n",
       "    </tr>\n",
       "    <tr>\n",
       "        <td>1992</td>\n",
       "        <td>1527</td>\n",
       "        <td>Family</td>\n",
       "    </tr>\n",
       "    <tr>\n",
       "        <td>1997</td>\n",
       "        <td>1525</td>\n",
       "        <td>Intimate</td>\n",
       "    </tr>\n",
       "    <tr>\n",
       "        <td>1993</td>\n",
       "        <td>1515</td>\n",
       "        <td>Family</td>\n",
       "    </tr>\n",
       "    <tr>\n",
       "        <td>2009</td>\n",
       "        <td>1513</td>\n",
       "        <td>Intimate</td>\n",
       "    </tr>\n",
       "    <tr>\n",
       "        <td>2007</td>\n",
       "        <td>1493</td>\n",
       "        <td>Intimate</td>\n",
       "    </tr>\n",
       "    <tr>\n",
       "        <td>2000</td>\n",
       "        <td>1488</td>\n",
       "        <td>Intimate</td>\n",
       "    </tr>\n",
       "    <tr>\n",
       "        <td>2010</td>\n",
       "        <td>1488</td>\n",
       "        <td>Intimate</td>\n",
       "    </tr>\n",
       "    <tr>\n",
       "        <td>1990</td>\n",
       "        <td>1478</td>\n",
       "        <td>Family</td>\n",
       "    </tr>\n",
       "    <tr>\n",
       "        <td>2002</td>\n",
       "        <td>1469</td>\n",
       "        <td>Intimate</td>\n",
       "    </tr>\n",
       "    <tr>\n",
       "        <td>2005</td>\n",
       "        <td>1466</td>\n",
       "        <td>Intimate</td>\n",
       "    </tr>\n",
       "    <tr>\n",
       "        <td>2001</td>\n",
       "        <td>1460</td>\n",
       "        <td>Intimate</td>\n",
       "    </tr>\n",
       "    <tr>\n",
       "        <td>1994</td>\n",
       "        <td>1458</td>\n",
       "        <td>Family</td>\n",
       "    </tr>\n",
       "    <tr>\n",
       "        <td>2011</td>\n",
       "        <td>1454</td>\n",
       "        <td>Intimate</td>\n",
       "    </tr>\n",
       "    <tr>\n",
       "        <td>1988</td>\n",
       "        <td>1453</td>\n",
       "        <td>Family</td>\n",
       "    </tr>\n",
       "    <tr>\n",
       "        <td>2008</td>\n",
       "        <td>1452</td>\n",
       "        <td>Intimate</td>\n",
       "    </tr>\n",
       "    <tr>\n",
       "        <td>2004</td>\n",
       "        <td>1447</td>\n",
       "        <td>Intimate</td>\n",
       "    </tr>\n",
       "    <tr>\n",
       "        <td>2003</td>\n",
       "        <td>1439</td>\n",
       "        <td>Intimate</td>\n",
       "    </tr>\n",
       "    <tr>\n",
       "        <td>1999</td>\n",
       "        <td>1438</td>\n",
       "        <td>Intimate</td>\n",
       "    </tr>\n",
       "    <tr>\n",
       "        <td>2012</td>\n",
       "        <td>1427</td>\n",
       "        <td>Intimate</td>\n",
       "    </tr>\n",
       "    <tr>\n",
       "        <td>2006</td>\n",
       "        <td>1404</td>\n",
       "        <td>Intimate</td>\n",
       "    </tr>\n",
       "    <tr>\n",
       "        <td>1995</td>\n",
       "        <td>1399</td>\n",
       "        <td>Family</td>\n",
       "    </tr>\n",
       "    <tr>\n",
       "        <td>2013</td>\n",
       "        <td>1374</td>\n",
       "        <td>Intimate</td>\n",
       "    </tr>\n",
       "    <tr>\n",
       "        <td>2014</td>\n",
       "        <td>1309</td>\n",
       "        <td>Intimate</td>\n",
       "    </tr>\n",
       "    <tr>\n",
       "        <td>2009</td>\n",
       "        <td>1294</td>\n",
       "        <td>Family</td>\n",
       "    </tr>\n",
       "    <tr>\n",
       "        <td>1997</td>\n",
       "        <td>1285</td>\n",
       "        <td>Family</td>\n",
       "    </tr>\n",
       "    <tr>\n",
       "        <td>2010</td>\n",
       "        <td>1281</td>\n",
       "        <td>Family</td>\n",
       "    </tr>\n",
       "    <tr>\n",
       "        <td>2014</td>\n",
       "        <td>1261</td>\n",
       "        <td>Family</td>\n",
       "    </tr>\n",
       "    <tr>\n",
       "        <td>2011</td>\n",
       "        <td>1230</td>\n",
       "        <td>Family</td>\n",
       "    </tr>\n",
       "    <tr>\n",
       "        <td>2004</td>\n",
       "        <td>1229</td>\n",
       "        <td>Family</td>\n",
       "    </tr>\n",
       "    <tr>\n",
       "        <td>2003</td>\n",
       "        <td>1228</td>\n",
       "        <td>Family</td>\n",
       "    </tr>\n",
       "    <tr>\n",
       "        <td>2008</td>\n",
       "        <td>1226</td>\n",
       "        <td>Family</td>\n",
       "    </tr>\n",
       "    <tr>\n",
       "        <td>2007</td>\n",
       "        <td>1215</td>\n",
       "        <td>Family</td>\n",
       "    </tr>\n",
       "    <tr>\n",
       "        <td>1996</td>\n",
       "        <td>1212</td>\n",
       "        <td>Family</td>\n",
       "    </tr>\n",
       "    <tr>\n",
       "        <td>2013</td>\n",
       "        <td>1211</td>\n",
       "        <td>Family</td>\n",
       "    </tr>\n",
       "    <tr>\n",
       "        <td>2006</td>\n",
       "        <td>1204</td>\n",
       "        <td>Family</td>\n",
       "    </tr>\n",
       "    <tr>\n",
       "        <td>2001</td>\n",
       "        <td>1196</td>\n",
       "        <td>Family</td>\n",
       "    </tr>\n",
       "    <tr>\n",
       "        <td>2005</td>\n",
       "        <td>1196</td>\n",
       "        <td>Family</td>\n",
       "    </tr>\n",
       "    <tr>\n",
       "        <td>2002</td>\n",
       "        <td>1175</td>\n",
       "        <td>Family</td>\n",
       "    </tr>\n",
       "    <tr>\n",
       "        <td>2012</td>\n",
       "        <td>1162</td>\n",
       "        <td>Family</td>\n",
       "    </tr>\n",
       "    <tr>\n",
       "        <td>1999</td>\n",
       "        <td>1158</td>\n",
       "        <td>Family</td>\n",
       "    </tr>\n",
       "    <tr>\n",
       "        <td>1998</td>\n",
       "        <td>1155</td>\n",
       "        <td>Family</td>\n",
       "    </tr>\n",
       "    <tr>\n",
       "        <td>2000</td>\n",
       "        <td>1072</td>\n",
       "        <td>Family</td>\n",
       "    </tr>\n",
       "    <tr>\n",
       "        <td>1985</td>\n",
       "        <td>44</td>\n",
       "        <td>Work</td>\n",
       "    </tr>\n",
       "    <tr>\n",
       "        <td>1993</td>\n",
       "        <td>44</td>\n",
       "        <td>Work</td>\n",
       "    </tr>\n",
       "    <tr>\n",
       "        <td>2003</td>\n",
       "        <td>39</td>\n",
       "        <td>Work</td>\n",
       "    </tr>\n",
       "    <tr>\n",
       "        <td>1990</td>\n",
       "        <td>36</td>\n",
       "        <td>Work</td>\n",
       "    </tr>\n",
       "    <tr>\n",
       "        <td>1982</td>\n",
       "        <td>34</td>\n",
       "        <td>Work</td>\n",
       "    </tr>\n",
       "    <tr>\n",
       "        <td>2009</td>\n",
       "        <td>33</td>\n",
       "        <td>Work</td>\n",
       "    </tr>\n",
       "    <tr>\n",
       "        <td>1983</td>\n",
       "        <td>32</td>\n",
       "        <td>Work</td>\n",
       "    </tr>\n",
       "    <tr>\n",
       "        <td>1988</td>\n",
       "        <td>32</td>\n",
       "        <td>Work</td>\n",
       "    </tr>\n",
       "    <tr>\n",
       "        <td>1992</td>\n",
       "        <td>32</td>\n",
       "        <td>Work</td>\n",
       "    </tr>\n",
       "    <tr>\n",
       "        <td>1987</td>\n",
       "        <td>31</td>\n",
       "        <td>Work</td>\n",
       "    </tr>\n",
       "    <tr>\n",
       "        <td>1984</td>\n",
       "        <td>31</td>\n",
       "        <td>Work</td>\n",
       "    </tr>\n",
       "    <tr>\n",
       "        <td>1981</td>\n",
       "        <td>30</td>\n",
       "        <td>Work</td>\n",
       "    </tr>\n",
       "    <tr>\n",
       "        <td>1998</td>\n",
       "        <td>29</td>\n",
       "        <td>Work</td>\n",
       "    </tr>\n",
       "    <tr>\n",
       "        <td>1989</td>\n",
       "        <td>29</td>\n",
       "        <td>Work</td>\n",
       "    </tr>\n",
       "    <tr>\n",
       "        <td>1986</td>\n",
       "        <td>28</td>\n",
       "        <td>Work</td>\n",
       "    </tr>\n",
       "    <tr>\n",
       "        <td>1991</td>\n",
       "        <td>26</td>\n",
       "        <td>Work</td>\n",
       "    </tr>\n",
       "    <tr>\n",
       "        <td>1995</td>\n",
       "        <td>26</td>\n",
       "        <td>Work</td>\n",
       "    </tr>\n",
       "    <tr>\n",
       "        <td>2006</td>\n",
       "        <td>25</td>\n",
       "        <td>Work</td>\n",
       "    </tr>\n",
       "    <tr>\n",
       "        <td>1999</td>\n",
       "        <td>25</td>\n",
       "        <td>Work</td>\n",
       "    </tr>\n",
       "    <tr>\n",
       "        <td>2011</td>\n",
       "        <td>23</td>\n",
       "        <td>Work</td>\n",
       "    </tr>\n",
       "    <tr>\n",
       "        <td>2012</td>\n",
       "        <td>22</td>\n",
       "        <td>Work</td>\n",
       "    </tr>\n",
       "    <tr>\n",
       "        <td>1994</td>\n",
       "        <td>21</td>\n",
       "        <td>Work</td>\n",
       "    </tr>\n",
       "    <tr>\n",
       "        <td>2010</td>\n",
       "        <td>21</td>\n",
       "        <td>Work</td>\n",
       "    </tr>\n",
       "    <tr>\n",
       "        <td>1980</td>\n",
       "        <td>20</td>\n",
       "        <td>Work</td>\n",
       "    </tr>\n",
       "    <tr>\n",
       "        <td>2004</td>\n",
       "        <td>19</td>\n",
       "        <td>Work</td>\n",
       "    </tr>\n",
       "    <tr>\n",
       "        <td>1996</td>\n",
       "        <td>18</td>\n",
       "        <td>Work</td>\n",
       "    </tr>\n",
       "    <tr>\n",
       "        <td>1997</td>\n",
       "        <td>18</td>\n",
       "        <td>Work</td>\n",
       "    </tr>\n",
       "    <tr>\n",
       "        <td>2001</td>\n",
       "        <td>17</td>\n",
       "        <td>Work</td>\n",
       "    </tr>\n",
       "    <tr>\n",
       "        <td>2000</td>\n",
       "        <td>16</td>\n",
       "        <td>Work</td>\n",
       "    </tr>\n",
       "    <tr>\n",
       "        <td>2008</td>\n",
       "        <td>14</td>\n",
       "        <td>Work</td>\n",
       "    </tr>\n",
       "    <tr>\n",
       "        <td>2014</td>\n",
       "        <td>14</td>\n",
       "        <td>Work</td>\n",
       "    </tr>\n",
       "    <tr>\n",
       "        <td>2007</td>\n",
       "        <td>13</td>\n",
       "        <td>Work</td>\n",
       "    </tr>\n",
       "    <tr>\n",
       "        <td>2002</td>\n",
       "        <td>13</td>\n",
       "        <td>Work</td>\n",
       "    </tr>\n",
       "    <tr>\n",
       "        <td>2005</td>\n",
       "        <td>13</td>\n",
       "        <td>Work</td>\n",
       "    </tr>\n",
       "    <tr>\n",
       "        <td>2013</td>\n",
       "        <td>11</td>\n",
       "        <td>Work</td>\n",
       "    </tr>\n",
       "</table>"
      ],
      "text/plain": [
       "[(Decimal('1980'), 6415, 'Acquaintance'),\n",
       " (Decimal('1981'), 6272, 'Acquaintance'),\n",
       " (Decimal('1986'), 6159, 'Acquaintance'),\n",
       " (Decimal('1990'), 6033, 'Acquaintance'),\n",
       " (Decimal('1993'), 5950, 'Stranger'),\n",
       " (Decimal('1982'), 5920, 'Acquaintance'),\n",
       " (Decimal('1992'), 5859, 'Stranger'),\n",
       " (Decimal('1989'), 5818, 'Acquaintance'),\n",
       " (Decimal('1994'), 5766, 'Stranger'),\n",
       " (Decimal('1983'), 5678, 'Acquaintance'),\n",
       " (Decimal('1987'), 5670, 'Acquaintance'),\n",
       " (Decimal('1993'), 5669, 'Acquaintance'),\n",
       " (Decimal('1991'), 5622, 'Acquaintance'),\n",
       " (Decimal('1985'), 5617, 'Acquaintance'),\n",
       " (Decimal('1992'), 5554, 'Acquaintance'),\n",
       " (Decimal('1991'), 5439, 'Stranger'),\n",
       " (Decimal('1988'), 5416, 'Acquaintance'),\n",
       " (Decimal('1994'), 5408, 'Acquaintance'),\n",
       " (Decimal('1995'), 5408, 'Stranger'),\n",
       " (Decimal('1980'), 5372, 'Stranger'),\n",
       " (Decimal('1984'), 5347, 'Acquaintance'),\n",
       " (Decimal('2007'), 5152, 'Stranger'),\n",
       " (Decimal('2006'), 5106, 'Stranger'),\n",
       " (Decimal('2005'), 4988, 'Stranger'),\n",
       " (Decimal('1996'), 4969, 'Stranger'),\n",
       " (Decimal('2009'), 4872, 'Stranger'),\n",
       " (Decimal('1981'), 4796, 'Stranger'),\n",
       " (Decimal('1995'), 4770, 'Acquaintance'),\n",
       " (Decimal('2012'), 4765, 'Stranger'),\n",
       " (Decimal('2010'), 4693, 'Stranger'),\n",
       " (Decimal('2002'), 4666, 'Stranger'),\n",
       " (Decimal('1990'), 4660, 'Stranger'),\n",
       " (Decimal('2004'), 4594, 'Stranger'),\n",
       " (Decimal('2014'), 4566, 'Stranger'),\n",
       " (Decimal('1982'), 4512, 'Stranger'),\n",
       " (Decimal('2001'), 4488, 'Stranger'),\n",
       " (Decimal('2011'), 4483, 'Stranger'),\n",
       " (Decimal('2003'), 4466, 'Stranger'),\n",
       " (Decimal('2013'), 4439, 'Stranger'),\n",
       " (Decimal('1997'), 4379, 'Stranger'),\n",
       " (Decimal('1996'), 4345, 'Acquaintance'),\n",
       " (Decimal('2008'), 4321, 'Stranger'),\n",
       " (Decimal('1998'), 4138, 'Stranger'),\n",
       " (Decimal('1983'), 4110, 'Stranger'),\n",
       " (Decimal('1986'), 4108, 'Stranger'),\n",
       " (Decimal('1989'), 4071, 'Stranger'),\n",
       " (Decimal('1997'), 4030, 'Acquaintance'),\n",
       " (Decimal('2000'), 4014, 'Stranger'),\n",
       " (Decimal('1988'), 3817, 'Stranger'),\n",
       " (Decimal('1999'), 3721, 'Stranger'),\n",
       " (Decimal('1985'), 3617, 'Stranger'),\n",
       " (Decimal('1984'), 3583, 'Stranger'),\n",
       " (Decimal('1998'), 3528, 'Acquaintance'),\n",
       " (Decimal('1987'), 3505, 'Stranger'),\n",
       " (Decimal('2006'), 3253, 'Acquaintance'),\n",
       " (Decimal('1999'), 3172, 'Acquaintance'),\n",
       " (Decimal('2002'), 3033, 'Acquaintance'),\n",
       " (Decimal('2003'), 2998, 'Acquaintance'),\n",
       " (Decimal('2007'), 2949, 'Acquaintance'),\n",
       " (Decimal('2005'), 2946, 'Acquaintance'),\n",
       " (Decimal('2004'), 2878, 'Acquaintance'),\n",
       " (Decimal('2001'), 2872, 'Acquaintance'),\n",
       " (Decimal('2008'), 2806, 'Acquaintance'),\n",
       " (Decimal('2009'), 2783, 'Acquaintance'),\n",
       " (Decimal('2000'), 2769, 'Acquaintance'),\n",
       " (Decimal('1980'), 2631, 'Intimate'),\n",
       " (Decimal('2010'), 2575, 'Acquaintance'),\n",
       " (Decimal('2011'), 2573, 'Acquaintance'),\n",
       " (Decimal('1981'), 2553, 'Intimate'),\n",
       " (Decimal('2012'), 2460, 'Acquaintance'),\n",
       " (Decimal('1983'), 2452, 'Intimate'),\n",
       " (Decimal('1982'), 2405, 'Intimate'),\n",
       " (Decimal('2013'), 2393, 'Acquaintance'),\n",
       " (Decimal('1986'), 2392, 'Intimate'),\n",
       " (Decimal('1985'), 2283, 'Intimate'),\n",
       " (Decimal('2014'), 2250, 'Acquaintance'),\n",
       " (Decimal('1984'), 2218, 'Intimate'),\n",
       " (Decimal('1987'), 2150, 'Intimate'),\n",
       " (Decimal('1993'), 2147, 'Intimate'),\n",
       " (Decimal('1988'), 2099, 'Intimate'),\n",
       " (Decimal('1992'), 2068, 'Intimate'),\n",
       " (Decimal('1989'), 2033, 'Intimate'),\n",
       " (Decimal('1990'), 2027, 'Intimate'),\n",
       " (Decimal('1994'), 1973, 'Intimate'),\n",
       " (Decimal('1991'), 1969, 'Intimate'),\n",
       " (Decimal('1982'), 1787, 'Family'),\n",
       " (Decimal('1980'), 1764, 'Family'),\n",
       " (Decimal('1983'), 1742, 'Family'),\n",
       " (Decimal('1995'), 1736, 'Intimate'),\n",
       " (Decimal('1981'), 1726, 'Family'),\n",
       " (Decimal('1986'), 1641, 'Family'),\n",
       " (Decimal('1996'), 1633, 'Intimate'),\n",
       " (Decimal('1987'), 1625, 'Family'),\n",
       " (Decimal('1998'), 1595, 'Intimate'),\n",
       " (Decimal('1984'), 1594, 'Family'),\n",
       " (Decimal('1985'), 1590, 'Family'),\n",
       " (Decimal('1989'), 1588, 'Family'),\n",
       " (Decimal('1991'), 1559, 'Family'),\n",
       " (Decimal('1992'), 1527, 'Family'),\n",
       " (Decimal('1997'), 1525, 'Intimate'),\n",
       " (Decimal('1993'), 1515, 'Family'),\n",
       " (Decimal('2009'), 1513, 'Intimate'),\n",
       " (Decimal('2007'), 1493, 'Intimate'),\n",
       " (Decimal('2000'), 1488, 'Intimate'),\n",
       " (Decimal('2010'), 1488, 'Intimate'),\n",
       " (Decimal('1990'), 1478, 'Family'),\n",
       " (Decimal('2002'), 1469, 'Intimate'),\n",
       " (Decimal('2005'), 1466, 'Intimate'),\n",
       " (Decimal('2001'), 1460, 'Intimate'),\n",
       " (Decimal('1994'), 1458, 'Family'),\n",
       " (Decimal('2011'), 1454, 'Intimate'),\n",
       " (Decimal('1988'), 1453, 'Family'),\n",
       " (Decimal('2008'), 1452, 'Intimate'),\n",
       " (Decimal('2004'), 1447, 'Intimate'),\n",
       " (Decimal('2003'), 1439, 'Intimate'),\n",
       " (Decimal('1999'), 1438, 'Intimate'),\n",
       " (Decimal('2012'), 1427, 'Intimate'),\n",
       " (Decimal('2006'), 1404, 'Intimate'),\n",
       " (Decimal('1995'), 1399, 'Family'),\n",
       " (Decimal('2013'), 1374, 'Intimate'),\n",
       " (Decimal('2014'), 1309, 'Intimate'),\n",
       " (Decimal('2009'), 1294, 'Family'),\n",
       " (Decimal('1997'), 1285, 'Family'),\n",
       " (Decimal('2010'), 1281, 'Family'),\n",
       " (Decimal('2014'), 1261, 'Family'),\n",
       " (Decimal('2011'), 1230, 'Family'),\n",
       " (Decimal('2004'), 1229, 'Family'),\n",
       " (Decimal('2003'), 1228, 'Family'),\n",
       " (Decimal('2008'), 1226, 'Family'),\n",
       " (Decimal('2007'), 1215, 'Family'),\n",
       " (Decimal('1996'), 1212, 'Family'),\n",
       " (Decimal('2013'), 1211, 'Family'),\n",
       " (Decimal('2006'), 1204, 'Family'),\n",
       " (Decimal('2001'), 1196, 'Family'),\n",
       " (Decimal('2005'), 1196, 'Family'),\n",
       " (Decimal('2002'), 1175, 'Family'),\n",
       " (Decimal('2012'), 1162, 'Family'),\n",
       " (Decimal('1999'), 1158, 'Family'),\n",
       " (Decimal('1998'), 1155, 'Family'),\n",
       " (Decimal('2000'), 1072, 'Family'),\n",
       " (Decimal('1985'), 44, 'Work'),\n",
       " (Decimal('1993'), 44, 'Work'),\n",
       " (Decimal('2003'), 39, 'Work'),\n",
       " (Decimal('1990'), 36, 'Work'),\n",
       " (Decimal('1982'), 34, 'Work'),\n",
       " (Decimal('2009'), 33, 'Work'),\n",
       " (Decimal('1983'), 32, 'Work'),\n",
       " (Decimal('1988'), 32, 'Work'),\n",
       " (Decimal('1992'), 32, 'Work'),\n",
       " (Decimal('1987'), 31, 'Work'),\n",
       " (Decimal('1984'), 31, 'Work'),\n",
       " (Decimal('1981'), 30, 'Work'),\n",
       " (Decimal('1998'), 29, 'Work'),\n",
       " (Decimal('1989'), 29, 'Work'),\n",
       " (Decimal('1986'), 28, 'Work'),\n",
       " (Decimal('1991'), 26, 'Work'),\n",
       " (Decimal('1995'), 26, 'Work'),\n",
       " (Decimal('2006'), 25, 'Work'),\n",
       " (Decimal('1999'), 25, 'Work'),\n",
       " (Decimal('2011'), 23, 'Work'),\n",
       " (Decimal('2012'), 22, 'Work'),\n",
       " (Decimal('1994'), 21, 'Work'),\n",
       " (Decimal('2010'), 21, 'Work'),\n",
       " (Decimal('1980'), 20, 'Work'),\n",
       " (Decimal('2004'), 19, 'Work'),\n",
       " (Decimal('1996'), 18, 'Work'),\n",
       " (Decimal('1997'), 18, 'Work'),\n",
       " (Decimal('2001'), 17, 'Work'),\n",
       " (Decimal('2000'), 16, 'Work'),\n",
       " (Decimal('2008'), 14, 'Work'),\n",
       " (Decimal('2014'), 14, 'Work'),\n",
       " (Decimal('2007'), 13, 'Work'),\n",
       " (Decimal('2002'), 13, 'Work'),\n",
       " (Decimal('2005'), 13, 'Work'),\n",
       " (Decimal('2013'), 11, 'Work')]"
      ]
     },
     "execution_count": 107,
     "metadata": {},
     "output_type": "execute_result"
    }
   ],
   "source": [
    "%%sql\n",
    "SELECT time.year, COUNT(*) count, crime.relation_type\n",
    "FROM homicide\n",
    "JOIN time\n",
    "on homicide.time_key = time.key\n",
    "JOIN crime\n",
    "on homicide.crime_key=crime.key\n",
    "GROUP BY year,relation_type\n",
    "ORDER BY count desc;"
   ]
  },
  {
   "cell_type": "markdown",
   "metadata": {},
   "source": [
    "##### Export as view for future using"
   ]
  },
  {
   "cell_type": "code",
   "execution_count": 108,
   "metadata": {},
   "outputs": [
    {
     "name": "stdout",
     "output_type": "stream",
     "text": [
      " * postgresql://student@/final\n",
      "Done.\n"
     ]
    },
    {
     "data": {
      "text/plain": [
       "[]"
      ]
     },
     "execution_count": 108,
     "metadata": {},
     "output_type": "execute_result"
    }
   ],
   "source": [
    "%%sql\n",
    "CREATE OR REPLACE VIEW view2 AS\n",
    "SELECT time.year, COUNT(*) count, crime.relation_type\n",
    "FROM homicide\n",
    "JOIN time\n",
    "on homicide.time_key = time.key\n",
    "JOIN crime\n",
    "on homicide.crime_key=crime.key\n",
    "GROUP BY year,relation_type\n",
    "ORDER BY year;"
   ]
  },
  {
   "cell_type": "markdown",
   "metadata": {},
   "source": [
    "##### Export the table as dataframe for visualization"
   ]
  },
  {
   "cell_type": "code",
   "execution_count": 109,
   "metadata": {},
   "outputs": [
    {
     "name": "stdout",
     "output_type": "stream",
     "text": [
      " * postgresql://student@/final\n",
      "175 rows affected.\n"
     ]
    }
   ],
   "source": [
    "v2=%%sql SELECT * FROM view2;"
   ]
  },
  {
   "cell_type": "code",
   "execution_count": 110,
   "metadata": {},
   "outputs": [],
   "source": [
    "v2_2=v2.DataFrame()"
   ]
  },
  {
   "cell_type": "code",
   "execution_count": 111,
   "metadata": {},
   "outputs": [
    {
     "data": {
      "text/html": [
       "<div>\n",
       "<style scoped>\n",
       "    .dataframe tbody tr th:only-of-type {\n",
       "        vertical-align: middle;\n",
       "    }\n",
       "\n",
       "    .dataframe tbody tr th {\n",
       "        vertical-align: top;\n",
       "    }\n",
       "\n",
       "    .dataframe thead th {\n",
       "        text-align: right;\n",
       "    }\n",
       "</style>\n",
       "<table border=\"1\" class=\"dataframe\">\n",
       "  <thead>\n",
       "    <tr style=\"text-align: right;\">\n",
       "      <th></th>\n",
       "      <th>year</th>\n",
       "      <th>count</th>\n",
       "      <th>relation_type</th>\n",
       "    </tr>\n",
       "  </thead>\n",
       "  <tbody>\n",
       "    <tr>\n",
       "      <th>0</th>\n",
       "      <td>1980</td>\n",
       "      <td>20</td>\n",
       "      <td>Work</td>\n",
       "    </tr>\n",
       "    <tr>\n",
       "      <th>1</th>\n",
       "      <td>1980</td>\n",
       "      <td>1764</td>\n",
       "      <td>Family</td>\n",
       "    </tr>\n",
       "    <tr>\n",
       "      <th>2</th>\n",
       "      <td>1980</td>\n",
       "      <td>2631</td>\n",
       "      <td>Intimate</td>\n",
       "    </tr>\n",
       "    <tr>\n",
       "      <th>3</th>\n",
       "      <td>1980</td>\n",
       "      <td>5372</td>\n",
       "      <td>Stranger</td>\n",
       "    </tr>\n",
       "    <tr>\n",
       "      <th>4</th>\n",
       "      <td>1980</td>\n",
       "      <td>6415</td>\n",
       "      <td>Acquaintance</td>\n",
       "    </tr>\n",
       "    <tr>\n",
       "      <th>5</th>\n",
       "      <td>1981</td>\n",
       "      <td>30</td>\n",
       "      <td>Work</td>\n",
       "    </tr>\n",
       "    <tr>\n",
       "      <th>6</th>\n",
       "      <td>1981</td>\n",
       "      <td>2553</td>\n",
       "      <td>Intimate</td>\n",
       "    </tr>\n",
       "    <tr>\n",
       "      <th>7</th>\n",
       "      <td>1981</td>\n",
       "      <td>1726</td>\n",
       "      <td>Family</td>\n",
       "    </tr>\n",
       "    <tr>\n",
       "      <th>8</th>\n",
       "      <td>1981</td>\n",
       "      <td>4796</td>\n",
       "      <td>Stranger</td>\n",
       "    </tr>\n",
       "    <tr>\n",
       "      <th>9</th>\n",
       "      <td>1981</td>\n",
       "      <td>6272</td>\n",
       "      <td>Acquaintance</td>\n",
       "    </tr>\n",
       "    <tr>\n",
       "      <th>10</th>\n",
       "      <td>1982</td>\n",
       "      <td>4512</td>\n",
       "      <td>Stranger</td>\n",
       "    </tr>\n",
       "    <tr>\n",
       "      <th>11</th>\n",
       "      <td>1982</td>\n",
       "      <td>5920</td>\n",
       "      <td>Acquaintance</td>\n",
       "    </tr>\n",
       "    <tr>\n",
       "      <th>12</th>\n",
       "      <td>1982</td>\n",
       "      <td>34</td>\n",
       "      <td>Work</td>\n",
       "    </tr>\n",
       "    <tr>\n",
       "      <th>13</th>\n",
       "      <td>1982</td>\n",
       "      <td>2405</td>\n",
       "      <td>Intimate</td>\n",
       "    </tr>\n",
       "    <tr>\n",
       "      <th>14</th>\n",
       "      <td>1982</td>\n",
       "      <td>1787</td>\n",
       "      <td>Family</td>\n",
       "    </tr>\n",
       "    <tr>\n",
       "      <th>15</th>\n",
       "      <td>1983</td>\n",
       "      <td>5678</td>\n",
       "      <td>Acquaintance</td>\n",
       "    </tr>\n",
       "    <tr>\n",
       "      <th>16</th>\n",
       "      <td>1983</td>\n",
       "      <td>1742</td>\n",
       "      <td>Family</td>\n",
       "    </tr>\n",
       "    <tr>\n",
       "      <th>17</th>\n",
       "      <td>1983</td>\n",
       "      <td>4110</td>\n",
       "      <td>Stranger</td>\n",
       "    </tr>\n",
       "    <tr>\n",
       "      <th>18</th>\n",
       "      <td>1983</td>\n",
       "      <td>32</td>\n",
       "      <td>Work</td>\n",
       "    </tr>\n",
       "    <tr>\n",
       "      <th>19</th>\n",
       "      <td>1983</td>\n",
       "      <td>2452</td>\n",
       "      <td>Intimate</td>\n",
       "    </tr>\n",
       "    <tr>\n",
       "      <th>20</th>\n",
       "      <td>1984</td>\n",
       "      <td>2218</td>\n",
       "      <td>Intimate</td>\n",
       "    </tr>\n",
       "    <tr>\n",
       "      <th>21</th>\n",
       "      <td>1984</td>\n",
       "      <td>31</td>\n",
       "      <td>Work</td>\n",
       "    </tr>\n",
       "    <tr>\n",
       "      <th>22</th>\n",
       "      <td>1984</td>\n",
       "      <td>1594</td>\n",
       "      <td>Family</td>\n",
       "    </tr>\n",
       "    <tr>\n",
       "      <th>23</th>\n",
       "      <td>1984</td>\n",
       "      <td>3583</td>\n",
       "      <td>Stranger</td>\n",
       "    </tr>\n",
       "    <tr>\n",
       "      <th>24</th>\n",
       "      <td>1984</td>\n",
       "      <td>5347</td>\n",
       "      <td>Acquaintance</td>\n",
       "    </tr>\n",
       "    <tr>\n",
       "      <th>25</th>\n",
       "      <td>1985</td>\n",
       "      <td>44</td>\n",
       "      <td>Work</td>\n",
       "    </tr>\n",
       "    <tr>\n",
       "      <th>26</th>\n",
       "      <td>1985</td>\n",
       "      <td>5617</td>\n",
       "      <td>Acquaintance</td>\n",
       "    </tr>\n",
       "    <tr>\n",
       "      <th>27</th>\n",
       "      <td>1985</td>\n",
       "      <td>2283</td>\n",
       "      <td>Intimate</td>\n",
       "    </tr>\n",
       "    <tr>\n",
       "      <th>28</th>\n",
       "      <td>1985</td>\n",
       "      <td>1590</td>\n",
       "      <td>Family</td>\n",
       "    </tr>\n",
       "    <tr>\n",
       "      <th>29</th>\n",
       "      <td>1985</td>\n",
       "      <td>3617</td>\n",
       "      <td>Stranger</td>\n",
       "    </tr>\n",
       "    <tr>\n",
       "      <th>...</th>\n",
       "      <td>...</td>\n",
       "      <td>...</td>\n",
       "      <td>...</td>\n",
       "    </tr>\n",
       "    <tr>\n",
       "      <th>145</th>\n",
       "      <td>2009</td>\n",
       "      <td>4872</td>\n",
       "      <td>Stranger</td>\n",
       "    </tr>\n",
       "    <tr>\n",
       "      <th>146</th>\n",
       "      <td>2009</td>\n",
       "      <td>1513</td>\n",
       "      <td>Intimate</td>\n",
       "    </tr>\n",
       "    <tr>\n",
       "      <th>147</th>\n",
       "      <td>2009</td>\n",
       "      <td>2783</td>\n",
       "      <td>Acquaintance</td>\n",
       "    </tr>\n",
       "    <tr>\n",
       "      <th>148</th>\n",
       "      <td>2009</td>\n",
       "      <td>1294</td>\n",
       "      <td>Family</td>\n",
       "    </tr>\n",
       "    <tr>\n",
       "      <th>149</th>\n",
       "      <td>2009</td>\n",
       "      <td>33</td>\n",
       "      <td>Work</td>\n",
       "    </tr>\n",
       "    <tr>\n",
       "      <th>150</th>\n",
       "      <td>2010</td>\n",
       "      <td>1488</td>\n",
       "      <td>Intimate</td>\n",
       "    </tr>\n",
       "    <tr>\n",
       "      <th>151</th>\n",
       "      <td>2010</td>\n",
       "      <td>2575</td>\n",
       "      <td>Acquaintance</td>\n",
       "    </tr>\n",
       "    <tr>\n",
       "      <th>152</th>\n",
       "      <td>2010</td>\n",
       "      <td>21</td>\n",
       "      <td>Work</td>\n",
       "    </tr>\n",
       "    <tr>\n",
       "      <th>153</th>\n",
       "      <td>2010</td>\n",
       "      <td>4693</td>\n",
       "      <td>Stranger</td>\n",
       "    </tr>\n",
       "    <tr>\n",
       "      <th>154</th>\n",
       "      <td>2010</td>\n",
       "      <td>1281</td>\n",
       "      <td>Family</td>\n",
       "    </tr>\n",
       "    <tr>\n",
       "      <th>155</th>\n",
       "      <td>2011</td>\n",
       "      <td>4483</td>\n",
       "      <td>Stranger</td>\n",
       "    </tr>\n",
       "    <tr>\n",
       "      <th>156</th>\n",
       "      <td>2011</td>\n",
       "      <td>23</td>\n",
       "      <td>Work</td>\n",
       "    </tr>\n",
       "    <tr>\n",
       "      <th>157</th>\n",
       "      <td>2011</td>\n",
       "      <td>1454</td>\n",
       "      <td>Intimate</td>\n",
       "    </tr>\n",
       "    <tr>\n",
       "      <th>158</th>\n",
       "      <td>2011</td>\n",
       "      <td>2573</td>\n",
       "      <td>Acquaintance</td>\n",
       "    </tr>\n",
       "    <tr>\n",
       "      <th>159</th>\n",
       "      <td>2011</td>\n",
       "      <td>1230</td>\n",
       "      <td>Family</td>\n",
       "    </tr>\n",
       "    <tr>\n",
       "      <th>160</th>\n",
       "      <td>2012</td>\n",
       "      <td>22</td>\n",
       "      <td>Work</td>\n",
       "    </tr>\n",
       "    <tr>\n",
       "      <th>161</th>\n",
       "      <td>2012</td>\n",
       "      <td>1427</td>\n",
       "      <td>Intimate</td>\n",
       "    </tr>\n",
       "    <tr>\n",
       "      <th>162</th>\n",
       "      <td>2012</td>\n",
       "      <td>4765</td>\n",
       "      <td>Stranger</td>\n",
       "    </tr>\n",
       "    <tr>\n",
       "      <th>163</th>\n",
       "      <td>2012</td>\n",
       "      <td>2460</td>\n",
       "      <td>Acquaintance</td>\n",
       "    </tr>\n",
       "    <tr>\n",
       "      <th>164</th>\n",
       "      <td>2012</td>\n",
       "      <td>1162</td>\n",
       "      <td>Family</td>\n",
       "    </tr>\n",
       "    <tr>\n",
       "      <th>165</th>\n",
       "      <td>2013</td>\n",
       "      <td>4439</td>\n",
       "      <td>Stranger</td>\n",
       "    </tr>\n",
       "    <tr>\n",
       "      <th>166</th>\n",
       "      <td>2013</td>\n",
       "      <td>2393</td>\n",
       "      <td>Acquaintance</td>\n",
       "    </tr>\n",
       "    <tr>\n",
       "      <th>167</th>\n",
       "      <td>2013</td>\n",
       "      <td>11</td>\n",
       "      <td>Work</td>\n",
       "    </tr>\n",
       "    <tr>\n",
       "      <th>168</th>\n",
       "      <td>2013</td>\n",
       "      <td>1374</td>\n",
       "      <td>Intimate</td>\n",
       "    </tr>\n",
       "    <tr>\n",
       "      <th>169</th>\n",
       "      <td>2013</td>\n",
       "      <td>1211</td>\n",
       "      <td>Family</td>\n",
       "    </tr>\n",
       "    <tr>\n",
       "      <th>170</th>\n",
       "      <td>2014</td>\n",
       "      <td>1261</td>\n",
       "      <td>Family</td>\n",
       "    </tr>\n",
       "    <tr>\n",
       "      <th>171</th>\n",
       "      <td>2014</td>\n",
       "      <td>4566</td>\n",
       "      <td>Stranger</td>\n",
       "    </tr>\n",
       "    <tr>\n",
       "      <th>172</th>\n",
       "      <td>2014</td>\n",
       "      <td>14</td>\n",
       "      <td>Work</td>\n",
       "    </tr>\n",
       "    <tr>\n",
       "      <th>173</th>\n",
       "      <td>2014</td>\n",
       "      <td>1309</td>\n",
       "      <td>Intimate</td>\n",
       "    </tr>\n",
       "    <tr>\n",
       "      <th>174</th>\n",
       "      <td>2014</td>\n",
       "      <td>2250</td>\n",
       "      <td>Acquaintance</td>\n",
       "    </tr>\n",
       "  </tbody>\n",
       "</table>\n",
       "<p>175 rows × 3 columns</p>\n",
       "</div>"
      ],
      "text/plain": [
       "     year  count relation_type\n",
       "0    1980     20          Work\n",
       "1    1980   1764        Family\n",
       "2    1980   2631      Intimate\n",
       "3    1980   5372      Stranger\n",
       "4    1980   6415  Acquaintance\n",
       "5    1981     30          Work\n",
       "6    1981   2553      Intimate\n",
       "7    1981   1726        Family\n",
       "8    1981   4796      Stranger\n",
       "9    1981   6272  Acquaintance\n",
       "10   1982   4512      Stranger\n",
       "11   1982   5920  Acquaintance\n",
       "12   1982     34          Work\n",
       "13   1982   2405      Intimate\n",
       "14   1982   1787        Family\n",
       "15   1983   5678  Acquaintance\n",
       "16   1983   1742        Family\n",
       "17   1983   4110      Stranger\n",
       "18   1983     32          Work\n",
       "19   1983   2452      Intimate\n",
       "20   1984   2218      Intimate\n",
       "21   1984     31          Work\n",
       "22   1984   1594        Family\n",
       "23   1984   3583      Stranger\n",
       "24   1984   5347  Acquaintance\n",
       "25   1985     44          Work\n",
       "26   1985   5617  Acquaintance\n",
       "27   1985   2283      Intimate\n",
       "28   1985   1590        Family\n",
       "29   1985   3617      Stranger\n",
       "..    ...    ...           ...\n",
       "145  2009   4872      Stranger\n",
       "146  2009   1513      Intimate\n",
       "147  2009   2783  Acquaintance\n",
       "148  2009   1294        Family\n",
       "149  2009     33          Work\n",
       "150  2010   1488      Intimate\n",
       "151  2010   2575  Acquaintance\n",
       "152  2010     21          Work\n",
       "153  2010   4693      Stranger\n",
       "154  2010   1281        Family\n",
       "155  2011   4483      Stranger\n",
       "156  2011     23          Work\n",
       "157  2011   1454      Intimate\n",
       "158  2011   2573  Acquaintance\n",
       "159  2011   1230        Family\n",
       "160  2012     22          Work\n",
       "161  2012   1427      Intimate\n",
       "162  2012   4765      Stranger\n",
       "163  2012   2460  Acquaintance\n",
       "164  2012   1162        Family\n",
       "165  2013   4439      Stranger\n",
       "166  2013   2393  Acquaintance\n",
       "167  2013     11          Work\n",
       "168  2013   1374      Intimate\n",
       "169  2013   1211        Family\n",
       "170  2014   1261        Family\n",
       "171  2014   4566      Stranger\n",
       "172  2014     14          Work\n",
       "173  2014   1309      Intimate\n",
       "174  2014   2250  Acquaintance\n",
       "\n",
       "[175 rows x 3 columns]"
      ]
     },
     "execution_count": 111,
     "metadata": {},
     "output_type": "execute_result"
    }
   ],
   "source": [
    "v2_2"
   ]
  },
  {
   "cell_type": "code",
   "execution_count": 112,
   "metadata": {},
   "outputs": [],
   "source": [
    "Intimate=v2_2[v2_2[\"relation_type\"]==\"Intimate\"]\n",
    "Stranger=v2_2[v2_2[\"relation_type\"]==\"Stranger\"]\n",
    "Work=v2_2[v2_2[\"relation_type\"]==\"Work\"]\n",
    "Family=v2_2[v2_2[\"relation_type\"]==\"Family\"]\n",
    "Acquaintance=v2_2[v2_2[\"relation_type\"]==\"Acquaintance\"]"
   ]
  },
  {
   "cell_type": "markdown",
   "metadata": {},
   "source": [
    "##### The trend of crime amount on five each relationship from 1980 to 2014"
   ]
  },
  {
   "cell_type": "code",
   "execution_count": 113,
   "metadata": {},
   "outputs": [
    {
     "data": {
      "text/plain": [
       "Text(0.5,1,'Trend on relationship')"
      ]
     },
     "execution_count": 113,
     "metadata": {},
     "output_type": "execute_result"
    },
    {
     "data": {
      "image/png": "[encoded data removed]",
      "text/plain": [
       "<Figure size 432x288 with 1 Axes>"
      ]
     },
     "metadata": {
      "needs_background": "light"
     },
     "output_type": "display_data"
    }
   ],
   "source": [
    "x_axix=v2_2.year.unique()\n",
    "intimate_count=Intimate[\"count\"]\n",
    "stranger_count=Stranger[\"count\"]\n",
    "work_count=Work[\"count\"]\n",
    "family_count=Family[\"count\"]\n",
    "acquaint_count=Acquaintance[\"count\"]\n",
    "plt.title('Trend on crime and graduation_rate')\n",
    "plt.plot(x_axix, intimate_count, color='green', label='Intimate')\n",
    "plt.plot(x_axix, stranger_count, color='red', label='Stranger')\n",
    "plt.plot(x_axix, work_count,  color='skyblue', label='Work')\n",
    "plt.plot(x_axix, family_count,  color='yellow', label='Family')\n",
    "plt.plot(x_axix, acquaint_count,  color='blue', label='Acquaintance')\n",
    "\n",
    "plt.legend() \n",
    "plt.title(\"Trend on relationship\")"
   ]
  },
  {
   "cell_type": "markdown",
   "metadata": {},
   "source": [
    "##### When plotting the the trend by year for each realtionship category, we found that as years passed, the number of crimes for work did not change much. While the amount of crimes between Family members, Acquaintances and Intimate partners decreased. The number of crimes committed by strangers stayed relatively high. Could there be a reason for more crimes between strangers? We could do more research on any changes in laws, or culture that could lead to these statistics. We are able to concldue how different relationships make up different proportions of crimes."
   ]
  },
  {
   "cell_type": "markdown",
   "metadata": {},
   "source": [
    "# Business Question 3."
   ]
  },
  {
   "cell_type": "markdown",
   "metadata": {},
   "source": [
    "## Weapon Control:"
   ]
  },
  {
   "cell_type": "markdown",
   "metadata": {},
   "source": [
    "### We know relationship could be one factor that could affect crime, but the Weapoon used also plays an important role in crime cases. What is the most common weapon used on victims? Does a specifi weapon have a higher fatality rate? Is the average proportion of population with guns affect the crime occurence?"
   ]
  },
  {
   "cell_type": "markdown",
   "metadata": {},
   "source": [
    "##### Number of victims and the average fatality rate of each different weapons."
   ]
  },
  {
   "cell_type": "code",
   "execution_count": 130,
   "metadata": {},
   "outputs": [
    {
     "name": "stdout",
     "output_type": "stream",
     "text": [
      " * postgresql://student@/final\n",
      "16 rows affected.\n"
     ]
    },
    {
     "data": {
      "text/html": [
       "<table>\n",
       "    <tr>\n",
       "        <th>weapon</th>\n",
       "        <th>number</th>\n",
       "        <th>rate</th>\n",
       "    </tr>\n",
       "    <tr>\n",
       "        <td>Handgun</td>\n",
       "        <td>25434</td>\n",
       "        <td>0.12736869516445655222</td>\n",
       "    </tr>\n",
       "    <tr>\n",
       "        <td>Fire</td>\n",
       "        <td>5799</td>\n",
       "        <td>1.4368186323092170</td>\n",
       "    </tr>\n",
       "    <tr>\n",
       "        <td>Knife</td>\n",
       "        <td>5151</td>\n",
       "        <td>0.07078271862804375309</td>\n",
       "    </tr>\n",
       "    <tr>\n",
       "        <td>Rifle</td>\n",
       "        <td>4398</td>\n",
       "        <td>0.23020151792724417692</td>\n",
       "    </tr>\n",
       "    <tr>\n",
       "        <td>Shotgun</td>\n",
       "        <td>3816</td>\n",
       "        <td>0.15185642086831947153</td>\n",
       "    </tr>\n",
       "    <tr>\n",
       "        <td>Firearm</td>\n",
       "        <td>3541</td>\n",
       "        <td>0.16255795804067392003</td>\n",
       "    </tr>\n",
       "    <tr>\n",
       "        <td>Blunt Object</td>\n",
       "        <td>2214</td>\n",
       "        <td>0.04427203103441380552</td>\n",
       "    </tr>\n",
       "    <tr>\n",
       "        <td>Unknown</td>\n",
       "        <td>2139</td>\n",
       "        <td>0.12224952849059838830</td>\n",
       "    </tr>\n",
       "    <tr>\n",
       "        <td>Explosives</td>\n",
       "        <td>1700</td>\n",
       "        <td>4.3927648578811370</td>\n",
       "    </tr>\n",
       "    <tr>\n",
       "        <td>Suffocation</td>\n",
       "        <td>656</td>\n",
       "        <td>0.22328114363512593601</td>\n",
       "    </tr>\n",
       "    <tr>\n",
       "        <td>Strangulation</td>\n",
       "        <td>510</td>\n",
       "        <td>0.11816496756255792400</td>\n",
       "    </tr>\n",
       "    <tr>\n",
       "        <td>Gun</td>\n",
       "        <td>348</td>\n",
       "        <td>0.29718189581554227156</td>\n",
       "    </tr>\n",
       "    <tr>\n",
       "        <td>Poison</td>\n",
       "        <td>254</td>\n",
       "        <td>0.70360110803324099723</td>\n",
       "    </tr>\n",
       "    <tr>\n",
       "        <td>Drowning</td>\n",
       "        <td>186</td>\n",
       "        <td>0.18921668362156663276</td>\n",
       "    </tr>\n",
       "    <tr>\n",
       "        <td>Drugs</td>\n",
       "        <td>143</td>\n",
       "        <td>0.10506980161645848641</td>\n",
       "    </tr>\n",
       "    <tr>\n",
       "        <td>Fall</td>\n",
       "        <td>6</td>\n",
       "        <td>0.03680981595092024540</td>\n",
       "    </tr>\n",
       "</table>"
      ],
      "text/plain": [
       "[('Handgun', Decimal('25434'), Decimal('0.12736869516445655222')),\n",
       " ('Fire', Decimal('5799'), Decimal('1.4368186323092170')),\n",
       " ('Knife', Decimal('5151'), Decimal('0.07078271862804375309')),\n",
       " ('Rifle', Decimal('4398'), Decimal('0.23020151792724417692')),\n",
       " ('Shotgun', Decimal('3816'), Decimal('0.15185642086831947153')),\n",
       " ('Firearm', Decimal('3541'), Decimal('0.16255795804067392003')),\n",
       " ('Blunt Object', Decimal('2214'), Decimal('0.04427203103441380552')),\n",
       " ('Unknown', Decimal('2139'), Decimal('0.12224952849059838830')),\n",
       " ('Explosives', Decimal('1700'), Decimal('4.3927648578811370')),\n",
       " ('Suffocation', Decimal('656'), Decimal('0.22328114363512593601')),\n",
       " ('Strangulation', Decimal('510'), Decimal('0.11816496756255792400')),\n",
       " ('Gun', Decimal('348'), Decimal('0.29718189581554227156')),\n",
       " ('Poison', Decimal('254'), Decimal('0.70360110803324099723')),\n",
       " ('Drowning', Decimal('186'), Decimal('0.18921668362156663276')),\n",
       " ('Drugs', Decimal('143'), Decimal('0.10506980161645848641')),\n",
       " ('Fall', Decimal('6'), Decimal('0.03680981595092024540'))]"
      ]
     },
     "execution_count": 130,
     "metadata": {},
     "output_type": "execute_result"
    }
   ],
   "source": [
    "%%sql\n",
    "SELECT Weapon, sum(Victim_Count) number, sum(Victim_Count)/COUNT(*) rate\n",
    "FROM homicide\n",
    "JOIN crime\n",
    "on homicide.crime_key = crime.key\n",
    "JOIN victim\n",
    "on homicide.victim_key = victim.key\n",
    "GROUP BY Weapon\n",
    "ORDER BY number DESC;"
   ]
  },
  {
   "cell_type": "markdown",
   "metadata": {},
   "source": [
    "##### Create a view to store the table"
   ]
  },
  {
   "cell_type": "code",
   "execution_count": 131,
   "metadata": {},
   "outputs": [
    {
     "name": "stdout",
     "output_type": "stream",
     "text": [
      " * postgresql://student@/final\n",
      "Done.\n",
      "Done.\n"
     ]
    },
    {
     "data": {
      "text/plain": [
       "[]"
      ]
     },
     "execution_count": 131,
     "metadata": {},
     "output_type": "execute_result"
    }
   ],
   "source": [
    "%%sql\n",
    "DROP VIEW IF EXISTS BQ3_1;\n",
    "CREATE OR REPLACE VIEW BQ3_1 AS\n",
    "SELECT Weapon, sum(Victim_Count) number, sum(Victim_Count)/COUNT(*) rate\n",
    "FROM homicide\n",
    "JOIN crime\n",
    "on homicide.crime_key = crime.key\n",
    "JOIN victim\n",
    "on homicide.victim_key = victim.key\n",
    "GROUP BY Weapon\n",
    "ORDER BY number DESC;"
   ]
  },
  {
   "cell_type": "code",
   "execution_count": 132,
   "metadata": {},
   "outputs": [
    {
     "name": "stdout",
     "output_type": "stream",
     "text": [
      " * postgresql://student@/final\n",
      "16 rows affected.\n"
     ]
    }
   ],
   "source": [
    "v3_1 = %%sql SELECT * FROM BQ3_1\n",
    "v3_1df = v3_1.DataFrame()"
   ]
  },
  {
   "cell_type": "markdown",
   "metadata": {},
   "source": [
    "##### Visualization for table with number of victim and average fatality rate in different types of weapon"
   ]
  },
  {
   "cell_type": "code",
   "execution_count": 133,
   "metadata": {},
   "outputs": [
    {
     "data": {
      "image/png": "[encoded data removed]",
      "text/plain": [
       "<Figure size 1296x720 with 1 Axes>"
      ]
     },
     "metadata": {
      "needs_background": "light"
     },
     "output_type": "display_data"
    }
   ],
   "source": [
    "plt.figure(figsize=(18,10))\n",
    "weapon = v3_1df.iloc[:,0]\n",
    "number = v3_1df.iloc[:,1]\n",
    "rate = v3_1df.iloc[:,2]*10000\n",
    "rects=plt.bar(range(len(number)), number, color='rgby')\n",
    "index=[0,1,2,3,4,5,6,7,8,9,10,11,12,13,14,15]\n",
    "plt.xticks(index, weapon)\n",
    "plt.ylabel(\"number\") \n",
    "for rect in rects:\n",
    "    height = rect.get_height()\n",
    "    plt.text(rect.get_x() + rect.get_width() / 2, height,  '%s' % int(height), ha='center', va='bottom')\n",
    "plt.plot(weapon,rate)\n",
    "plt.legend([\"Average Fatality Rate\"])\n",
    "plt.show()"
   ]
  },
  {
   "cell_type": "markdown",
   "metadata": {},
   "source": [
    "##### Create five even time intervals to look at the distribution of crime by category over time and find out if there is a rise or drop in certain type of wear over time."
   ]
  },
  {
   "cell_type": "code",
   "execution_count": 134,
   "metadata": {},
   "outputs": [
    {
     "name": "stdout",
     "output_type": "stream",
     "text": [
      " * postgresql://student@/final\n",
      "16 rows affected.\n"
     ]
    },
    {
     "data": {
      "text/html": [
       "<table>\n",
       "    <tr>\n",
       "        <th>weapon</th>\n",
       "        <th>count1</th>\n",
       "        <th>count2</th>\n",
       "        <th>count3</th>\n",
       "        <th>count4</th>\n",
       "        <th>count5</th>\n",
       "    </tr>\n",
       "    <tr>\n",
       "        <td>Handgun</td>\n",
       "        <td>45830</td>\n",
       "        <td>49031</td>\n",
       "        <td>41007</td>\n",
       "        <td>34086</td>\n",
       "        <td>29734</td>\n",
       "    </tr>\n",
       "    <tr>\n",
       "        <td>Knife</td>\n",
       "        <td>20809</td>\n",
       "        <td>17850</td>\n",
       "        <td>12091</td>\n",
       "        <td>11143</td>\n",
       "        <td>10879</td>\n",
       "    </tr>\n",
       "    <tr>\n",
       "        <td>Blunt Object</td>\n",
       "        <td>11272</td>\n",
       "        <td>11004</td>\n",
       "        <td>9863</td>\n",
       "        <td>9500</td>\n",
       "        <td>8370</td>\n",
       "    </tr>\n",
       "    <tr>\n",
       "        <td>Shotgun</td>\n",
       "        <td>8613</td>\n",
       "        <td>6892</td>\n",
       "        <td>4220</td>\n",
       "        <td>3044</td>\n",
       "        <td>2360</td>\n",
       "    </tr>\n",
       "    <tr>\n",
       "        <td>Rifle</td>\n",
       "        <td>6158</td>\n",
       "        <td>4934</td>\n",
       "        <td>3398</td>\n",
       "        <td>2490</td>\n",
       "        <td>2125</td>\n",
       "    </tr>\n",
       "    <tr>\n",
       "        <td>Firearm</td>\n",
       "        <td>2326</td>\n",
       "        <td>2583</td>\n",
       "        <td>3635</td>\n",
       "        <td>5219</td>\n",
       "        <td>8020</td>\n",
       "    </tr>\n",
       "    <tr>\n",
       "        <td>Unknown</td>\n",
       "        <td>1954</td>\n",
       "        <td>2669</td>\n",
       "        <td>3490</td>\n",
       "        <td>4702</td>\n",
       "        <td>4682</td>\n",
       "    </tr>\n",
       "    <tr>\n",
       "        <td>Strangulation</td>\n",
       "        <td>1154</td>\n",
       "        <td>1196</td>\n",
       "        <td>820</td>\n",
       "        <td>644</td>\n",
       "        <td>502</td>\n",
       "    </tr>\n",
       "    <tr>\n",
       "        <td>Fire</td>\n",
       "        <td>1102</td>\n",
       "        <td>1101</td>\n",
       "        <td>723</td>\n",
       "        <td>634</td>\n",
       "        <td>476</td>\n",
       "    </tr>\n",
       "    <tr>\n",
       "        <td>Suffocation</td>\n",
       "        <td>577</td>\n",
       "        <td>539</td>\n",
       "        <td>555</td>\n",
       "        <td>659</td>\n",
       "        <td>608</td>\n",
       "    </tr>\n",
       "    <tr>\n",
       "        <td>Drowning</td>\n",
       "        <td>282</td>\n",
       "        <td>250</td>\n",
       "        <td>187</td>\n",
       "        <td>141</td>\n",
       "        <td>123</td>\n",
       "    </tr>\n",
       "    <tr>\n",
       "        <td>Drugs</td>\n",
       "        <td>125</td>\n",
       "        <td>164</td>\n",
       "        <td>229</td>\n",
       "        <td>405</td>\n",
       "        <td>438</td>\n",
       "    </tr>\n",
       "    <tr>\n",
       "        <td>Gun</td>\n",
       "        <td>124</td>\n",
       "        <td>129</td>\n",
       "        <td>186</td>\n",
       "        <td>362</td>\n",
       "        <td>370</td>\n",
       "    </tr>\n",
       "    <tr>\n",
       "        <td>Poison</td>\n",
       "        <td>77</td>\n",
       "        <td>91</td>\n",
       "        <td>52</td>\n",
       "        <td>81</td>\n",
       "        <td>60</td>\n",
       "    </tr>\n",
       "    <tr>\n",
       "        <td>Fall</td>\n",
       "        <td>52</td>\n",
       "        <td>34</td>\n",
       "        <td>43</td>\n",
       "        <td>17</td>\n",
       "        <td>17</td>\n",
       "    </tr>\n",
       "    <tr>\n",
       "        <td>Explosives</td>\n",
       "        <td>48</td>\n",
       "        <td>84</td>\n",
       "        <td>198</td>\n",
       "        <td>22</td>\n",
       "        <td>35</td>\n",
       "    </tr>\n",
       "</table>"
      ],
      "text/plain": [
       "[('Handgun', 45830, 49031, 41007, 34086, 29734),\n",
       " ('Knife', 20809, 17850, 12091, 11143, 10879),\n",
       " ('Blunt Object', 11272, 11004, 9863, 9500, 8370),\n",
       " ('Shotgun', 8613, 6892, 4220, 3044, 2360),\n",
       " ('Rifle', 6158, 4934, 3398, 2490, 2125),\n",
       " ('Firearm', 2326, 2583, 3635, 5219, 8020),\n",
       " ('Unknown', 1954, 2669, 3490, 4702, 4682),\n",
       " ('Strangulation', 1154, 1196, 820, 644, 502),\n",
       " ('Fire', 1102, 1101, 723, 634, 476),\n",
       " ('Suffocation', 577, 539, 555, 659, 608),\n",
       " ('Drowning', 282, 250, 187, 141, 123),\n",
       " ('Drugs', 125, 164, 229, 405, 438),\n",
       " ('Gun', 124, 129, 186, 362, 370),\n",
       " ('Poison', 77, 91, 52, 81, 60),\n",
       " ('Fall', 52, 34, 43, 17, 17),\n",
       " ('Explosives', 48, 84, 198, 22, 35)]"
      ]
     },
     "execution_count": 134,
     "metadata": {},
     "output_type": "execute_result"
    }
   ],
   "source": [
    "%%sql\n",
    "SELECT y1.Weapon, y1.count1, y2.count2, y3.count3, y4.count4, y5.count5\n",
    "FROM\n",
    "(SELECT Weapon, count(*) count1\n",
    "FROM homicide\n",
    "JOIN crime\n",
    "on homicide.crime_key = crime.key\n",
    "JOIN victim\n",
    "on homicide.victim_key = victim.key\n",
    "JOIN time\n",
    "on homicide.time_key = time.key\n",
    "WHERE year >= 1980 AND year <= 1986\n",
    "GROUP BY Weapon) AS y1\n",
    "JOIN \n",
    "(SELECT Weapon, count(*) count2\n",
    "FROM homicide\n",
    "JOIN crime\n",
    "on homicide.crime_key = crime.key\n",
    "JOIN victim\n",
    "on homicide.victim_key = victim.key\n",
    "JOIN time\n",
    "on homicide.time_key = time.key\n",
    "WHERE year >= 1987 AND year <= 1993\n",
    "GROUP BY Weapon)  AS y2\n",
    "on y1.Weapon = y2.Weapon\n",
    "JOIN\n",
    "(SELECT Weapon, count(*) count3\n",
    "FROM homicide\n",
    "JOIN crime\n",
    "on homicide.crime_key = crime.key\n",
    "JOIN victim\n",
    "on homicide.victim_key = victim.key\n",
    "JOIN time\n",
    "on homicide.time_key = time.key\n",
    "WHERE year >= 1994 AND year <= 2000\n",
    "GROUP BY Weapon)  AS y3\n",
    "on y1.Weapon = y3.Weapon\n",
    "JOIN\n",
    "(SELECT Weapon, count(*) count4\n",
    "FROM homicide\n",
    "JOIN crime\n",
    "on homicide.crime_key = crime.key\n",
    "JOIN victim\n",
    "on homicide.victim_key = victim.key\n",
    "JOIN time\n",
    "on homicide.time_key = time.key\n",
    "WHERE year >= 2001 AND year <= 2007\n",
    "GROUP BY Weapon)  AS y4\n",
    "on y1.Weapon = y4.Weapon\n",
    "JOIN\n",
    "(SELECT Weapon, count(*) count5\n",
    "FROM homicide\n",
    "JOIN crime\n",
    "on homicide.crime_key = crime.key\n",
    "JOIN victim\n",
    "on homicide.victim_key = victim.key\n",
    "JOIN time\n",
    "on homicide.time_key = time.key\n",
    "WHERE year >= 2008 AND year <= 2014\n",
    "GROUP BY Weapon)  AS y5\n",
    "on y1.Weapon = y5.Weapon\n",
    "ORDER BY y1.count1 DESC\n",
    ";"
   ]
  },
  {
   "cell_type": "code",
   "execution_count": 169,
   "metadata": {},
   "outputs": [
    {
     "name": "stdout",
     "output_type": "stream",
     "text": [
      " * postgresql://student@/final\n",
      "Done.\n",
      "Done.\n"
     ]
    },
    {
     "data": {
      "text/plain": [
       "[]"
      ]
     },
     "execution_count": 169,
     "metadata": {},
     "output_type": "execute_result"
    }
   ],
   "source": [
    "%%sql\n",
    "DROP VIEW IF EXISTS BQ3_2;\n",
    "CREATE OR REPLACE VIEW BQ3_2 AS\n",
    "SELECT y1.Weapon, y1.count1, y2.count2, y3.count3, y4.count4, y5.count5\n",
    "FROM\n",
    "(SELECT Weapon, count(*) count1\n",
    "FROM homicide\n",
    "JOIN crime\n",
    "on homicide.crime_key = crime.key\n",
    "JOIN victim\n",
    "on homicide.victim_key = victim.key\n",
    "JOIN time\n",
    "on homicide.time_key = time.key\n",
    "WHERE year >= 1980 AND year <= 1986\n",
    "GROUP BY Weapon) AS y1\n",
    "JOIN \n",
    "(SELECT Weapon, count(*) count2\n",
    "FROM homicide\n",
    "JOIN crime\n",
    "on homicide.crime_key = crime.key\n",
    "JOIN victim\n",
    "on homicide.victim_key = victim.key\n",
    "JOIN time\n",
    "on homicide.time_key = time.key\n",
    "WHERE year >= 1987 AND year <= 1993\n",
    "GROUP BY Weapon)  AS y2\n",
    "on y1.Weapon = y2.Weapon\n",
    "JOIN\n",
    "(SELECT Weapon, count(*) count3\n",
    "FROM homicide\n",
    "JOIN crime\n",
    "on homicide.crime_key = crime.key\n",
    "JOIN victim\n",
    "on homicide.victim_key = victim.key\n",
    "JOIN time\n",
    "on homicide.time_key = time.key\n",
    "WHERE year >= 1994 AND year <= 2000\n",
    "GROUP BY Weapon)  AS y3\n",
    "on y1.Weapon = y3.Weapon\n",
    "JOIN\n",
    "(SELECT Weapon, count(*) count4\n",
    "FROM homicide\n",
    "JOIN crime\n",
    "on homicide.crime_key = crime.key\n",
    "JOIN victim\n",
    "on homicide.victim_key = victim.key\n",
    "JOIN time\n",
    "on homicide.time_key = time.key\n",
    "WHERE year >= 2001 AND year <= 2007\n",
    "GROUP BY Weapon)  AS y4\n",
    "on y1.Weapon = y4.Weapon\n",
    "JOIN\n",
    "(SELECT Weapon, count(*) count5\n",
    "FROM homicide\n",
    "JOIN crime\n",
    "on homicide.crime_key = crime.key\n",
    "JOIN victim\n",
    "on homicide.victim_key = victim.key\n",
    "JOIN time\n",
    "on homicide.time_key = time.key\n",
    "WHERE year >= 2008 AND year <= 2014\n",
    "GROUP BY Weapon)  AS y5\n",
    "on y1.Weapon = y5.Weapon\n",
    "ORDER BY y1.count1 DESC\n",
    ";"
   ]
  },
  {
   "cell_type": "code",
   "execution_count": 170,
   "metadata": {},
   "outputs": [
    {
     "name": "stdout",
     "output_type": "stream",
     "text": [
      " * postgresql://student@/final\n",
      "16 rows affected.\n"
     ]
    }
   ],
   "source": [
    "v3_2 = %%sql SELECT * FROM BQ3_2\n",
    "v3_2df = v3_2.DataFrame()"
   ]
  },
  {
   "cell_type": "code",
   "execution_count": 171,
   "metadata": {},
   "outputs": [
    {
     "data": {
      "text/html": [
       "<div>\n",
       "<style scoped>\n",
       "    .dataframe tbody tr th:only-of-type {\n",
       "        vertical-align: middle;\n",
       "    }\n",
       "\n",
       "    .dataframe tbody tr th {\n",
       "        vertical-align: top;\n",
       "    }\n",
       "\n",
       "    .dataframe thead th {\n",
       "        text-align: right;\n",
       "    }\n",
       "</style>\n",
       "<table border=\"1\" class=\"dataframe\">\n",
       "  <thead>\n",
       "    <tr style=\"text-align: right;\">\n",
       "      <th></th>\n",
       "      <th>weapon</th>\n",
       "      <th>count1</th>\n",
       "      <th>count2</th>\n",
       "      <th>count3</th>\n",
       "      <th>count4</th>\n",
       "      <th>count5</th>\n",
       "    </tr>\n",
       "  </thead>\n",
       "  <tbody>\n",
       "    <tr>\n",
       "      <th>0</th>\n",
       "      <td>Handgun</td>\n",
       "      <td>45830</td>\n",
       "      <td>49031</td>\n",
       "      <td>41007</td>\n",
       "      <td>34086</td>\n",
       "      <td>29734</td>\n",
       "    </tr>\n",
       "    <tr>\n",
       "      <th>1</th>\n",
       "      <td>Knife</td>\n",
       "      <td>20809</td>\n",
       "      <td>17850</td>\n",
       "      <td>12091</td>\n",
       "      <td>11143</td>\n",
       "      <td>10879</td>\n",
       "    </tr>\n",
       "    <tr>\n",
       "      <th>2</th>\n",
       "      <td>Blunt Object</td>\n",
       "      <td>11272</td>\n",
       "      <td>11004</td>\n",
       "      <td>9863</td>\n",
       "      <td>9500</td>\n",
       "      <td>8370</td>\n",
       "    </tr>\n",
       "    <tr>\n",
       "      <th>3</th>\n",
       "      <td>Shotgun</td>\n",
       "      <td>8613</td>\n",
       "      <td>6892</td>\n",
       "      <td>4220</td>\n",
       "      <td>3044</td>\n",
       "      <td>2360</td>\n",
       "    </tr>\n",
       "    <tr>\n",
       "      <th>4</th>\n",
       "      <td>Rifle</td>\n",
       "      <td>6158</td>\n",
       "      <td>4934</td>\n",
       "      <td>3398</td>\n",
       "      <td>2490</td>\n",
       "      <td>2125</td>\n",
       "    </tr>\n",
       "    <tr>\n",
       "      <th>5</th>\n",
       "      <td>Firearm</td>\n",
       "      <td>2326</td>\n",
       "      <td>2583</td>\n",
       "      <td>3635</td>\n",
       "      <td>5219</td>\n",
       "      <td>8020</td>\n",
       "    </tr>\n",
       "    <tr>\n",
       "      <th>6</th>\n",
       "      <td>Unknown</td>\n",
       "      <td>1954</td>\n",
       "      <td>2669</td>\n",
       "      <td>3490</td>\n",
       "      <td>4702</td>\n",
       "      <td>4682</td>\n",
       "    </tr>\n",
       "    <tr>\n",
       "      <th>7</th>\n",
       "      <td>Strangulation</td>\n",
       "      <td>1154</td>\n",
       "      <td>1196</td>\n",
       "      <td>820</td>\n",
       "      <td>644</td>\n",
       "      <td>502</td>\n",
       "    </tr>\n",
       "    <tr>\n",
       "      <th>8</th>\n",
       "      <td>Fire</td>\n",
       "      <td>1102</td>\n",
       "      <td>1101</td>\n",
       "      <td>723</td>\n",
       "      <td>634</td>\n",
       "      <td>476</td>\n",
       "    </tr>\n",
       "    <tr>\n",
       "      <th>9</th>\n",
       "      <td>Suffocation</td>\n",
       "      <td>577</td>\n",
       "      <td>539</td>\n",
       "      <td>555</td>\n",
       "      <td>659</td>\n",
       "      <td>608</td>\n",
       "    </tr>\n",
       "    <tr>\n",
       "      <th>10</th>\n",
       "      <td>Drowning</td>\n",
       "      <td>282</td>\n",
       "      <td>250</td>\n",
       "      <td>187</td>\n",
       "      <td>141</td>\n",
       "      <td>123</td>\n",
       "    </tr>\n",
       "    <tr>\n",
       "      <th>11</th>\n",
       "      <td>Drugs</td>\n",
       "      <td>125</td>\n",
       "      <td>164</td>\n",
       "      <td>229</td>\n",
       "      <td>405</td>\n",
       "      <td>438</td>\n",
       "    </tr>\n",
       "    <tr>\n",
       "      <th>12</th>\n",
       "      <td>Gun</td>\n",
       "      <td>124</td>\n",
       "      <td>129</td>\n",
       "      <td>186</td>\n",
       "      <td>362</td>\n",
       "      <td>370</td>\n",
       "    </tr>\n",
       "    <tr>\n",
       "      <th>13</th>\n",
       "      <td>Poison</td>\n",
       "      <td>77</td>\n",
       "      <td>91</td>\n",
       "      <td>52</td>\n",
       "      <td>81</td>\n",
       "      <td>60</td>\n",
       "    </tr>\n",
       "    <tr>\n",
       "      <th>14</th>\n",
       "      <td>Fall</td>\n",
       "      <td>52</td>\n",
       "      <td>34</td>\n",
       "      <td>43</td>\n",
       "      <td>17</td>\n",
       "      <td>17</td>\n",
       "    </tr>\n",
       "    <tr>\n",
       "      <th>15</th>\n",
       "      <td>Explosives</td>\n",
       "      <td>48</td>\n",
       "      <td>84</td>\n",
       "      <td>198</td>\n",
       "      <td>22</td>\n",
       "      <td>35</td>\n",
       "    </tr>\n",
       "  </tbody>\n",
       "</table>\n",
       "</div>"
      ],
      "text/plain": [
       "           weapon  count1  count2  count3  count4  count5\n",
       "0         Handgun   45830   49031   41007   34086   29734\n",
       "1           Knife   20809   17850   12091   11143   10879\n",
       "2    Blunt Object   11272   11004    9863    9500    8370\n",
       "3         Shotgun    8613    6892    4220    3044    2360\n",
       "4           Rifle    6158    4934    3398    2490    2125\n",
       "5         Firearm    2326    2583    3635    5219    8020\n",
       "6         Unknown    1954    2669    3490    4702    4682\n",
       "7   Strangulation    1154    1196     820     644     502\n",
       "8            Fire    1102    1101     723     634     476\n",
       "9     Suffocation     577     539     555     659     608\n",
       "10       Drowning     282     250     187     141     123\n",
       "11          Drugs     125     164     229     405     438\n",
       "12            Gun     124     129     186     362     370\n",
       "13         Poison      77      91      52      81      60\n",
       "14           Fall      52      34      43      17      17\n",
       "15     Explosives      48      84     198      22      35"
      ]
     },
     "execution_count": 171,
     "metadata": {},
     "output_type": "execute_result"
    }
   ],
   "source": [
    "v3_2df"
   ]
  },
  {
   "cell_type": "markdown",
   "metadata": {},
   "source": [
    "##### Visualization for the trend of rise or drop in certain type of weapon using over time."
   ]
  },
  {
   "cell_type": "code",
   "execution_count": 172,
   "metadata": {},
   "outputs": [
    {
     "data": {
      "image/png": "[encoded data removed]",
      "text/plain": [
       "<Figure size 1296x720 with 1 Axes>"
      ]
     },
     "metadata": {
      "needs_background": "light"
     },
     "output_type": "display_data"
    }
   ],
   "source": [
    "plt.figure(figsize=(18,10))\n",
    "weapon = v3_2df.iloc[:,0]\n",
    "y1 = v3_2df.iloc[:,1]\n",
    "y2 = v3_2df.iloc[:,2]\n",
    "y3 = v3_2df.iloc[:,3]\n",
    "y4 = v3_2df.iloc[:,4]\n",
    "y5 = v3_2df.iloc[:,5]\n",
    "x = list(range(len(weapon)))\n",
    "total_width, n = 2, 16\n",
    "width = total_width / n\n",
    "plt.bar(x, y1, width=width, label='1980-1986', fc='b')\n",
    "for i in range(len(x)):\n",
    "    x[i] += width\n",
    "plt.bar(x, y2, width=width, label='1987-1993', tick_label=weapon, fc='g')\n",
    "for i in range(len(x)):\n",
    "    x[i] += width\n",
    "plt.bar(x, y3, width=width, label='1994-2000', tick_label=weapon, fc='r')\n",
    "for i in range(len(x)):\n",
    "    x[i] += width\n",
    "plt.bar(x, y4, width=width, label='2001-2007', tick_label=weapon, fc='y')\n",
    "for i in range(len(x)):\n",
    "    x[i] += width\n",
    "plt.bar(x, y5, width=width, label='2008-2014', tick_label=weapon, fc='pink')\n",
    "plt.title(\"incidents caused by each weapon over time\")\n",
    "plt.legend()\n",
    "plt.show()"
   ]
  },
  {
   "cell_type": "markdown",
   "metadata": {},
   "source": [
    "##### We can see that the gun weapons caused the largest number of victims over past 35 years. However, the average number of victims caused by guns in each incident, we say average guns’ fatality rate is not that high. \n",
    "##### Besides, the number of incidents caused by gun weapons is decreasing in the overall trend. \n",
    "##### In fact, gun control may not decrease the number of homicide even though the number of incidents using gun is still the highest. But the average fatality rate can show that gun could not increase the success rate of homicide and gun is not the reason why people murder."
   ]
  },
  {
   "cell_type": "markdown",
   "metadata": {},
   "source": [
    "# Business Question 4."
   ]
  },
  {
   "cell_type": "markdown",
   "metadata": {},
   "source": [
    "## Relationship between Death Penalty Legitimation and Crime Ratio (with additional data):"
   ]
  },
  {
   "cell_type": "markdown",
   "metadata": {},
   "source": [
    "### Besides looking at the details of crimes themselves, we discussed what optios there are to prevent crimes all-together. We decided to look at the Dealth Penalty band see if lead to arease with lower crime rates. Does death penatly really prevent criminals from being maleficent to this society and citizen? We added additional data into our analysis as assistance."
   ]
  },
  {
   "cell_type": "markdown",
   "metadata": {},
   "source": [
    "##### create a new dimension table death_penalty to store our additional data"
   ]
  },
  {
   "cell_type": "code",
   "execution_count": 139,
   "metadata": {},
   "outputs": [
    {
     "name": "stdout",
     "output_type": "stream",
     "text": [
      " * postgresql://student@/final\n",
      "Done.\n",
      "Done.\n"
     ]
    },
    {
     "data": {
      "text/plain": [
       "[]"
      ]
     },
     "execution_count": 139,
     "metadata": {},
     "output_type": "execute_result"
    }
   ],
   "source": [
    "%%sql\n",
    "DROP TABLE IF EXISTS death_penalty;\n",
    "\n",
    "CREATE TABLE death_penalty (\n",
    "    key SERIAL PRIMARY KEY,\n",
    "    State    VARCHAR(100) NOT NULL,\n",
    "    penalty   VARCHAR(20) NOT NULL\n",
    "\n",
    ");"
   ]
  },
  {
   "cell_type": "markdown",
   "metadata": {},
   "source": [
    "##### get the addtional data file"
   ]
  },
  {
   "cell_type": "code",
   "execution_count": 140,
   "metadata": {},
   "outputs": [
    {
     "name": "stdout",
     "output_type": "stream",
     "text": [
      "--2019-12-01 19:58:33--  https://tianweima96.s3.amazonaws.com/deathpenalty.csv\n",
      "Resolving tianweima96.s3.amazonaws.com (tianweima96.s3.amazonaws.com)... 52.217.36.156\n",
      "Connecting to tianweima96.s3.amazonaws.com (tianweima96.s3.amazonaws.com)|52.217.36.156|:443... connected.\n",
      "HTTP request sent, awaiting response... 200 OK\n",
      "Length: 753 [text/csv]\n",
      "Saving to: ‘deathpenalty.csv’\n",
      "\n",
      "deathpenalty.csv    100%[===================>]     753  --.-KB/s    in 0s      \n",
      "\n",
      "2019-12-01 19:58:33 (27.3 MB/s) - ‘deathpenalty.csv’ saved [753/753]\n",
      "\n"
     ]
    }
   ],
   "source": [
    "!wget https://tianweima96.s3.amazonaws.com/deathpenalty.csv"
   ]
  },
  {
   "cell_type": "markdown",
   "metadata": {},
   "source": [
    "##### copy the data to our table"
   ]
  },
  {
   "cell_type": "code",
   "execution_count": 141,
   "metadata": {},
   "outputs": [
    {
     "name": "stdout",
     "output_type": "stream",
     "text": [
      " * postgresql://student@/final\n",
      "51 rows affected.\n"
     ]
    },
    {
     "data": {
      "text/plain": [
       "[]"
      ]
     },
     "execution_count": 141,
     "metadata": {},
     "output_type": "execute_result"
    }
   ],
   "source": [
    "%%sql\n",
    "COPY death_penalty \n",
    "(State,penalty)\n",
    "FROM '/home/ubuntu/Group14_Final_Project/deathpenalty.csv'\n",
    "CSV\n",
    "HEADER"
   ]
  },
  {
   "cell_type": "markdown",
   "metadata": {},
   "source": [
    "##### The table of death penalty legitimation in each state."
   ]
  },
  {
   "cell_type": "code",
   "execution_count": 142,
   "metadata": {},
   "outputs": [
    {
     "name": "stdout",
     "output_type": "stream",
     "text": [
      " * postgresql://student@/final\n",
      "51 rows affected.\n"
     ]
    },
    {
     "data": {
      "text/html": [
       "<table>\n",
       "    <tr>\n",
       "        <th>key</th>\n",
       "        <th>state</th>\n",
       "        <th>penalty</th>\n",
       "    </tr>\n",
       "    <tr>\n",
       "        <td>1</td>\n",
       "        <td>Alabama</td>\n",
       "        <td>Yes</td>\n",
       "    </tr>\n",
       "    <tr>\n",
       "        <td>2</td>\n",
       "        <td>Alaska</td>\n",
       "        <td>No</td>\n",
       "    </tr>\n",
       "    <tr>\n",
       "        <td>3</td>\n",
       "        <td>Arizona</td>\n",
       "        <td>Yes</td>\n",
       "    </tr>\n",
       "    <tr>\n",
       "        <td>4</td>\n",
       "        <td>Arkansas</td>\n",
       "        <td>Yes</td>\n",
       "    </tr>\n",
       "    <tr>\n",
       "        <td>5</td>\n",
       "        <td>California</td>\n",
       "        <td>Yes</td>\n",
       "    </tr>\n",
       "    <tr>\n",
       "        <td>6</td>\n",
       "        <td>Colorado</td>\n",
       "        <td>Yes</td>\n",
       "    </tr>\n",
       "    <tr>\n",
       "        <td>7</td>\n",
       "        <td>Connecticut</td>\n",
       "        <td>Yes</td>\n",
       "    </tr>\n",
       "    <tr>\n",
       "        <td>8</td>\n",
       "        <td>Delaware</td>\n",
       "        <td>Yes</td>\n",
       "    </tr>\n",
       "    <tr>\n",
       "        <td>9</td>\n",
       "        <td>District of Columbia</td>\n",
       "        <td>Yes</td>\n",
       "    </tr>\n",
       "    <tr>\n",
       "        <td>10</td>\n",
       "        <td>Florida</td>\n",
       "        <td>Yes</td>\n",
       "    </tr>\n",
       "    <tr>\n",
       "        <td>11</td>\n",
       "        <td>Georgia</td>\n",
       "        <td>Yes</td>\n",
       "    </tr>\n",
       "    <tr>\n",
       "        <td>12</td>\n",
       "        <td>Hawaii</td>\n",
       "        <td>No</td>\n",
       "    </tr>\n",
       "    <tr>\n",
       "        <td>13</td>\n",
       "        <td>Idaho</td>\n",
       "        <td>Yes</td>\n",
       "    </tr>\n",
       "    <tr>\n",
       "        <td>14</td>\n",
       "        <td>Illinois</td>\n",
       "        <td>Yes</td>\n",
       "    </tr>\n",
       "    <tr>\n",
       "        <td>15</td>\n",
       "        <td>Indiana</td>\n",
       "        <td>Yes</td>\n",
       "    </tr>\n",
       "    <tr>\n",
       "        <td>16</td>\n",
       "        <td>Iowa</td>\n",
       "        <td>No</td>\n",
       "    </tr>\n",
       "    <tr>\n",
       "        <td>17</td>\n",
       "        <td>Kansas</td>\n",
       "        <td>Yes</td>\n",
       "    </tr>\n",
       "    <tr>\n",
       "        <td>18</td>\n",
       "        <td>Kentucky</td>\n",
       "        <td>Yes</td>\n",
       "    </tr>\n",
       "    <tr>\n",
       "        <td>19</td>\n",
       "        <td>Louisiana</td>\n",
       "        <td>Yes</td>\n",
       "    </tr>\n",
       "    <tr>\n",
       "        <td>20</td>\n",
       "        <td>Maine</td>\n",
       "        <td>No</td>\n",
       "    </tr>\n",
       "    <tr>\n",
       "        <td>21</td>\n",
       "        <td>Maryland</td>\n",
       "        <td>Yes</td>\n",
       "    </tr>\n",
       "    <tr>\n",
       "        <td>22</td>\n",
       "        <td>Massachusetts</td>\n",
       "        <td>No</td>\n",
       "    </tr>\n",
       "    <tr>\n",
       "        <td>23</td>\n",
       "        <td>Michigan</td>\n",
       "        <td>No</td>\n",
       "    </tr>\n",
       "    <tr>\n",
       "        <td>24</td>\n",
       "        <td>Minnesota</td>\n",
       "        <td>No</td>\n",
       "    </tr>\n",
       "    <tr>\n",
       "        <td>25</td>\n",
       "        <td>Mississippi</td>\n",
       "        <td>Yes</td>\n",
       "    </tr>\n",
       "    <tr>\n",
       "        <td>26</td>\n",
       "        <td>Missouri</td>\n",
       "        <td>Yes</td>\n",
       "    </tr>\n",
       "    <tr>\n",
       "        <td>27</td>\n",
       "        <td>Montana</td>\n",
       "        <td>Yes</td>\n",
       "    </tr>\n",
       "    <tr>\n",
       "        <td>28</td>\n",
       "        <td>Nebraska</td>\n",
       "        <td>Yes</td>\n",
       "    </tr>\n",
       "    <tr>\n",
       "        <td>29</td>\n",
       "        <td>Nevada</td>\n",
       "        <td>Yes</td>\n",
       "    </tr>\n",
       "    <tr>\n",
       "        <td>30</td>\n",
       "        <td>New Hampshire</td>\n",
       "        <td>Yes</td>\n",
       "    </tr>\n",
       "    <tr>\n",
       "        <td>31</td>\n",
       "        <td>New Jersey</td>\n",
       "        <td>No</td>\n",
       "    </tr>\n",
       "    <tr>\n",
       "        <td>32</td>\n",
       "        <td>New Mexico</td>\n",
       "        <td>No</td>\n",
       "    </tr>\n",
       "    <tr>\n",
       "        <td>33</td>\n",
       "        <td>New York</td>\n",
       "        <td>No</td>\n",
       "    </tr>\n",
       "    <tr>\n",
       "        <td>34</td>\n",
       "        <td>North Carolina</td>\n",
       "        <td>Yes</td>\n",
       "    </tr>\n",
       "    <tr>\n",
       "        <td>35</td>\n",
       "        <td>North Dakota</td>\n",
       "        <td>No</td>\n",
       "    </tr>\n",
       "    <tr>\n",
       "        <td>36</td>\n",
       "        <td>Ohio</td>\n",
       "        <td>Yes</td>\n",
       "    </tr>\n",
       "    <tr>\n",
       "        <td>37</td>\n",
       "        <td>Oklahoma</td>\n",
       "        <td>Yes</td>\n",
       "    </tr>\n",
       "    <tr>\n",
       "        <td>38</td>\n",
       "        <td>Oregon</td>\n",
       "        <td>Yes</td>\n",
       "    </tr>\n",
       "    <tr>\n",
       "        <td>39</td>\n",
       "        <td>Pennsylvania</td>\n",
       "        <td>Yes</td>\n",
       "    </tr>\n",
       "    <tr>\n",
       "        <td>40</td>\n",
       "        <td>Rhodes Island</td>\n",
       "        <td>No</td>\n",
       "    </tr>\n",
       "    <tr>\n",
       "        <td>41</td>\n",
       "        <td>South Carolina</td>\n",
       "        <td>Yes</td>\n",
       "    </tr>\n",
       "    <tr>\n",
       "        <td>42</td>\n",
       "        <td>South Dakota</td>\n",
       "        <td>Yes</td>\n",
       "    </tr>\n",
       "    <tr>\n",
       "        <td>43</td>\n",
       "        <td>Tennessee</td>\n",
       "        <td>Yes</td>\n",
       "    </tr>\n",
       "    <tr>\n",
       "        <td>44</td>\n",
       "        <td>Texas</td>\n",
       "        <td>Yes</td>\n",
       "    </tr>\n",
       "    <tr>\n",
       "        <td>45</td>\n",
       "        <td>Utah</td>\n",
       "        <td>Yes</td>\n",
       "    </tr>\n",
       "    <tr>\n",
       "        <td>46</td>\n",
       "        <td>Vermont</td>\n",
       "        <td>No</td>\n",
       "    </tr>\n",
       "    <tr>\n",
       "        <td>47</td>\n",
       "        <td>Virginia</td>\n",
       "        <td>Yes</td>\n",
       "    </tr>\n",
       "    <tr>\n",
       "        <td>48</td>\n",
       "        <td>Washington</td>\n",
       "        <td>Yes</td>\n",
       "    </tr>\n",
       "    <tr>\n",
       "        <td>49</td>\n",
       "        <td>West Virginia</td>\n",
       "        <td>No</td>\n",
       "    </tr>\n",
       "    <tr>\n",
       "        <td>50</td>\n",
       "        <td>Wisconsin</td>\n",
       "        <td>No</td>\n",
       "    </tr>\n",
       "    <tr>\n",
       "        <td>51</td>\n",
       "        <td>Wyoming</td>\n",
       "        <td>Yes</td>\n",
       "    </tr>\n",
       "</table>"
      ],
      "text/plain": [
       "[(1, 'Alabama', 'Yes'),\n",
       " (2, 'Alaska', 'No'),\n",
       " (3, 'Arizona', 'Yes'),\n",
       " (4, 'Arkansas', 'Yes'),\n",
       " (5, 'California', 'Yes'),\n",
       " (6, 'Colorado', 'Yes'),\n",
       " (7, 'Connecticut', 'Yes'),\n",
       " (8, 'Delaware', 'Yes'),\n",
       " (9, 'District of Columbia', 'Yes'),\n",
       " (10, 'Florida', 'Yes'),\n",
       " (11, 'Georgia', 'Yes'),\n",
       " (12, 'Hawaii', 'No'),\n",
       " (13, 'Idaho', 'Yes'),\n",
       " (14, 'Illinois', 'Yes'),\n",
       " (15, 'Indiana', 'Yes'),\n",
       " (16, 'Iowa', 'No'),\n",
       " (17, 'Kansas', 'Yes'),\n",
       " (18, 'Kentucky', 'Yes'),\n",
       " (19, 'Louisiana', 'Yes'),\n",
       " (20, 'Maine', 'No'),\n",
       " (21, 'Maryland', 'Yes'),\n",
       " (22, 'Massachusetts', 'No'),\n",
       " (23, 'Michigan', 'No'),\n",
       " (24, 'Minnesota', 'No'),\n",
       " (25, 'Mississippi', 'Yes'),\n",
       " (26, 'Missouri', 'Yes'),\n",
       " (27, 'Montana', 'Yes'),\n",
       " (28, 'Nebraska', 'Yes'),\n",
       " (29, 'Nevada', 'Yes'),\n",
       " (30, 'New Hampshire', 'Yes'),\n",
       " (31, 'New Jersey', 'No'),\n",
       " (32, 'New Mexico', 'No'),\n",
       " (33, 'New York', 'No'),\n",
       " (34, 'North Carolina', 'Yes'),\n",
       " (35, 'North Dakota', 'No'),\n",
       " (36, 'Ohio', 'Yes'),\n",
       " (37, 'Oklahoma', 'Yes'),\n",
       " (38, 'Oregon', 'Yes'),\n",
       " (39, 'Pennsylvania', 'Yes'),\n",
       " (40, 'Rhodes Island', 'No'),\n",
       " (41, 'South Carolina', 'Yes'),\n",
       " (42, 'South Dakota', 'Yes'),\n",
       " (43, 'Tennessee', 'Yes'),\n",
       " (44, 'Texas', 'Yes'),\n",
       " (45, 'Utah', 'Yes'),\n",
       " (46, 'Vermont', 'No'),\n",
       " (47, 'Virginia', 'Yes'),\n",
       " (48, 'Washington', 'Yes'),\n",
       " (49, 'West Virginia', 'No'),\n",
       " (50, 'Wisconsin', 'No'),\n",
       " (51, 'Wyoming', 'Yes')]"
      ]
     },
     "execution_count": 142,
     "metadata": {},
     "output_type": "execute_result"
    }
   ],
   "source": [
    "%%sql\n",
    "SELECT * \n",
    "FROM death_penalty;"
   ]
  },
  {
   "cell_type": "markdown",
   "metadata": {},
   "source": [
    "##### insert a new foreign key in homicide"
   ]
  },
  {
   "cell_type": "code",
   "execution_count": 143,
   "metadata": {},
   "outputs": [
    {
     "name": "stdout",
     "output_type": "stream",
     "text": [
      " * postgresql://student@/final\n",
      "Done.\n"
     ]
    },
    {
     "data": {
      "text/plain": [
       "[]"
      ]
     },
     "execution_count": 143,
     "metadata": {},
     "output_type": "execute_result"
    }
   ],
   "source": [
    "%%sql\n",
    "ALTER TABLE homicide \n",
    "ADD COLUMN death_penalty_key INTEGER,\n",
    "ADD CONSTRAINT fk_penalty\n",
    "    FOREIGN KEY (death_penalty_key)\n",
    "    REFERENCES death_penalty (key);"
   ]
  },
  {
   "cell_type": "markdown",
   "metadata": {},
   "source": [
    "##### link our death_penalty table with the fact table"
   ]
  },
  {
   "cell_type": "code",
   "execution_count": 144,
   "metadata": {},
   "outputs": [
    {
     "name": "stdout",
     "output_type": "stream",
     "text": [
      " * postgresql://student@/final\n",
      "421699 rows affected.\n"
     ]
    },
    {
     "data": {
      "text/plain": [
       "[]"
      ]
     },
     "execution_count": 144,
     "metadata": {},
     "output_type": "execute_result"
    }
   ],
   "source": [
    "%%sql\n",
    "UPDATE homicide\n",
    "SET death_penalty_key = death_penalty.key\n",
    "FROM location, death_penalty \n",
    "WHERE homicide.location_key = location.key AND location.State = death_penalty.State;"
   ]
  },
  {
   "cell_type": "markdown",
   "metadata": {},
   "source": [
    "##### Bar chart of crime amount in state where death penalty is legitimate."
   ]
  },
  {
   "cell_type": "code",
   "execution_count": 145,
   "metadata": {},
   "outputs": [
    {
     "name": "stdout",
     "output_type": "stream",
     "text": [
      " * postgresql://student@/final\n",
      "36 rows affected.\n"
     ]
    },
    {
     "data": {
      "text/html": [
       "<table>\n",
       "    <tr>\n",
       "        <th>state</th>\n",
       "        <th>count</th>\n",
       "    </tr>\n",
       "    <tr>\n",
       "        <td>Alabama</td>\n",
       "        <td>8244</td>\n",
       "    </tr>\n",
       "    <tr>\n",
       "        <td>Indiana</td>\n",
       "        <td>7034</td>\n",
       "    </tr>\n",
       "    <tr>\n",
       "        <td>South Carolina</td>\n",
       "        <td>10475</td>\n",
       "    </tr>\n",
       "    <tr>\n",
       "        <td>Louisiana</td>\n",
       "        <td>11846</td>\n",
       "    </tr>\n",
       "    <tr>\n",
       "        <td>California</td>\n",
       "        <td>61549</td>\n",
       "    </tr>\n",
       "    <tr>\n",
       "        <td>New Hampshire</td>\n",
       "        <td>543</td>\n",
       "    </tr>\n",
       "    <tr>\n",
       "        <td>Connecticut</td>\n",
       "        <td>3208</td>\n",
       "    </tr>\n",
       "    <tr>\n",
       "        <td>Oklahoma</td>\n",
       "        <td>7187</td>\n",
       "    </tr>\n",
       "    <tr>\n",
       "        <td>Nevada</td>\n",
       "        <td>3675</td>\n",
       "    </tr>\n",
       "    <tr>\n",
       "        <td>Idaho</td>\n",
       "        <td>1033</td>\n",
       "    </tr>\n",
       "    <tr>\n",
       "        <td>Maryland</td>\n",
       "        <td>9508</td>\n",
       "    </tr>\n",
       "    <tr>\n",
       "        <td>Ohio</td>\n",
       "        <td>13280</td>\n",
       "    </tr>\n",
       "    <tr>\n",
       "        <td>Delaware</td>\n",
       "        <td>858</td>\n",
       "    </tr>\n",
       "    <tr>\n",
       "        <td>Florida</td>\n",
       "        <td>24274</td>\n",
       "    </tr>\n",
       "    <tr>\n",
       "        <td>Illinois</td>\n",
       "        <td>15741</td>\n",
       "    </tr>\n",
       "    <tr>\n",
       "        <td>Montana</td>\n",
       "        <td>551</td>\n",
       "    </tr>\n",
       "    <tr>\n",
       "        <td>Texas</td>\n",
       "        <td>43795</td>\n",
       "    </tr>\n",
       "    <tr>\n",
       "        <td>Oregon</td>\n",
       "        <td>3351</td>\n",
       "    </tr>\n",
       "    <tr>\n",
       "        <td>Mississippi</td>\n",
       "        <td>5369</td>\n",
       "    </tr>\n",
       "    <tr>\n",
       "        <td>Kansas</td>\n",
       "        <td>2396</td>\n",
       "    </tr>\n",
       "    <tr>\n",
       "        <td>Pennsylvania</td>\n",
       "        <td>16289</td>\n",
       "    </tr>\n",
       "    <tr>\n",
       "        <td>Tennessee</td>\n",
       "        <td>11845</td>\n",
       "    </tr>\n",
       "    <tr>\n",
       "        <td>Georgia</td>\n",
       "        <td>14635</td>\n",
       "    </tr>\n",
       "    <tr>\n",
       "        <td>Colorado</td>\n",
       "        <td>5043</td>\n",
       "    </tr>\n",
       "    <tr>\n",
       "        <td>Arkansas</td>\n",
       "        <td>5692</td>\n",
       "    </tr>\n",
       "    <tr>\n",
       "        <td>Washington</td>\n",
       "        <td>6072</td>\n",
       "    </tr>\n",
       "    <tr>\n",
       "        <td>Virginia</td>\n",
       "        <td>11986</td>\n",
       "    </tr>\n",
       "    <tr>\n",
       "        <td>Wyoming</td>\n",
       "        <td>568</td>\n",
       "    </tr>\n",
       "    <tr>\n",
       "        <td>Missouri</td>\n",
       "        <td>9204</td>\n",
       "    </tr>\n",
       "    <tr>\n",
       "        <td>South Dakota</td>\n",
       "        <td>402</td>\n",
       "    </tr>\n",
       "    <tr>\n",
       "        <td>District of Columbia</td>\n",
       "        <td>1865</td>\n",
       "    </tr>\n",
       "    <tr>\n",
       "        <td>Arizona</td>\n",
       "        <td>8160</td>\n",
       "    </tr>\n",
       "    <tr>\n",
       "        <td>Utah</td>\n",
       "        <td>1717</td>\n",
       "    </tr>\n",
       "    <tr>\n",
       "        <td>Kentucky</td>\n",
       "        <td>4958</td>\n",
       "    </tr>\n",
       "    <tr>\n",
       "        <td>Nebraska</td>\n",
       "        <td>1104</td>\n",
       "    </tr>\n",
       "    <tr>\n",
       "        <td>North Carolina</td>\n",
       "        <td>15121</td>\n",
       "    </tr>\n",
       "</table>"
      ],
      "text/plain": [
       "[('Alabama', 8244),\n",
       " ('Indiana', 7034),\n",
       " ('South Carolina', 10475),\n",
       " ('Louisiana', 11846),\n",
       " ('California', 61549),\n",
       " ('New Hampshire', 543),\n",
       " ('Connecticut', 3208),\n",
       " ('Oklahoma', 7187),\n",
       " ('Nevada', 3675),\n",
       " ('Idaho', 1033),\n",
       " ('Maryland', 9508),\n",
       " ('Ohio', 13280),\n",
       " ('Delaware', 858),\n",
       " ('Florida', 24274),\n",
       " ('Illinois', 15741),\n",
       " ('Montana', 551),\n",
       " ('Texas', 43795),\n",
       " ('Oregon', 3351),\n",
       " ('Mississippi', 5369),\n",
       " ('Kansas', 2396),\n",
       " ('Pennsylvania', 16289),\n",
       " ('Tennessee', 11845),\n",
       " ('Georgia', 14635),\n",
       " ('Colorado', 5043),\n",
       " ('Arkansas', 5692),\n",
       " ('Washington', 6072),\n",
       " ('Virginia', 11986),\n",
       " ('Wyoming', 568),\n",
       " ('Missouri', 9204),\n",
       " ('South Dakota', 402),\n",
       " ('District of Columbia', 1865),\n",
       " ('Arizona', 8160),\n",
       " ('Utah', 1717),\n",
       " ('Kentucky', 4958),\n",
       " ('Nebraska', 1104),\n",
       " ('North Carolina', 15121)]"
      ]
     },
     "execution_count": 145,
     "metadata": {},
     "output_type": "execute_result"
    }
   ],
   "source": [
    "%%sql\n",
    "SELECT death_penalty.State, COUNT(*) count\n",
    "FROM homicide\n",
    "JOIN death_penalty\n",
    "on homicide.death_penalty_key = death_penalty.key\n",
    "WHERE death_penalty.penalty = 'Yes'\n",
    "GROUP BY State;"
   ]
  },
  {
   "cell_type": "code",
   "execution_count": 146,
   "metadata": {},
   "outputs": [],
   "source": [
    "%matplotlib inline"
   ]
  },
  {
   "cell_type": "code",
   "execution_count": 147,
   "metadata": {},
   "outputs": [
    {
     "data": {
      "text/plain": [
       "<BarContainer object of 36 artists>"
      ]
     },
     "execution_count": 147,
     "metadata": {},
     "output_type": "execute_result"
    },
    {
     "data": {
      "image/png": "[encoded data removed]",
      "text/plain": [
       "<Figure size 432x288 with 1 Axes>"
      ]
     },
     "metadata": {
      "needs_background": "light"
     },
     "output_type": "display_data"
    }
   ],
   "source": [
    "_.bar()"
   ]
  },
  {
   "cell_type": "markdown",
   "metadata": {},
   "source": [
    "##### Bar chart of crime amount in state where death penalty is illegitimate."
   ]
  },
  {
   "cell_type": "code",
   "execution_count": 148,
   "metadata": {},
   "outputs": [
    {
     "name": "stdout",
     "output_type": "stream",
     "text": [
      " * postgresql://student@/final\n",
      "15 rows affected.\n"
     ]
    },
    {
     "data": {
      "text/html": [
       "<table>\n",
       "    <tr>\n",
       "        <th>state</th>\n",
       "        <th>count</th>\n",
       "    </tr>\n",
       "    <tr>\n",
       "        <td>Wisconsin</td>\n",
       "        <td>4994</td>\n",
       "    </tr>\n",
       "    <tr>\n",
       "        <td>Iowa</td>\n",
       "        <td>1515</td>\n",
       "    </tr>\n",
       "    <tr>\n",
       "        <td>Maine</td>\n",
       "        <td>766</td>\n",
       "    </tr>\n",
       "    <tr>\n",
       "        <td>New York</td>\n",
       "        <td>23220</td>\n",
       "    </tr>\n",
       "    <tr>\n",
       "        <td>Minnesota</td>\n",
       "        <td>3156</td>\n",
       "    </tr>\n",
       "    <tr>\n",
       "        <td>Vermont</td>\n",
       "        <td>364</td>\n",
       "    </tr>\n",
       "    <tr>\n",
       "        <td>Rhodes Island</td>\n",
       "        <td>790</td>\n",
       "    </tr>\n",
       "    <tr>\n",
       "        <td>New Mexico</td>\n",
       "        <td>3112</td>\n",
       "    </tr>\n",
       "    <tr>\n",
       "        <td>Hawaii</td>\n",
       "        <td>1048</td>\n",
       "    </tr>\n",
       "    <tr>\n",
       "        <td>North Dakota</td>\n",
       "        <td>286</td>\n",
       "    </tr>\n",
       "    <tr>\n",
       "        <td>New Jersey</td>\n",
       "        <td>8945</td>\n",
       "    </tr>\n",
       "    <tr>\n",
       "        <td>Alaska</td>\n",
       "        <td>1311</td>\n",
       "    </tr>\n",
       "    <tr>\n",
       "        <td>Massachusetts</td>\n",
       "        <td>3754</td>\n",
       "    </tr>\n",
       "    <tr>\n",
       "        <td>Michigan</td>\n",
       "        <td>17160</td>\n",
       "    </tr>\n",
       "    <tr>\n",
       "        <td>West Virginia</td>\n",
       "        <td>2700</td>\n",
       "    </tr>\n",
       "</table>"
      ],
      "text/plain": [
       "[('Wisconsin', 4994),\n",
       " ('Iowa', 1515),\n",
       " ('Maine', 766),\n",
       " ('New York', 23220),\n",
       " ('Minnesota', 3156),\n",
       " ('Vermont', 364),\n",
       " ('Rhodes Island', 790),\n",
       " ('New Mexico', 3112),\n",
       " ('Hawaii', 1048),\n",
       " ('North Dakota', 286),\n",
       " ('New Jersey', 8945),\n",
       " ('Alaska', 1311),\n",
       " ('Massachusetts', 3754),\n",
       " ('Michigan', 17160),\n",
       " ('West Virginia', 2700)]"
      ]
     },
     "execution_count": 148,
     "metadata": {},
     "output_type": "execute_result"
    }
   ],
   "source": [
    "%%sql\n",
    "SELECT death_penalty.State, COUNT(*) count\n",
    "FROM homicide\n",
    "JOIN death_penalty\n",
    "on homicide.death_penalty_key = death_penalty.key\n",
    "WHERE death_penalty.penalty = 'No'\n",
    "GROUP BY State;"
   ]
  },
  {
   "cell_type": "code",
   "execution_count": 149,
   "metadata": {},
   "outputs": [],
   "source": [
    "%matplotlib inline"
   ]
  },
  {
   "cell_type": "code",
   "execution_count": 150,
   "metadata": {},
   "outputs": [
    {
     "data": {
      "text/plain": [
       "<BarContainer object of 15 artists>"
      ]
     },
     "execution_count": 150,
     "metadata": {},
     "output_type": "execute_result"
    },
    {
     "data": {
      "image/png": "[encoded data removed]",
      "text/plain": [
       "<Figure size 432x288 with 1 Axes>"
      ]
     },
     "metadata": {
      "needs_background": "light"
     },
     "output_type": "display_data"
    }
   ],
   "source": [
    "_.bar()"
   ]
  },
  {
   "cell_type": "markdown",
   "metadata": {},
   "source": [
    "##### Total amount of crime in all state where death penalty is legitimate."
   ]
  },
  {
   "cell_type": "code",
   "execution_count": 151,
   "metadata": {},
   "outputs": [
    {
     "name": "stdout",
     "output_type": "stream",
     "text": [
      " * postgresql://student@/final\n",
      "1 rows affected.\n"
     ]
    },
    {
     "data": {
      "text/html": [
       "<table>\n",
       "    <tr>\n",
       "        <th>count</th>\n",
       "    </tr>\n",
       "    <tr>\n",
       "        <td>348578</td>\n",
       "    </tr>\n",
       "</table>"
      ],
      "text/plain": [
       "[(348578,)]"
      ]
     },
     "execution_count": 151,
     "metadata": {},
     "output_type": "execute_result"
    }
   ],
   "source": [
    "%%sql\n",
    "SELECT COUNT(*) count\n",
    "FROM homicide\n",
    "JOIN death_penalty\n",
    "on homicide.death_penalty_key = death_penalty.key\n",
    "WHERE death_penalty.penalty = 'Yes'\n",
    ";"
   ]
  },
  {
   "cell_type": "markdown",
   "metadata": {},
   "source": [
    "##### Total amount of crime in all state where death penalty is illegitimate."
   ]
  },
  {
   "cell_type": "code",
   "execution_count": 152,
   "metadata": {},
   "outputs": [
    {
     "name": "stdout",
     "output_type": "stream",
     "text": [
      " * postgresql://student@/final\n",
      "1 rows affected.\n"
     ]
    },
    {
     "data": {
      "text/html": [
       "<table>\n",
       "    <tr>\n",
       "        <th>count</th>\n",
       "    </tr>\n",
       "    <tr>\n",
       "        <td>73121</td>\n",
       "    </tr>\n",
       "</table>"
      ],
      "text/plain": [
       "[(73121,)]"
      ]
     },
     "execution_count": 152,
     "metadata": {},
     "output_type": "execute_result"
    }
   ],
   "source": [
    "%%sql\n",
    "SELECT COUNT(*) count\n",
    "FROM homicide\n",
    "JOIN death_penalty\n",
    "on homicide.death_penalty_key = death_penalty.key\n",
    "WHERE death_penalty.penalty = 'No'\n",
    ";"
   ]
  },
  {
   "cell_type": "markdown",
   "metadata": {},
   "source": [
    "##### By calculating the average crime amount of both categories, the legitimate state average crime amount is 9683, and the average amount of crime in illegitimate is 4875, which is a bit more than half of legitimate states. Therefore, we can say that dealth penalty is not detering the occurance of crime."
   ]
  },
  {
   "cell_type": "code",
   "execution_count": 153,
   "metadata": {},
   "outputs": [
    {
     "name": "stdout",
     "output_type": "stream",
     "text": [
      " * postgresql://student@/final\n",
      "39 rows affected.\n"
     ]
    },
    {
     "data": {
      "text/html": [
       "<table>\n",
       "    <tr>\n",
       "        <th>year</th>\n",
       "        <th>state</th>\n",
       "        <th>count</th>\n",
       "    </tr>\n",
       "    <tr>\n",
       "        <td>2001</td>\n",
       "        <td>New Jersey</td>\n",
       "        <td>224</td>\n",
       "    </tr>\n",
       "    <tr>\n",
       "        <td>2002</td>\n",
       "        <td>New Jersey</td>\n",
       "        <td>233</td>\n",
       "    </tr>\n",
       "    <tr>\n",
       "        <td>2003</td>\n",
       "        <td>New Jersey</td>\n",
       "        <td>296</td>\n",
       "    </tr>\n",
       "    <tr>\n",
       "        <td>2004</td>\n",
       "        <td>New Jersey</td>\n",
       "        <td>264</td>\n",
       "    </tr>\n",
       "    <tr>\n",
       "        <td>2005</td>\n",
       "        <td>New Jersey</td>\n",
       "        <td>250</td>\n",
       "    </tr>\n",
       "    <tr>\n",
       "        <td>2006</td>\n",
       "        <td>New Jersey</td>\n",
       "        <td>262</td>\n",
       "    </tr>\n",
       "    <tr>\n",
       "        <td>2007</td>\n",
       "        <td>New Jersey</td>\n",
       "        <td>217</td>\n",
       "    </tr>\n",
       "    <tr>\n",
       "        <td>2008</td>\n",
       "        <td>New Jersey</td>\n",
       "        <td>212</td>\n",
       "    </tr>\n",
       "    <tr>\n",
       "        <td>2009</td>\n",
       "        <td>New Jersey</td>\n",
       "        <td>173</td>\n",
       "    </tr>\n",
       "    <tr>\n",
       "        <td>2010</td>\n",
       "        <td>New Jersey</td>\n",
       "        <td>227</td>\n",
       "    </tr>\n",
       "    <tr>\n",
       "        <td>2011</td>\n",
       "        <td>New Jersey</td>\n",
       "        <td>210</td>\n",
       "    </tr>\n",
       "    <tr>\n",
       "        <td>2012</td>\n",
       "        <td>New Jersey</td>\n",
       "        <td>204</td>\n",
       "    </tr>\n",
       "    <tr>\n",
       "        <td>2013</td>\n",
       "        <td>New Jersey</td>\n",
       "        <td>212</td>\n",
       "    </tr>\n",
       "    <tr>\n",
       "        <td>2001</td>\n",
       "        <td>New Mexico</td>\n",
       "        <td>78</td>\n",
       "    </tr>\n",
       "    <tr>\n",
       "        <td>2002</td>\n",
       "        <td>New Mexico</td>\n",
       "        <td>119</td>\n",
       "    </tr>\n",
       "    <tr>\n",
       "        <td>2003</td>\n",
       "        <td>New Mexico</td>\n",
       "        <td>87</td>\n",
       "    </tr>\n",
       "    <tr>\n",
       "        <td>2004</td>\n",
       "        <td>New Mexico</td>\n",
       "        <td>114</td>\n",
       "    </tr>\n",
       "    <tr>\n",
       "        <td>2005</td>\n",
       "        <td>New Mexico</td>\n",
       "        <td>103</td>\n",
       "    </tr>\n",
       "    <tr>\n",
       "        <td>2006</td>\n",
       "        <td>New Mexico</td>\n",
       "        <td>90</td>\n",
       "    </tr>\n",
       "    <tr>\n",
       "        <td>2007</td>\n",
       "        <td>New Mexico</td>\n",
       "        <td>122</td>\n",
       "    </tr>\n",
       "    <tr>\n",
       "        <td>2008</td>\n",
       "        <td>New Mexico</td>\n",
       "        <td>106</td>\n",
       "    </tr>\n",
       "    <tr>\n",
       "        <td>2009</td>\n",
       "        <td>New Mexico</td>\n",
       "        <td>113</td>\n",
       "    </tr>\n",
       "    <tr>\n",
       "        <td>2010</td>\n",
       "        <td>New Mexico</td>\n",
       "        <td>118</td>\n",
       "    </tr>\n",
       "    <tr>\n",
       "        <td>2011</td>\n",
       "        <td>New Mexico</td>\n",
       "        <td>105</td>\n",
       "    </tr>\n",
       "    <tr>\n",
       "        <td>2012</td>\n",
       "        <td>New Mexico</td>\n",
       "        <td>91</td>\n",
       "    </tr>\n",
       "    <tr>\n",
       "        <td>2013</td>\n",
       "        <td>New Mexico</td>\n",
       "        <td>98</td>\n",
       "    </tr>\n",
       "    <tr>\n",
       "        <td>2001</td>\n",
       "        <td>New York</td>\n",
       "        <td>454</td>\n",
       "    </tr>\n",
       "    <tr>\n",
       "        <td>2002</td>\n",
       "        <td>New York</td>\n",
       "        <td>458</td>\n",
       "    </tr>\n",
       "    <tr>\n",
       "        <td>2003</td>\n",
       "        <td>New York</td>\n",
       "        <td>368</td>\n",
       "    </tr>\n",
       "    <tr>\n",
       "        <td>2004</td>\n",
       "        <td>New York</td>\n",
       "        <td>415</td>\n",
       "    </tr>\n",
       "    <tr>\n",
       "        <td>2005</td>\n",
       "        <td>New York</td>\n",
       "        <td>421</td>\n",
       "    </tr>\n",
       "    <tr>\n",
       "        <td>2006</td>\n",
       "        <td>New York</td>\n",
       "        <td>571</td>\n",
       "    </tr>\n",
       "    <tr>\n",
       "        <td>2007</td>\n",
       "        <td>New York</td>\n",
       "        <td>468</td>\n",
       "    </tr>\n",
       "    <tr>\n",
       "        <td>2008</td>\n",
       "        <td>New York</td>\n",
       "        <td>506</td>\n",
       "    </tr>\n",
       "    <tr>\n",
       "        <td>2009</td>\n",
       "        <td>New York</td>\n",
       "        <td>468</td>\n",
       "    </tr>\n",
       "    <tr>\n",
       "        <td>2010</td>\n",
       "        <td>New York</td>\n",
       "        <td>495</td>\n",
       "    </tr>\n",
       "    <tr>\n",
       "        <td>2011</td>\n",
       "        <td>New York</td>\n",
       "        <td>475</td>\n",
       "    </tr>\n",
       "    <tr>\n",
       "        <td>2012</td>\n",
       "        <td>New York</td>\n",
       "        <td>393</td>\n",
       "    </tr>\n",
       "    <tr>\n",
       "        <td>2013</td>\n",
       "        <td>New York</td>\n",
       "        <td>412</td>\n",
       "    </tr>\n",
       "</table>"
      ],
      "text/plain": [
       "[(Decimal('2001'), 'New Jersey', 224),\n",
       " (Decimal('2002'), 'New Jersey', 233),\n",
       " (Decimal('2003'), 'New Jersey', 296),\n",
       " (Decimal('2004'), 'New Jersey', 264),\n",
       " (Decimal('2005'), 'New Jersey', 250),\n",
       " (Decimal('2006'), 'New Jersey', 262),\n",
       " (Decimal('2007'), 'New Jersey', 217),\n",
       " (Decimal('2008'), 'New Jersey', 212),\n",
       " (Decimal('2009'), 'New Jersey', 173),\n",
       " (Decimal('2010'), 'New Jersey', 227),\n",
       " (Decimal('2011'), 'New Jersey', 210),\n",
       " (Decimal('2012'), 'New Jersey', 204),\n",
       " (Decimal('2013'), 'New Jersey', 212),\n",
       " (Decimal('2001'), 'New Mexico', 78),\n",
       " (Decimal('2002'), 'New Mexico', 119),\n",
       " (Decimal('2003'), 'New Mexico', 87),\n",
       " (Decimal('2004'), 'New Mexico', 114),\n",
       " (Decimal('2005'), 'New Mexico', 103),\n",
       " (Decimal('2006'), 'New Mexico', 90),\n",
       " (Decimal('2007'), 'New Mexico', 122),\n",
       " (Decimal('2008'), 'New Mexico', 106),\n",
       " (Decimal('2009'), 'New Mexico', 113),\n",
       " (Decimal('2010'), 'New Mexico', 118),\n",
       " (Decimal('2011'), 'New Mexico', 105),\n",
       " (Decimal('2012'), 'New Mexico', 91),\n",
       " (Decimal('2013'), 'New Mexico', 98),\n",
       " (Decimal('2001'), 'New York', 454),\n",
       " (Decimal('2002'), 'New York', 458),\n",
       " (Decimal('2003'), 'New York', 368),\n",
       " (Decimal('2004'), 'New York', 415),\n",
       " (Decimal('2005'), 'New York', 421),\n",
       " (Decimal('2006'), 'New York', 571),\n",
       " (Decimal('2007'), 'New York', 468),\n",
       " (Decimal('2008'), 'New York', 506),\n",
       " (Decimal('2009'), 'New York', 468),\n",
       " (Decimal('2010'), 'New York', 495),\n",
       " (Decimal('2011'), 'New York', 475),\n",
       " (Decimal('2012'), 'New York', 393),\n",
       " (Decimal('2013'), 'New York', 412)]"
      ]
     },
     "execution_count": 153,
     "metadata": {},
     "output_type": "execute_result"
    }
   ],
   "source": [
    "%%sql\n",
    "SELECT time.year, location.State, COUNT(*) count\n",
    "FROM homicide\n",
    "JOIN time\n",
    "on homicide.time_key = time.key\n",
    "JOIN location\n",
    "on homicide.location_key = location.key\n",
    "WHERE (State = 'New Jersey' OR State = 'New York' OR State = 'New Mexico') AND time.year > 2000 AND time.year < 2014\n",
    "GROUP BY time.year, location.State\n",
    "ORDER BY State, year;"
   ]
  },
  {
   "cell_type": "code",
   "execution_count": 154,
   "metadata": {},
   "outputs": [
    {
     "name": "stdout",
     "output_type": "stream",
     "text": [
      " * postgresql://student@/final\n",
      "Done.\n",
      "Done.\n"
     ]
    },
    {
     "data": {
      "text/plain": [
       "[]"
      ]
     },
     "execution_count": 154,
     "metadata": {},
     "output_type": "execute_result"
    }
   ],
   "source": [
    "%%sql\n",
    "DROP VIEW IF EXISTS BQ4;\n",
    "CREATE OR REPLACE VIEW BQ4 AS\n",
    "SELECT time.year, location.State, COUNT(*) count\n",
    "FROM homicide\n",
    "JOIN time\n",
    "on homicide.time_key = time.key\n",
    "JOIN location\n",
    "on homicide.location_key = location.key\n",
    "WHERE (State = 'New Jersey' OR State = 'New York' OR State = 'New Mexico') AND time.year > 2000 AND time.year < 2014\n",
    "GROUP BY time.year, location.State\n",
    "ORDER BY State, year;"
   ]
  },
  {
   "cell_type": "code",
   "execution_count": 155,
   "metadata": {},
   "outputs": [
    {
     "name": "stdout",
     "output_type": "stream",
     "text": [
      " * postgresql://student@/final\n",
      "39 rows affected.\n"
     ]
    }
   ],
   "source": [
    "v4 = %%sql SELECT * FROM BQ4\n",
    "v4df = v4.DataFrame()"
   ]
  },
  {
   "cell_type": "code",
   "execution_count": 156,
   "metadata": {},
   "outputs": [
    {
     "data": {
      "image/png": "[encoded data removed]",
      "text/plain": [
       "<Figure size 720x720 with 1 Axes>"
      ]
     },
     "metadata": {
      "needs_background": "light"
     },
     "output_type": "display_data"
    }
   ],
   "source": [
    "plt.figure(figsize=(10,10))\n",
    "NJ = v4df[v4df.state == \"New Jersey\"]\n",
    "NM = v4df[v4df.state == \"New Mexico\"]\n",
    "NY = v4df[v4df.state == \"New York\"]\n",
    "x = NJ.iloc[:,0]\n",
    "y1 = NJ.iloc[:,2]\n",
    "y2 = NM.iloc[:,2]\n",
    "y3 = NY.iloc[:,2]\n",
    "plt.title(\"Number of homicide\")\n",
    "plt.plot(x,y1)\n",
    "plt.plot(x,y2)\n",
    "plt.plot(x,y3)\n",
    "plt.xlabel(\"year\")\n",
    "plt.ylabel(\"count\")\n",
    "plt.legend([\"NJ\",\"NM\",\"NY\"])\n",
    "plt.show()"
   ]
  },
  {
   "cell_type": "markdown",
   "metadata": {},
   "source": [
    "##### In 2007 New Jersery and New York abolished dealth penalty, and in 2009 New Mexico abolished dealth penalty as well. But we can see from the graph above that there is no consistent rise of crime amount in these three states after dealth penalty abolishment. Therefore, we can state that death penalty does not deter the occurance of crime."
   ]
  },
  {
   "cell_type": "markdown",
   "metadata": {},
   "source": [
    "# Business Question 5."
   ]
  },
  {
   "cell_type": "markdown",
   "metadata": {},
   "source": [
    "## Relationship between Graduation Rate and Crime Rate (with additional data):"
   ]
  },
  {
   "cell_type": "markdown",
   "metadata": {},
   "source": [
    "### When looking at more potential factors of crimes committed, we thought maybe personal background could be a factor causing a person to be more likely to commit a crime. We found additional data with graduation rates on each state, and we believe this additional dataset can assist us to see if there is a relationship between this factor and crimes committed."
   ]
  },
  {
   "cell_type": "markdown",
   "metadata": {},
   "source": [
    "##### create a table which contain each year graduation_rate "
   ]
  },
  {
   "cell_type": "code",
   "execution_count": 157,
   "metadata": {},
   "outputs": [
    {
     "name": "stdout",
     "output_type": "stream",
     "text": [
      " * postgresql://student@/final\n",
      "Done.\n",
      "Done.\n"
     ]
    },
    {
     "data": {
      "text/plain": [
       "[]"
      ]
     },
     "execution_count": 157,
     "metadata": {},
     "output_type": "execute_result"
    }
   ],
   "source": [
    "%%sql\n",
    "DROP TABLE IF EXISTS grad_rate;\n",
    "\n",
    "CREATE TABLE grad_rate (\n",
    "    key SERIAL PRIMARY KEY,\n",
    "    year    float(10) NOT NULL,\n",
    "    high   float(10) NOT NULL,\n",
    "    college float(10) NOT NULL\n",
    "\n",
    ");"
   ]
  },
  {
   "cell_type": "markdown",
   "metadata": {},
   "source": [
    "##### Download data from s3"
   ]
  },
  {
   "cell_type": "code",
   "execution_count": 158,
   "metadata": {},
   "outputs": [
    {
     "name": "stdout",
     "output_type": "stream",
     "text": [
      "--2019-12-01 20:11:36--  https://gaoyux-2019.s3.amazonaws.com/graduation_rate.csv\n",
      "Resolving gaoyux-2019.s3.amazonaws.com (gaoyux-2019.s3.amazonaws.com)... 52.216.238.147\n",
      "Connecting to gaoyux-2019.s3.amazonaws.com (gaoyux-2019.s3.amazonaws.com)|52.216.238.147|:443... connected.\n",
      "HTTP request sent, awaiting response... 200 OK\n",
      "Length: 776 [text/csv]\n",
      "Saving to: ‘graduation_rate.csv’\n",
      "\n",
      "graduation_rate.csv 100%[===================>]     776  --.-KB/s    in 0s      \n",
      "\n",
      "2019-12-01 20:11:36 (33.1 MB/s) - ‘graduation_rate.csv’ saved [776/776]\n",
      "\n"
     ]
    }
   ],
   "source": [
    "!wget \"https://gaoyux-2019.s3.amazonaws.com/graduation_rate.csv\" "
   ]
  },
  {
   "cell_type": "code",
   "execution_count": 159,
   "metadata": {},
   "outputs": [
    {
     "name": "stdout",
     "output_type": "stream",
     "text": [
      " * postgresql://student@/final\n",
      "39 rows affected.\n"
     ]
    },
    {
     "data": {
      "text/plain": [
       "[]"
      ]
     },
     "execution_count": 159,
     "metadata": {},
     "output_type": "execute_result"
    }
   ],
   "source": [
    "%%sql\n",
    "COPY grad_rate \n",
    "(year,high,college)\n",
    "FROM '/home/ubuntu/Group14_Final_Project/graduation_rate.csv'\n",
    "CSV\n",
    "HEADER"
   ]
  },
  {
   "cell_type": "code",
   "execution_count": 160,
   "metadata": {},
   "outputs": [
    {
     "name": "stdout",
     "output_type": "stream",
     "text": [
      " * postgresql://student@/final\n",
      "10 rows affected.\n"
     ]
    },
    {
     "data": {
      "text/html": [
       "<table>\n",
       "    <tr>\n",
       "        <th>key</th>\n",
       "        <th>year</th>\n",
       "        <th>high</th>\n",
       "        <th>college</th>\n",
       "    </tr>\n",
       "    <tr>\n",
       "        <td>1</td>\n",
       "        <td>2018.0</td>\n",
       "        <td>0.898</td>\n",
       "        <td>0.35</td>\n",
       "    </tr>\n",
       "    <tr>\n",
       "        <td>2</td>\n",
       "        <td>2017.0</td>\n",
       "        <td>0.896</td>\n",
       "        <td>0.342</td>\n",
       "    </tr>\n",
       "    <tr>\n",
       "        <td>3</td>\n",
       "        <td>2016.0</td>\n",
       "        <td>0.891</td>\n",
       "        <td>0.334</td>\n",
       "    </tr>\n",
       "    <tr>\n",
       "        <td>4</td>\n",
       "        <td>2015.0</td>\n",
       "        <td>0.884</td>\n",
       "        <td>0.325</td>\n",
       "    </tr>\n",
       "    <tr>\n",
       "        <td>5</td>\n",
       "        <td>2014.0</td>\n",
       "        <td>0.883</td>\n",
       "        <td>0.32</td>\n",
       "    </tr>\n",
       "    <tr>\n",
       "        <td>6</td>\n",
       "        <td>2013.0</td>\n",
       "        <td>0.882</td>\n",
       "        <td>0.317</td>\n",
       "    </tr>\n",
       "    <tr>\n",
       "        <td>7</td>\n",
       "        <td>2012.0</td>\n",
       "        <td>0.876</td>\n",
       "        <td>0.309</td>\n",
       "    </tr>\n",
       "    <tr>\n",
       "        <td>8</td>\n",
       "        <td>2011.0</td>\n",
       "        <td>0.876</td>\n",
       "        <td>0.304</td>\n",
       "    </tr>\n",
       "    <tr>\n",
       "        <td>9</td>\n",
       "        <td>2010.0</td>\n",
       "        <td>0.871</td>\n",
       "        <td>0.299</td>\n",
       "    </tr>\n",
       "    <tr>\n",
       "        <td>10</td>\n",
       "        <td>2009.0</td>\n",
       "        <td>0.867</td>\n",
       "        <td>0.295</td>\n",
       "    </tr>\n",
       "</table>"
      ],
      "text/plain": [
       "[(1, 2018.0, 0.898, 0.35),\n",
       " (2, 2017.0, 0.896, 0.342),\n",
       " (3, 2016.0, 0.891, 0.334),\n",
       " (4, 2015.0, 0.884, 0.325),\n",
       " (5, 2014.0, 0.883, 0.32),\n",
       " (6, 2013.0, 0.882, 0.317),\n",
       " (7, 2012.0, 0.876, 0.309),\n",
       " (8, 2011.0, 0.876, 0.304),\n",
       " (9, 2010.0, 0.871, 0.299),\n",
       " (10, 2009.0, 0.867, 0.295)]"
      ]
     },
     "execution_count": 160,
     "metadata": {},
     "output_type": "execute_result"
    }
   ],
   "source": [
    "%%sql\n",
    "SELECT * FROM grad_rate LIMIT 10;"
   ]
  },
  {
   "cell_type": "markdown",
   "metadata": {},
   "source": [
    "##### Add a column to connect the grad_rate table to the fact table: homicide"
   ]
  },
  {
   "cell_type": "code",
   "execution_count": 161,
   "metadata": {},
   "outputs": [
    {
     "name": "stdout",
     "output_type": "stream",
     "text": [
      " * postgresql://student@/final\n",
      "Done.\n"
     ]
    },
    {
     "data": {
      "text/plain": [
       "[]"
      ]
     },
     "execution_count": 161,
     "metadata": {},
     "output_type": "execute_result"
    }
   ],
   "source": [
    "%%sql\n",
    "ALTER TABLE homicide \n",
    "ADD COLUMN grad_rate_key INTEGER,\n",
    "ADD CONSTRAINT fk_grad\n",
    "    FOREIGN KEY (grad_rate_key)\n",
    "    REFERENCES grad_rate (key);"
   ]
  },
  {
   "cell_type": "code",
   "execution_count": 162,
   "metadata": {},
   "outputs": [
    {
     "name": "stdout",
     "output_type": "stream",
     "text": [
      " * postgresql://student@/final\n",
      "421699 rows affected.\n"
     ]
    },
    {
     "data": {
      "text/plain": [
       "[]"
      ]
     },
     "execution_count": 162,
     "metadata": {},
     "output_type": "execute_result"
    }
   ],
   "source": [
    "%%sql\n",
    "UPDATE homicide\n",
    "SET grad_rate_key = grad_rate.key\n",
    "FROM time, grad_rate\n",
    "WHERE homicide.time_key = time.key AND time.year = grad_rate.year;"
   ]
  },
  {
   "cell_type": "markdown",
   "metadata": {},
   "source": [
    "##### Create table PRO4 which contain year, total crime number, high school graduation rate, and college graduation rate"
   ]
  },
  {
   "cell_type": "code",
   "execution_count": 163,
   "metadata": {},
   "outputs": [
    {
     "name": "stdout",
     "output_type": "stream",
     "text": [
      " * postgresql://student@/final\n",
      "Done.\n",
      "35 rows affected.\n"
     ]
    },
    {
     "data": {
      "text/plain": [
       "[]"
      ]
     },
     "execution_count": 163,
     "metadata": {},
     "output_type": "execute_result"
    }
   ],
   "source": [
    "%%sql\n",
    "DROP TABLE IF EXISTS PRO4 cascade;\n",
    "\n",
    "CREATE TABLE PRO4 AS\n",
    "SELECT grad_rate.year, COUNT(*) count, grad_rate.high,grad_rate.college\n",
    "FROM homicide\n",
    "JOIN grad_rate\n",
    "on homicide.grad_rate_key = grad_rate.key\n",
    "GROUP BY year,grad_rate.high,grad_rate.college\n",
    ";"
   ]
  },
  {
   "cell_type": "code",
   "execution_count": 164,
   "metadata": {},
   "outputs": [
    {
     "name": "stdout",
     "output_type": "stream",
     "text": [
      " * postgresql://student@/final\n",
      "35 rows affected.\n"
     ]
    },
    {
     "data": {
      "text/html": [
       "<table>\n",
       "    <tr>\n",
       "        <th>year</th>\n",
       "        <th>count</th>\n",
       "        <th>high</th>\n",
       "        <th>college</th>\n",
       "    </tr>\n",
       "    <tr>\n",
       "        <td>1999.0</td>\n",
       "        <td>9514</td>\n",
       "        <td>0.834</td>\n",
       "        <td>0.244</td>\n",
       "    </tr>\n",
       "    <tr>\n",
       "        <td>1994.0</td>\n",
       "        <td>14626</td>\n",
       "        <td>0.809</td>\n",
       "        <td>0.222</td>\n",
       "    </tr>\n",
       "    <tr>\n",
       "        <td>2014.0</td>\n",
       "        <td>9400</td>\n",
       "        <td>0.883</td>\n",
       "        <td>0.32</td>\n",
       "    </tr>\n",
       "    <tr>\n",
       "        <td>2007.0</td>\n",
       "        <td>10822</td>\n",
       "        <td>0.857</td>\n",
       "        <td>0.287</td>\n",
       "    </tr>\n",
       "    <tr>\n",
       "        <td>1987.0</td>\n",
       "        <td>12981</td>\n",
       "        <td>0.7538</td>\n",
       "        <td>0.2016</td>\n",
       "    </tr>\n",
       "    <tr>\n",
       "        <td>1998.0</td>\n",
       "        <td>10445</td>\n",
       "        <td>0.828</td>\n",
       "        <td>0.239</td>\n",
       "    </tr>\n",
       "    <tr>\n",
       "        <td>2000.0</td>\n",
       "        <td>9359</td>\n",
       "        <td>0.841</td>\n",
       "        <td>0.252</td>\n",
       "    </tr>\n",
       "    <tr>\n",
       "        <td>2008.0</td>\n",
       "        <td>9819</td>\n",
       "        <td>0.866</td>\n",
       "        <td>0.294</td>\n",
       "    </tr>\n",
       "    <tr>\n",
       "        <td>2003.0</td>\n",
       "        <td>10170</td>\n",
       "        <td>0.846</td>\n",
       "        <td>0.267</td>\n",
       "    </tr>\n",
       "    <tr>\n",
       "        <td>1988.0</td>\n",
       "        <td>12817</td>\n",
       "        <td>0.7612</td>\n",
       "        <td>0.2054</td>\n",
       "    </tr>\n",
       "    <tr>\n",
       "        <td>2006.0</td>\n",
       "        <td>10992</td>\n",
       "        <td>0.855</td>\n",
       "        <td>0.28</td>\n",
       "    </tr>\n",
       "    <tr>\n",
       "        <td>1993.0</td>\n",
       "        <td>15325</td>\n",
       "        <td>0.802</td>\n",
       "        <td>0.219</td>\n",
       "    </tr>\n",
       "    <tr>\n",
       "        <td>1989.0</td>\n",
       "        <td>13539</td>\n",
       "        <td>0.7686</td>\n",
       "        <td>0.2092</td>\n",
       "    </tr>\n",
       "    <tr>\n",
       "        <td>2001.0</td>\n",
       "        <td>10033</td>\n",
       "        <td>0.841</td>\n",
       "        <td>0.256</td>\n",
       "    </tr>\n",
       "    <tr>\n",
       "        <td>1990.0</td>\n",
       "        <td>14234</td>\n",
       "        <td>0.776</td>\n",
       "        <td>0.213</td>\n",
       "    </tr>\n",
       "    <tr>\n",
       "        <td>2010.0</td>\n",
       "        <td>10058</td>\n",
       "        <td>0.871</td>\n",
       "        <td>0.299</td>\n",
       "    </tr>\n",
       "    <tr>\n",
       "        <td>1984.0</td>\n",
       "        <td>12773</td>\n",
       "        <td>0.7242</td>\n",
       "        <td>0.1876</td>\n",
       "    </tr>\n",
       "    <tr>\n",
       "        <td>2012.0</td>\n",
       "        <td>9836</td>\n",
       "        <td>0.876</td>\n",
       "        <td>0.309</td>\n",
       "    </tr>\n",
       "    <tr>\n",
       "        <td>1983.0</td>\n",
       "        <td>14014</td>\n",
       "        <td>0.7094</td>\n",
       "        <td>0.1812</td>\n",
       "    </tr>\n",
       "    <tr>\n",
       "        <td>2009.0</td>\n",
       "        <td>10495</td>\n",
       "        <td>0.867</td>\n",
       "        <td>0.295</td>\n",
       "    </tr>\n",
       "    <tr>\n",
       "        <td>2004.0</td>\n",
       "        <td>10167</td>\n",
       "        <td>0.846</td>\n",
       "        <td>0.277</td>\n",
       "    </tr>\n",
       "    <tr>\n",
       "        <td>2002.0</td>\n",
       "        <td>10356</td>\n",
       "        <td>0.841</td>\n",
       "        <td>0.262</td>\n",
       "    </tr>\n",
       "    <tr>\n",
       "        <td>2013.0</td>\n",
       "        <td>9428</td>\n",
       "        <td>0.882</td>\n",
       "        <td>0.317</td>\n",
       "    </tr>\n",
       "    <tr>\n",
       "        <td>1982.0</td>\n",
       "        <td>14658</td>\n",
       "        <td>0.6946</td>\n",
       "        <td>0.1748</td>\n",
       "    </tr>\n",
       "    <tr>\n",
       "        <td>1980.0</td>\n",
       "        <td>16202</td>\n",
       "        <td>0.665</td>\n",
       "        <td>0.162</td>\n",
       "    </tr>\n",
       "    <tr>\n",
       "        <td>1997.0</td>\n",
       "        <td>11237</td>\n",
       "        <td>0.821</td>\n",
       "        <td>0.236</td>\n",
       "    </tr>\n",
       "    <tr>\n",
       "        <td>1991.0</td>\n",
       "        <td>14615</td>\n",
       "        <td>0.784</td>\n",
       "        <td>0.214</td>\n",
       "    </tr>\n",
       "    <tr>\n",
       "        <td>1996.0</td>\n",
       "        <td>12177</td>\n",
       "        <td>0.817</td>\n",
       "        <td>0.23</td>\n",
       "    </tr>\n",
       "    <tr>\n",
       "        <td>1981.0</td>\n",
       "        <td>15377</td>\n",
       "        <td>0.6798</td>\n",
       "        <td>0.1684</td>\n",
       "    </tr>\n",
       "    <tr>\n",
       "        <td>1992.0</td>\n",
       "        <td>15040</td>\n",
       "        <td>0.794</td>\n",
       "        <td>0.214</td>\n",
       "    </tr>\n",
       "    <tr>\n",
       "        <td>2005.0</td>\n",
       "        <td>10609</td>\n",
       "        <td>0.852</td>\n",
       "        <td>0.277</td>\n",
       "    </tr>\n",
       "    <tr>\n",
       "        <td>1986.0</td>\n",
       "        <td>14328</td>\n",
       "        <td>0.7464</td>\n",
       "        <td>0.1978</td>\n",
       "    </tr>\n",
       "    <tr>\n",
       "        <td>1985.0</td>\n",
       "        <td>13151</td>\n",
       "        <td>0.739</td>\n",
       "        <td>0.194</td>\n",
       "    </tr>\n",
       "    <tr>\n",
       "        <td>2011.0</td>\n",
       "        <td>9763</td>\n",
       "        <td>0.876</td>\n",
       "        <td>0.304</td>\n",
       "    </tr>\n",
       "    <tr>\n",
       "        <td>1995.0</td>\n",
       "        <td>13339</td>\n",
       "        <td>0.817</td>\n",
       "        <td>0.23</td>\n",
       "    </tr>\n",
       "</table>"
      ],
      "text/plain": [
       "[(1999.0, 9514, 0.834, 0.244),\n",
       " (1994.0, 14626, 0.809, 0.222),\n",
       " (2014.0, 9400, 0.883, 0.32),\n",
       " (2007.0, 10822, 0.857, 0.287),\n",
       " (1987.0, 12981, 0.7538, 0.2016),\n",
       " (1998.0, 10445, 0.828, 0.239),\n",
       " (2000.0, 9359, 0.841, 0.252),\n",
       " (2008.0, 9819, 0.866, 0.294),\n",
       " (2003.0, 10170, 0.846, 0.267),\n",
       " (1988.0, 12817, 0.7612, 0.2054),\n",
       " (2006.0, 10992, 0.855, 0.28),\n",
       " (1993.0, 15325, 0.802, 0.219),\n",
       " (1989.0, 13539, 0.7686, 0.2092),\n",
       " (2001.0, 10033, 0.841, 0.256),\n",
       " (1990.0, 14234, 0.776, 0.213),\n",
       " (2010.0, 10058, 0.871, 0.299),\n",
       " (1984.0, 12773, 0.7242, 0.1876),\n",
       " (2012.0, 9836, 0.876, 0.309),\n",
       " (1983.0, 14014, 0.7094, 0.1812),\n",
       " (2009.0, 10495, 0.867, 0.295),\n",
       " (2004.0, 10167, 0.846, 0.277),\n",
       " (2002.0, 10356, 0.841, 0.262),\n",
       " (2013.0, 9428, 0.882, 0.317),\n",
       " (1982.0, 14658, 0.6946, 0.1748),\n",
       " (1980.0, 16202, 0.665, 0.162),\n",
       " (1997.0, 11237, 0.821, 0.236),\n",
       " (1991.0, 14615, 0.784, 0.214),\n",
       " (1996.0, 12177, 0.817, 0.23),\n",
       " (1981.0, 15377, 0.6798, 0.1684),\n",
       " (1992.0, 15040, 0.794, 0.214),\n",
       " (2005.0, 10609, 0.852, 0.277),\n",
       " (1986.0, 14328, 0.7464, 0.1978),\n",
       " (1985.0, 13151, 0.739, 0.194),\n",
       " (2011.0, 9763, 0.876, 0.304),\n",
       " (1995.0, 13339, 0.817, 0.23)]"
      ]
     },
     "execution_count": 164,
     "metadata": {},
     "output_type": "execute_result"
    }
   ],
   "source": [
    "%%sql\n",
    "SELECT * FROM PRO4;"
   ]
  },
  {
   "cell_type": "markdown",
   "metadata": {},
   "source": [
    "##### Create a view to store table 4 and export as dataframe for future visualization."
   ]
  },
  {
   "cell_type": "code",
   "execution_count": 165,
   "metadata": {},
   "outputs": [
    {
     "name": "stdout",
     "output_type": "stream",
     "text": [
      " * postgresql://student@/final\n",
      "Done.\n"
     ]
    },
    {
     "data": {
      "text/plain": [
       "[]"
      ]
     },
     "execution_count": 165,
     "metadata": {},
     "output_type": "execute_result"
    }
   ],
   "source": [
    "%%sql\n",
    "CREATE OR REPLACE VIEW BQ5 AS\n",
    "SELECT *\n",
    "FROM PRO4\n",
    "ORDER BY year;"
   ]
  },
  {
   "cell_type": "code",
   "execution_count": 166,
   "metadata": {},
   "outputs": [
    {
     "name": "stdout",
     "output_type": "stream",
     "text": [
      " * postgresql://student@/final\n",
      "35 rows affected.\n"
     ]
    }
   ],
   "source": [
    "v5=%%sql SELECT * FROM BQ5;"
   ]
  },
  {
   "cell_type": "code",
   "execution_count": 167,
   "metadata": {},
   "outputs": [],
   "source": [
    "v5_1=v5.DataFrame()"
   ]
  },
  {
   "cell_type": "code",
   "execution_count": 168,
   "metadata": {},
   "outputs": [
    {
     "data": {
      "text/html": [
       "<div>\n",
       "<style scoped>\n",
       "    .dataframe tbody tr th:only-of-type {\n",
       "        vertical-align: middle;\n",
       "    }\n",
       "\n",
       "    .dataframe tbody tr th {\n",
       "        vertical-align: top;\n",
       "    }\n",
       "\n",
       "    .dataframe thead th {\n",
       "        text-align: right;\n",
       "    }\n",
       "</style>\n",
       "<table border=\"1\" class=\"dataframe\">\n",
       "  <thead>\n",
       "    <tr style=\"text-align: right;\">\n",
       "      <th></th>\n",
       "      <th>year</th>\n",
       "      <th>count</th>\n",
       "      <th>high</th>\n",
       "      <th>college</th>\n",
       "    </tr>\n",
       "  </thead>\n",
       "  <tbody>\n",
       "    <tr>\n",
       "      <th>0</th>\n",
       "      <td>1980.0</td>\n",
       "      <td>16202</td>\n",
       "      <td>0.6650</td>\n",
       "      <td>0.1620</td>\n",
       "    </tr>\n",
       "    <tr>\n",
       "      <th>1</th>\n",
       "      <td>1981.0</td>\n",
       "      <td>15377</td>\n",
       "      <td>0.6798</td>\n",
       "      <td>0.1684</td>\n",
       "    </tr>\n",
       "    <tr>\n",
       "      <th>2</th>\n",
       "      <td>1982.0</td>\n",
       "      <td>14658</td>\n",
       "      <td>0.6946</td>\n",
       "      <td>0.1748</td>\n",
       "    </tr>\n",
       "    <tr>\n",
       "      <th>3</th>\n",
       "      <td>1983.0</td>\n",
       "      <td>14014</td>\n",
       "      <td>0.7094</td>\n",
       "      <td>0.1812</td>\n",
       "    </tr>\n",
       "    <tr>\n",
       "      <th>4</th>\n",
       "      <td>1984.0</td>\n",
       "      <td>12773</td>\n",
       "      <td>0.7242</td>\n",
       "      <td>0.1876</td>\n",
       "    </tr>\n",
       "    <tr>\n",
       "      <th>5</th>\n",
       "      <td>1985.0</td>\n",
       "      <td>13151</td>\n",
       "      <td>0.7390</td>\n",
       "      <td>0.1940</td>\n",
       "    </tr>\n",
       "    <tr>\n",
       "      <th>6</th>\n",
       "      <td>1986.0</td>\n",
       "      <td>14328</td>\n",
       "      <td>0.7464</td>\n",
       "      <td>0.1978</td>\n",
       "    </tr>\n",
       "    <tr>\n",
       "      <th>7</th>\n",
       "      <td>1987.0</td>\n",
       "      <td>12981</td>\n",
       "      <td>0.7538</td>\n",
       "      <td>0.2016</td>\n",
       "    </tr>\n",
       "    <tr>\n",
       "      <th>8</th>\n",
       "      <td>1988.0</td>\n",
       "      <td>12817</td>\n",
       "      <td>0.7612</td>\n",
       "      <td>0.2054</td>\n",
       "    </tr>\n",
       "    <tr>\n",
       "      <th>9</th>\n",
       "      <td>1989.0</td>\n",
       "      <td>13539</td>\n",
       "      <td>0.7686</td>\n",
       "      <td>0.2092</td>\n",
       "    </tr>\n",
       "    <tr>\n",
       "      <th>10</th>\n",
       "      <td>1990.0</td>\n",
       "      <td>14234</td>\n",
       "      <td>0.7760</td>\n",
       "      <td>0.2130</td>\n",
       "    </tr>\n",
       "    <tr>\n",
       "      <th>11</th>\n",
       "      <td>1991.0</td>\n",
       "      <td>14615</td>\n",
       "      <td>0.7840</td>\n",
       "      <td>0.2140</td>\n",
       "    </tr>\n",
       "    <tr>\n",
       "      <th>12</th>\n",
       "      <td>1992.0</td>\n",
       "      <td>15040</td>\n",
       "      <td>0.7940</td>\n",
       "      <td>0.2140</td>\n",
       "    </tr>\n",
       "    <tr>\n",
       "      <th>13</th>\n",
       "      <td>1993.0</td>\n",
       "      <td>15325</td>\n",
       "      <td>0.8020</td>\n",
       "      <td>0.2190</td>\n",
       "    </tr>\n",
       "    <tr>\n",
       "      <th>14</th>\n",
       "      <td>1994.0</td>\n",
       "      <td>14626</td>\n",
       "      <td>0.8090</td>\n",
       "      <td>0.2220</td>\n",
       "    </tr>\n",
       "    <tr>\n",
       "      <th>15</th>\n",
       "      <td>1995.0</td>\n",
       "      <td>13339</td>\n",
       "      <td>0.8170</td>\n",
       "      <td>0.2300</td>\n",
       "    </tr>\n",
       "    <tr>\n",
       "      <th>16</th>\n",
       "      <td>1996.0</td>\n",
       "      <td>12177</td>\n",
       "      <td>0.8170</td>\n",
       "      <td>0.2300</td>\n",
       "    </tr>\n",
       "    <tr>\n",
       "      <th>17</th>\n",
       "      <td>1997.0</td>\n",
       "      <td>11237</td>\n",
       "      <td>0.8210</td>\n",
       "      <td>0.2360</td>\n",
       "    </tr>\n",
       "    <tr>\n",
       "      <th>18</th>\n",
       "      <td>1998.0</td>\n",
       "      <td>10445</td>\n",
       "      <td>0.8280</td>\n",
       "      <td>0.2390</td>\n",
       "    </tr>\n",
       "    <tr>\n",
       "      <th>19</th>\n",
       "      <td>1999.0</td>\n",
       "      <td>9514</td>\n",
       "      <td>0.8340</td>\n",
       "      <td>0.2440</td>\n",
       "    </tr>\n",
       "    <tr>\n",
       "      <th>20</th>\n",
       "      <td>2000.0</td>\n",
       "      <td>9359</td>\n",
       "      <td>0.8410</td>\n",
       "      <td>0.2520</td>\n",
       "    </tr>\n",
       "    <tr>\n",
       "      <th>21</th>\n",
       "      <td>2001.0</td>\n",
       "      <td>10033</td>\n",
       "      <td>0.8410</td>\n",
       "      <td>0.2560</td>\n",
       "    </tr>\n",
       "    <tr>\n",
       "      <th>22</th>\n",
       "      <td>2002.0</td>\n",
       "      <td>10356</td>\n",
       "      <td>0.8410</td>\n",
       "      <td>0.2620</td>\n",
       "    </tr>\n",
       "    <tr>\n",
       "      <th>23</th>\n",
       "      <td>2003.0</td>\n",
       "      <td>10170</td>\n",
       "      <td>0.8460</td>\n",
       "      <td>0.2670</td>\n",
       "    </tr>\n",
       "    <tr>\n",
       "      <th>24</th>\n",
       "      <td>2004.0</td>\n",
       "      <td>10167</td>\n",
       "      <td>0.8460</td>\n",
       "      <td>0.2770</td>\n",
       "    </tr>\n",
       "    <tr>\n",
       "      <th>25</th>\n",
       "      <td>2005.0</td>\n",
       "      <td>10609</td>\n",
       "      <td>0.8520</td>\n",
       "      <td>0.2770</td>\n",
       "    </tr>\n",
       "    <tr>\n",
       "      <th>26</th>\n",
       "      <td>2006.0</td>\n",
       "      <td>10992</td>\n",
       "      <td>0.8550</td>\n",
       "      <td>0.2800</td>\n",
       "    </tr>\n",
       "    <tr>\n",
       "      <th>27</th>\n",
       "      <td>2007.0</td>\n",
       "      <td>10822</td>\n",
       "      <td>0.8570</td>\n",
       "      <td>0.2870</td>\n",
       "    </tr>\n",
       "    <tr>\n",
       "      <th>28</th>\n",
       "      <td>2008.0</td>\n",
       "      <td>9819</td>\n",
       "      <td>0.8660</td>\n",
       "      <td>0.2940</td>\n",
       "    </tr>\n",
       "    <tr>\n",
       "      <th>29</th>\n",
       "      <td>2009.0</td>\n",
       "      <td>10495</td>\n",
       "      <td>0.8670</td>\n",
       "      <td>0.2950</td>\n",
       "    </tr>\n",
       "    <tr>\n",
       "      <th>30</th>\n",
       "      <td>2010.0</td>\n",
       "      <td>10058</td>\n",
       "      <td>0.8710</td>\n",
       "      <td>0.2990</td>\n",
       "    </tr>\n",
       "    <tr>\n",
       "      <th>31</th>\n",
       "      <td>2011.0</td>\n",
       "      <td>9763</td>\n",
       "      <td>0.8760</td>\n",
       "      <td>0.3040</td>\n",
       "    </tr>\n",
       "    <tr>\n",
       "      <th>32</th>\n",
       "      <td>2012.0</td>\n",
       "      <td>9836</td>\n",
       "      <td>0.8760</td>\n",
       "      <td>0.3090</td>\n",
       "    </tr>\n",
       "    <tr>\n",
       "      <th>33</th>\n",
       "      <td>2013.0</td>\n",
       "      <td>9428</td>\n",
       "      <td>0.8820</td>\n",
       "      <td>0.3170</td>\n",
       "    </tr>\n",
       "    <tr>\n",
       "      <th>34</th>\n",
       "      <td>2014.0</td>\n",
       "      <td>9400</td>\n",
       "      <td>0.8830</td>\n",
       "      <td>0.3200</td>\n",
       "    </tr>\n",
       "  </tbody>\n",
       "</table>\n",
       "</div>"
      ],
      "text/plain": [
       "      year  count    high  college\n",
       "0   1980.0  16202  0.6650   0.1620\n",
       "1   1981.0  15377  0.6798   0.1684\n",
       "2   1982.0  14658  0.6946   0.1748\n",
       "3   1983.0  14014  0.7094   0.1812\n",
       "4   1984.0  12773  0.7242   0.1876\n",
       "5   1985.0  13151  0.7390   0.1940\n",
       "6   1986.0  14328  0.7464   0.1978\n",
       "7   1987.0  12981  0.7538   0.2016\n",
       "8   1988.0  12817  0.7612   0.2054\n",
       "9   1989.0  13539  0.7686   0.2092\n",
       "10  1990.0  14234  0.7760   0.2130\n",
       "11  1991.0  14615  0.7840   0.2140\n",
       "12  1992.0  15040  0.7940   0.2140\n",
       "13  1993.0  15325  0.8020   0.2190\n",
       "14  1994.0  14626  0.8090   0.2220\n",
       "15  1995.0  13339  0.8170   0.2300\n",
       "16  1996.0  12177  0.8170   0.2300\n",
       "17  1997.0  11237  0.8210   0.2360\n",
       "18  1998.0  10445  0.8280   0.2390\n",
       "19  1999.0   9514  0.8340   0.2440\n",
       "20  2000.0   9359  0.8410   0.2520\n",
       "21  2001.0  10033  0.8410   0.2560\n",
       "22  2002.0  10356  0.8410   0.2620\n",
       "23  2003.0  10170  0.8460   0.2670\n",
       "24  2004.0  10167  0.8460   0.2770\n",
       "25  2005.0  10609  0.8520   0.2770\n",
       "26  2006.0  10992  0.8550   0.2800\n",
       "27  2007.0  10822  0.8570   0.2870\n",
       "28  2008.0   9819  0.8660   0.2940\n",
       "29  2009.0  10495  0.8670   0.2950\n",
       "30  2010.0  10058  0.8710   0.2990\n",
       "31  2011.0   9763  0.8760   0.3040\n",
       "32  2012.0   9836  0.8760   0.3090\n",
       "33  2013.0   9428  0.8820   0.3170\n",
       "34  2014.0   9400  0.8830   0.3200"
      ]
     },
     "execution_count": 168,
     "metadata": {},
     "output_type": "execute_result"
    }
   ],
   "source": [
    "v5_1"
   ]
  },
  {
   "cell_type": "markdown",
   "metadata": {},
   "source": [
    "##### Now we can see the comparison between high school graduate ratio vs. crime"
   ]
  },
  {
   "cell_type": "code",
   "execution_count": 173,
   "metadata": {},
   "outputs": [
    {
     "data": {
      "text/plain": [
       "Text(0.5,0,'year')"
      ]
     },
     "execution_count": 173,
     "metadata": {},
     "output_type": "execute_result"
    },
    {
     "data": {
      "image/png": "[encoded data removed]",
      "text/plain": [
       "<Figure size 432x288 with 2 Axes>"
      ]
     },
     "metadata": {
      "needs_background": "light"
     },
     "output_type": "display_data"
    }
   ],
   "source": [
    "x_axix=v5_1.year\n",
    "crime=v5_1[\"count\"]\n",
    "high_rate=v5_1.high\n",
    "college_rate=v5_1.college\n",
    "\n",
    "fig = plt.figure()\n",
    "ax1 = fig.add_subplot(111)\n",
    "ax1.plot(x_axix,crime )\n",
    "ax1.set_ylabel('crime')\n",
    "ax1.set_title(\"high_grad_rate vs crime\")\n",
    "\n",
    "ax2 = ax1.twinx()  # this is the important function\n",
    "ax2.plot(x_axix,high_rate, 'r')\n",
    "#ax2.set_xlim([0, np.e])\n",
    "ax2.set_ylabel('highschool graduation rate')\n",
    "ax2.set_xlabel('year')\n"
   ]
  },
  {
   "cell_type": "markdown",
   "metadata": {},
   "source": [
    "##### the comparison between college graduate ratio vs. crime"
   ]
  },
  {
   "cell_type": "code",
   "execution_count": 174,
   "metadata": {},
   "outputs": [
    {
     "data": {
      "text/plain": [
       "Text(0.5,0,'year')"
      ]
     },
     "execution_count": 174,
     "metadata": {},
     "output_type": "execute_result"
    },
    {
     "data": {
      "image/png": "[encoded data removed]",
      "text/plain": [
       "<Figure size 432x288 with 2 Axes>"
      ]
     },
     "metadata": {
      "needs_background": "light"
     },
     "output_type": "display_data"
    }
   ],
   "source": [
    "fig = plt.figure()\n",
    "ax1 = fig.add_subplot(111)\n",
    "ax1.plot(x_axix,crime )\n",
    "ax1.set_ylabel('crime')\n",
    "ax1.set_title(\"college_grad_rate vs crime\")\n",
    "\n",
    "ax2 = ax1.twinx()  # this is the important function\n",
    "ax2.plot(x_axix,college_rate, 'r')\n",
    "#ax2.set_xlim([0, np.e])\n",
    "ax2.set_ylabel('college graduation rate')\n",
    "ax2.set_xlabel('year')"
   ]
  },
  {
   "cell_type": "markdown",
   "metadata": {},
   "source": [
    "##### After mapping the college graduate and high school graduate rate with total amount of crime, we can state that higher graduate rate, either on college or on high school, will truly deduct the amount of crime through years."
   ]
  }
 ],
 "metadata": {
  "kernelspec": {
   "display_name": "Python 3",
   "language": "python",
   "name": "python3"
  },
  "language_info": {
   "codemirror_mode": {
    "name": "ipython",
    "version": 3
   },
   "file_extension": ".py",
   "mimetype": "text/x-python",
   "name": "python",
   "nbconvert_exporter": "python",
   "pygments_lexer": "ipython3",
   "version": "3.5.3"
  }
 },
 "nbformat": 4,
 "nbformat_minor": 2
}
